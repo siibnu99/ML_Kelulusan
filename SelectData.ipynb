{
 "cells": [
  {
   "cell_type": "code",
   "execution_count": 1,
   "metadata": {},
   "outputs": [
    {
     "name": "stdout",
     "output_type": "stream",
     "text": [
      "Defaulting to user installation because normal site-packages is not writeable\n",
      "Requirement already satisfied: psycopg2 in /Users/siibnu/Library/Python/3.9/lib/python/site-packages (2.9.9)\n",
      "Defaulting to user installation because normal site-packages is not writeable\n",
      "Requirement already satisfied: pandas in /Users/siibnu/Library/Python/3.9/lib/python/site-packages (2.1.4)\n",
      "Requirement already satisfied: numpy<2,>=1.22.4 in /Users/siibnu/Library/Python/3.9/lib/python/site-packages (from pandas) (1.26.3)\n",
      "Requirement already satisfied: python-dateutil>=2.8.2 in /Users/siibnu/Library/Python/3.9/lib/python/site-packages (from pandas) (2.8.2)\n",
      "Requirement already satisfied: pytz>=2020.1 in /Users/siibnu/Library/Python/3.9/lib/python/site-packages (from pandas) (2023.3.post1)\n",
      "Requirement already satisfied: tzdata>=2022.1 in /Users/siibnu/Library/Python/3.9/lib/python/site-packages (from pandas) (2023.4)\n",
      "Requirement already satisfied: six>=1.5 in /Library/Developer/CommandLineTools/Library/Frameworks/Python3.framework/Versions/3.9/lib/python3.9/site-packages (from python-dateutil>=2.8.2->pandas) (1.15.0)\n"
     ]
    }
   ],
   "source": [
    "!pip3 install psycopg2\n",
    "!pip3 install pandas"
   ]
  },
  {
   "cell_type": "code",
   "execution_count": 3,
   "metadata": {},
   "outputs": [],
   "source": [
    "\n",
    "import psycopg2\n",
    "import pandas as pd\n"
   ]
  },
  {
   "cell_type": "code",
   "execution_count": 4,
   "metadata": {},
   "outputs": [],
   "source": [
    "conn = psycopg2.connect(database=\"ponorogo\",\n",
    "                        host=\"localhost\",\n",
    "                        user=\"postgres\",\n",
    "                        password=\"\",\n",
    "                        port=\"5432\",\n",
    "                        options=\"-c search_path=akademik\")\n",
    "cursor = conn.cursor()"
   ]
  },
  {
   "cell_type": "code",
   "execution_count": 5,
   "metadata": {},
   "outputs": [],
   "source": [
    "def fetch_data_with_columns(table_name, limit=10, offset=0):\n",
    "\n",
    "    # Eksekusi query untuk mendapatkan semua data dan nama kolom dari tabel\n",
    "    query = f\"SELECT * FROM {table_name} LIMIT {limit} OFFSET {offset}\"\n",
    "    cursor.execute(query)\n",
    "\n",
    "    # Ambil nama kolom dari cursor.description\n",
    "    column_names = [desc[0] for desc in cursor.description]\n",
    "\n",
    "    # Ambil semua data\n",
    "    data = cursor.fetchall()\n",
    "\n",
    "    # Tutup koneksi\n",
    "    cursor.close()\n",
    "\n",
    "    return column_names, data"
   ]
  },
  {
   "cell_type": "code",
   "execution_count": 6,
   "metadata": {},
   "outputs": [
    {
     "data": {
      "text/html": [
       "<div>\n",
       "<style scoped>\n",
       "    .dataframe tbody tr th:only-of-type {\n",
       "        vertical-align: middle;\n",
       "    }\n",
       "\n",
       "    .dataframe tbody tr th {\n",
       "        vertical-align: top;\n",
       "    }\n",
       "\n",
       "    .dataframe thead th {\n",
       "        text-align: right;\n",
       "    }\n",
       "</style>\n",
       "<table border=\"1\" class=\"dataframe\">\n",
       "  <thead>\n",
       "    <tr style=\"text-align: right;\">\n",
       "      <th></th>\n",
       "      <th>id_status_mahasiswa</th>\n",
       "      <th>nama_status_mahasiswa</th>\n",
       "    </tr>\n",
       "  </thead>\n",
       "  <tbody>\n",
       "    <tr>\n",
       "      <th>0</th>\n",
       "      <td>A</td>\n",
       "      <td>AKTIF</td>\n",
       "    </tr>\n",
       "    <tr>\n",
       "      <th>1</th>\n",
       "      <td>C</td>\n",
       "      <td>CUTI</td>\n",
       "    </tr>\n",
       "    <tr>\n",
       "      <th>2</th>\n",
       "      <td>G</td>\n",
       "      <td>SEDANG DOUBLE DEGREE</td>\n",
       "    </tr>\n",
       "    <tr>\n",
       "      <th>3</th>\n",
       "      <td>N</td>\n",
       "      <td>NON-AKTIF</td>\n",
       "    </tr>\n",
       "    <tr>\n",
       "      <th>4</th>\n",
       "      <td>L</td>\n",
       "      <td>LULUS</td>\n",
       "    </tr>\n",
       "    <tr>\n",
       "      <th>5</th>\n",
       "      <td>K</td>\n",
       "      <td>MENGUNDURKAN DIRI</td>\n",
       "    </tr>\n",
       "    <tr>\n",
       "      <th>6</th>\n",
       "      <td>P</td>\n",
       "      <td>MUTASI</td>\n",
       "    </tr>\n",
       "    <tr>\n",
       "      <th>7</th>\n",
       "      <td>U</td>\n",
       "      <td>PUTUS SEKOLAH</td>\n",
       "    </tr>\n",
       "    <tr>\n",
       "      <th>8</th>\n",
       "      <td>W</td>\n",
       "      <td>WAFAT</td>\n",
       "    </tr>\n",
       "    <tr>\n",
       "      <th>9</th>\n",
       "      <td>H</td>\n",
       "      <td>HILANG</td>\n",
       "    </tr>\n",
       "  </tbody>\n",
       "</table>\n",
       "</div>"
      ],
      "text/plain": [
       "  id_status_mahasiswa nama_status_mahasiswa\n",
       "0                   A                 AKTIF\n",
       "1                   C                  CUTI\n",
       "2                   G  SEDANG DOUBLE DEGREE\n",
       "3                   N             NON-AKTIF\n",
       "4                   L                 LULUS\n",
       "5                   K     MENGUNDURKAN DIRI\n",
       "6                   P                MUTASI\n",
       "7                   U         PUTUS SEKOLAH\n",
       "8                   W                 WAFAT\n",
       "9                   H                HILANG"
      ]
     },
     "execution_count": 6,
     "metadata": {},
     "output_type": "execute_result"
    }
   ],
   "source": [
    "cursor = conn.cursor()\n",
    "columns, data = fetch_data_with_columns(\"ref_status_mahasiswa\")\n",
    "dfStatus = pd.DataFrame(data, columns=columns)\n",
    "dfStatus = dfStatus[['id_status_mahasiswa', 'nama_status_mahasiswa']]\n",
    "dfStatus"
   ]
  },
  {
   "cell_type": "code",
   "execution_count": 7,
   "metadata": {},
   "outputs": [
    {
     "name": "stdout",
     "output_type": "stream",
     "text": [
      "1000 0\n",
      "1000 1000\n",
      "1000 2000\n",
      "1000 3000\n",
      "1000 4000\n"
     ]
    },
    {
     "ename": "KeyboardInterrupt",
     "evalue": "",
     "output_type": "error",
     "traceback": [
      "\u001b[0;31m---------------------------------------------------------------------------\u001b[0m",
      "\u001b[0;31mKeyboardInterrupt\u001b[0m                         Traceback (most recent call last)",
      "Cell \u001b[0;32mIn[7], line 9\u001b[0m\n\u001b[1;32m      7\u001b[0m \u001b[38;5;28mprint\u001b[39m(limit, offset)\n\u001b[1;32m      8\u001b[0m cursor \u001b[38;5;241m=\u001b[39m conn\u001b[38;5;241m.\u001b[39mcursor()\n\u001b[0;32m----> 9\u001b[0m columns, data \u001b[38;5;241m=\u001b[39m \u001b[43mfetch_data_with_columns\u001b[49m\u001b[43m(\u001b[49m\u001b[38;5;124;43m\"\u001b[39;49m\u001b[38;5;124;43mview_mahasiswa_predict\u001b[39;49m\u001b[38;5;124;43m\"\u001b[39;49m\u001b[43m,\u001b[49m\u001b[43m \u001b[49m\u001b[43mlimit\u001b[49m\u001b[43m,\u001b[49m\u001b[43m \u001b[49m\u001b[43moffset\u001b[49m\u001b[43m)\u001b[49m\n\u001b[1;32m     10\u001b[0m allData \u001b[38;5;241m=\u001b[39m allData \u001b[38;5;241m+\u001b[39m data\n\u001b[1;32m     11\u001b[0m offset \u001b[38;5;241m=\u001b[39m offset \u001b[38;5;241m+\u001b[39m limit\n",
      "Cell \u001b[0;32mIn[5], line 5\u001b[0m, in \u001b[0;36mfetch_data_with_columns\u001b[0;34m(table_name, limit, offset)\u001b[0m\n\u001b[1;32m      1\u001b[0m \u001b[38;5;28;01mdef\u001b[39;00m \u001b[38;5;21mfetch_data_with_columns\u001b[39m(table_name, limit\u001b[38;5;241m=\u001b[39m\u001b[38;5;241m10\u001b[39m, offset\u001b[38;5;241m=\u001b[39m\u001b[38;5;241m0\u001b[39m):\n\u001b[1;32m      2\u001b[0m \n\u001b[1;32m      3\u001b[0m     \u001b[38;5;66;03m# Eksekusi query untuk mendapatkan semua data dan nama kolom dari tabel\u001b[39;00m\n\u001b[1;32m      4\u001b[0m     query \u001b[38;5;241m=\u001b[39m \u001b[38;5;124mf\u001b[39m\u001b[38;5;124m\"\u001b[39m\u001b[38;5;124mSELECT * FROM \u001b[39m\u001b[38;5;132;01m{\u001b[39;00mtable_name\u001b[38;5;132;01m}\u001b[39;00m\u001b[38;5;124m LIMIT \u001b[39m\u001b[38;5;132;01m{\u001b[39;00mlimit\u001b[38;5;132;01m}\u001b[39;00m\u001b[38;5;124m OFFSET \u001b[39m\u001b[38;5;132;01m{\u001b[39;00moffset\u001b[38;5;132;01m}\u001b[39;00m\u001b[38;5;124m\"\u001b[39m\n\u001b[0;32m----> 5\u001b[0m     \u001b[43mcursor\u001b[49m\u001b[38;5;241;43m.\u001b[39;49m\u001b[43mexecute\u001b[49m\u001b[43m(\u001b[49m\u001b[43mquery\u001b[49m\u001b[43m)\u001b[49m\n\u001b[1;32m      7\u001b[0m     \u001b[38;5;66;03m# Ambil nama kolom dari cursor.description\u001b[39;00m\n\u001b[1;32m      8\u001b[0m     column_names \u001b[38;5;241m=\u001b[39m [desc[\u001b[38;5;241m0\u001b[39m] \u001b[38;5;28;01mfor\u001b[39;00m desc \u001b[38;5;129;01min\u001b[39;00m cursor\u001b[38;5;241m.\u001b[39mdescription]\n",
      "File \u001b[0;32m/Library/Developer/CommandLineTools/Library/Frameworks/Python3.framework/Versions/3.9/lib/python3.9/encodings/utf_8.py:15\u001b[0m, in \u001b[0;36mdecode\u001b[0;34m(input, errors)\u001b[0m\n\u001b[1;32m     11\u001b[0m \u001b[38;5;66;03m### Codec APIs\u001b[39;00m\n\u001b[1;32m     13\u001b[0m encode \u001b[38;5;241m=\u001b[39m codecs\u001b[38;5;241m.\u001b[39mutf_8_encode\n\u001b[0;32m---> 15\u001b[0m \u001b[38;5;28;01mdef\u001b[39;00m \u001b[38;5;21mdecode\u001b[39m(\u001b[38;5;28minput\u001b[39m, errors\u001b[38;5;241m=\u001b[39m\u001b[38;5;124m'\u001b[39m\u001b[38;5;124mstrict\u001b[39m\u001b[38;5;124m'\u001b[39m):\n\u001b[1;32m     16\u001b[0m     \u001b[38;5;28;01mreturn\u001b[39;00m codecs\u001b[38;5;241m.\u001b[39mutf_8_decode(\u001b[38;5;28minput\u001b[39m, errors, \u001b[38;5;28;01mTrue\u001b[39;00m)\n\u001b[1;32m     18\u001b[0m \u001b[38;5;28;01mclass\u001b[39;00m \u001b[38;5;21;01mIncrementalEncoder\u001b[39;00m(codecs\u001b[38;5;241m.\u001b[39mIncrementalEncoder):\n",
      "\u001b[0;31mKeyboardInterrupt\u001b[0m: "
     ]
    }
   ],
   "source": [
    "cursor = conn.cursor()\n",
    "limit = 1000\n",
    "offset = 0\n",
    "allData = []\n",
    "df = pd.DataFrame()\n",
    "for i in range(1, 5):\n",
    "    print(limit, offset)\n",
    "    cursor = conn.cursor()\n",
    "    columns, data = fetch_data_with_columns(\"view_mahasiswa_predict\", limit, offset)\n",
    "    allData = allData + data\n",
    "    offset = offset + limit\n",
    "\n"
   ]
  },
  {
   "cell_type": "code",
   "execution_count": null,
   "metadata": {},
   "outputs": [
    {
     "ename": "NameError",
     "evalue": "name 'allData' is not defined",
     "output_type": "error",
     "traceback": [
      "\u001b[0;31m---------------------------------------------------------------------------\u001b[0m",
      "\u001b[0;31mNameError\u001b[0m                                 Traceback (most recent call last)",
      "Cell \u001b[0;32mIn[1], line 1\u001b[0m\n\u001b[0;32m----> 1\u001b[0m \u001b[43mallData\u001b[49m\n",
      "\u001b[0;31mNameError\u001b[0m: name 'allData' is not defined"
     ]
    }
   ],
   "source": [
    "allData"
   ]
  },
  {
   "cell_type": "code",
   "execution_count": null,
   "metadata": {},
   "outputs": [],
   "source": [
    "df = pd.DataFrame(allData, columns=columns)"
   ]
  },
  {
   "cell_type": "code",
   "execution_count": null,
   "metadata": {},
   "outputs": [
    {
     "ename": "NameError",
     "evalue": "name 'df' is not defined",
     "output_type": "error",
     "traceback": [
      "\u001b[0;31m---------------------------------------------------------------------------\u001b[0m",
      "\u001b[0;31mNameError\u001b[0m                                 Traceback (most recent call last)",
      "Cell \u001b[0;32mIn[2], line 1\u001b[0m\n\u001b[0;32m----> 1\u001b[0m \u001b[43mdf\u001b[49m\u001b[38;5;241m.\u001b[39mshape\n",
      "\u001b[0;31mNameError\u001b[0m: name 'df' is not defined"
     ]
    }
   ],
   "source": [
    "df.shape"
   ]
  },
  {
   "cell_type": "code",
   "execution_count": null,
   "metadata": {},
   "outputs": [
    {
     "data": {
      "text/html": [
       "<div>\n",
       "<style scoped>\n",
       "    .dataframe tbody tr th:only-of-type {\n",
       "        vertical-align: middle;\n",
       "    }\n",
       "\n",
       "    .dataframe tbody tr th {\n",
       "        vertical-align: top;\n",
       "    }\n",
       "\n",
       "    .dataframe thead th {\n",
       "        text-align: right;\n",
       "    }\n",
       "</style>\n",
       "<table border=\"1\" class=\"dataframe\">\n",
       "  <thead>\n",
       "    <tr style=\"text-align: right;\">\n",
       "      <th></th>\n",
       "      <th>tahun_masuk</th>\n",
       "      <th>jenis_kelamin</th>\n",
       "      <th>id_prodi</th>\n",
       "      <th>id_status_masuk_mahasiswa</th>\n",
       "      <th>sks</th>\n",
       "      <th>kode_tahun_ajaran</th>\n",
       "      <th>id_status_mahasiswa</th>\n",
       "    </tr>\n",
       "  </thead>\n",
       "  <tbody>\n",
       "    <tr>\n",
       "      <th>0</th>\n",
       "      <td>2019</td>\n",
       "      <td>Perempuan</td>\n",
       "      <td>00042efb-9c8f-11ec-8c04-3a3343etik21</td>\n",
       "      <td>P</td>\n",
       "      <td>3.3181818181818182</td>\n",
       "      <td>20191</td>\n",
       "      <td>N</td>\n",
       "    </tr>\n",
       "    <tr>\n",
       "      <th>1</th>\n",
       "      <td>2019</td>\n",
       "      <td>Perempuan</td>\n",
       "      <td>00042efb-9c8f-11ec-8c04-3a3343etik21</td>\n",
       "      <td>P</td>\n",
       "      <td>3.4318181818181818</td>\n",
       "      <td>20192</td>\n",
       "      <td>N</td>\n",
       "    </tr>\n",
       "    <tr>\n",
       "      <th>2</th>\n",
       "      <td>2019</td>\n",
       "      <td>Perempuan</td>\n",
       "      <td>00042efb-9c8f-11ec-8c04-3a3343etik21</td>\n",
       "      <td>P</td>\n",
       "      <td>3.2500000000000000</td>\n",
       "      <td>20201</td>\n",
       "      <td>N</td>\n",
       "    </tr>\n",
       "    <tr>\n",
       "      <th>3</th>\n",
       "      <td>2019</td>\n",
       "      <td>Perempuan</td>\n",
       "      <td>00042efb-9c8f-11ec-8c04-3a3343etik21</td>\n",
       "      <td>P</td>\n",
       "      <td>3.2727272727272727</td>\n",
       "      <td>20202</td>\n",
       "      <td>N</td>\n",
       "    </tr>\n",
       "    <tr>\n",
       "      <th>4</th>\n",
       "      <td>2019</td>\n",
       "      <td>Perempuan</td>\n",
       "      <td>00042efb-9c8f-11ec-8c04-3a3343etik21</td>\n",
       "      <td>P</td>\n",
       "      <td>3.3863636363636364</td>\n",
       "      <td>20211</td>\n",
       "      <td>N</td>\n",
       "    </tr>\n",
       "  </tbody>\n",
       "</table>\n",
       "</div>"
      ],
      "text/plain": [
       "  tahun_masuk jenis_kelamin                              id_prodi  \\\n",
       "0        2019     Perempuan  00042efb-9c8f-11ec-8c04-3a3343etik21   \n",
       "1        2019     Perempuan  00042efb-9c8f-11ec-8c04-3a3343etik21   \n",
       "2        2019     Perempuan  00042efb-9c8f-11ec-8c04-3a3343etik21   \n",
       "3        2019     Perempuan  00042efb-9c8f-11ec-8c04-3a3343etik21   \n",
       "4        2019     Perempuan  00042efb-9c8f-11ec-8c04-3a3343etik21   \n",
       "\n",
       "  id_status_masuk_mahasiswa                 sks kode_tahun_ajaran  \\\n",
       "0                         P  3.3181818181818182             20191   \n",
       "1                         P  3.4318181818181818             20192   \n",
       "2                         P  3.2500000000000000             20201   \n",
       "3                         P  3.2727272727272727             20202   \n",
       "4                         P  3.3863636363636364             20211   \n",
       "\n",
       "  id_status_mahasiswa  \n",
       "0                   N  \n",
       "1                   N  \n",
       "2                   N  \n",
       "3                   N  \n",
       "4                   N  "
      ]
     },
     "execution_count": 71,
     "metadata": {},
     "output_type": "execute_result"
    }
   ],
   "source": [
    "df.head()"
   ]
  },
  {
   "cell_type": "code",
   "execution_count": null,
   "metadata": {},
   "outputs": [
    {
     "name": "stdout",
     "output_type": "stream",
     "text": [
      "<class 'pandas.core.frame.DataFrame'>\n",
      "RangeIndex: 300000 entries, 0 to 299999\n",
      "Data columns (total 7 columns):\n",
      " #   Column                     Non-Null Count   Dtype \n",
      "---  ------                     --------------   ----- \n",
      " 0   tahun_masuk                300000 non-null  object\n",
      " 1   jenis_kelamin              300000 non-null  object\n",
      " 2   id_prodi                   300000 non-null  object\n",
      " 3   id_status_masuk_mahasiswa  300000 non-null  object\n",
      " 4   sks                        299937 non-null  object\n",
      " 5   kode_tahun_ajaran          300000 non-null  object\n",
      " 6   id_status_mahasiswa        300000 non-null  object\n",
      "dtypes: object(7)\n",
      "memory usage: 16.0+ MB\n"
     ]
    }
   ],
   "source": [
    "df.info()"
   ]
  },
  {
   "cell_type": "code",
   "execution_count": null,
   "metadata": {},
   "outputs": [
    {
     "data": {
      "text/plain": [
       "tahun_masuk                   0\n",
       "jenis_kelamin                 0\n",
       "id_prodi                      0\n",
       "id_status_masuk_mahasiswa     0\n",
       "sks                          63\n",
       "kode_tahun_ajaran             0\n",
       "id_status_mahasiswa           0\n",
       "dtype: int64"
      ]
     },
     "execution_count": 81,
     "metadata": {},
     "output_type": "execute_result"
    }
   ],
   "source": [
    "df.isnull().sum()"
   ]
  },
  {
   "cell_type": "code",
   "execution_count": null,
   "metadata": {},
   "outputs": [],
   "source": [
    "# remove missing values\n",
    "df.dropna(inplace=True)"
   ]
  },
  {
   "cell_type": "code",
   "execution_count": null,
   "metadata": {},
   "outputs": [
    {
     "data": {
      "text/plain": [
       "tahun_masuk                  0\n",
       "jenis_kelamin                0\n",
       "id_prodi                     0\n",
       "id_status_masuk_mahasiswa    0\n",
       "sks                          0\n",
       "kode_tahun_ajaran            0\n",
       "id_status_mahasiswa          0\n",
       "dtype: int64"
      ]
     },
     "execution_count": 83,
     "metadata": {},
     "output_type": "execute_result"
    }
   ],
   "source": [
    "df.isnull().sum()"
   ]
  },
  {
   "cell_type": "code",
   "execution_count": null,
   "metadata": {},
   "outputs": [
    {
     "name": "stdout",
     "output_type": "stream",
     "text": [
      "<class 'pandas.core.frame.DataFrame'>\n",
      "Index: 299937 entries, 0 to 299999\n",
      "Data columns (total 7 columns):\n",
      " #   Column                     Non-Null Count   Dtype \n",
      "---  ------                     --------------   ----- \n",
      " 0   tahun_masuk                299937 non-null  object\n",
      " 1   jenis_kelamin              299937 non-null  object\n",
      " 2   id_prodi                   299937 non-null  object\n",
      " 3   id_status_masuk_mahasiswa  299937 non-null  object\n",
      " 4   sks                        299937 non-null  object\n",
      " 5   kode_tahun_ajaran          299937 non-null  object\n",
      " 6   id_status_mahasiswa        299937 non-null  object\n",
      "dtypes: object(7)\n",
      "memory usage: 18.3+ MB\n"
     ]
    }
   ],
   "source": [
    "df.info()"
   ]
  },
  {
   "cell_type": "code",
   "execution_count": null,
   "metadata": {},
   "outputs": [
    {
     "name": "stdout",
     "output_type": "stream",
     "text": [
      "Column tahun_masuk has 1 unique values\n",
      "Column jenis_kelamin has 2 unique values\n",
      "Column id_prodi has 6 unique values\n",
      "Column id_status_masuk_mahasiswa has 2 unique values\n",
      "Column sks has 1615 unique values\n",
      "Column kode_tahun_ajaran has 8 unique values\n",
      "Column id_status_mahasiswa has 2 unique values\n"
     ]
    }
   ],
   "source": [
    "# foreach data all\n",
    "for column in df.columns:\n",
    "    print(f\"Column {column} has {df[column].nunique()} unique values\")\n"
   ]
  },
  {
   "cell_type": "code",
   "execution_count": null,
   "metadata": {},
   "outputs": [],
   "source": [
    "# remove kode_tahun_ajaran except 20191, 20192, 20201, 20202, 20211, 20212, 20221, 20222\n",
    "df = df[df['kode_tahun_ajaran'].isin(['20191', '20192', '20201', '20202', '20211', '20212', '20221', '20222'])]"
   ]
  },
  {
   "cell_type": "code",
   "execution_count": null,
   "metadata": {},
   "outputs": [
    {
     "name": "stdout",
     "output_type": "stream",
     "text": [
      "Column tahun_masuk has 1 unique values\n",
      "Column jenis_kelamin has 2 unique values\n",
      "Column id_prodi has 6 unique values\n",
      "Column id_status_masuk_mahasiswa has 2 unique values\n",
      "Column sks has 1549 unique values\n",
      "Column kode_tahun_ajaran has 8 unique values\n",
      "Column id_status_mahasiswa has 2 unique values\n"
     ]
    }
   ],
   "source": [
    "# foreach data all\n",
    "for column in df.columns:\n",
    "    print(f\"Column {column} has {df[column].nunique()} unique values\")\n"
   ]
  },
  {
   "cell_type": "code",
   "execution_count": null,
   "metadata": {},
   "outputs": [],
   "source": [
    "data = []\n",
    "for index, row in df.iterrows():\n",
    "    if(index % 8 == 0):\n",
    "        data.append(row)\n",
    "    indexAdd = len(data) - 1\n",
    "    # bulatkan nilai IPS ke 2 angka dibelakang koma\n",
    "    row['sks'] = round(row['sks'], 2)\n",
    "    if row['kode_tahun_ajaran'] == '20191':\n",
    "        data[indexAdd]['IPS1'] = row['sks']\n",
    "    elif row['kode_tahun_ajaran'] == '20192':\n",
    "        data[indexAdd]['IPS2'] = row['sks']\n",
    "    elif row['kode_tahun_ajaran'] == '20201':\n",
    "        data[indexAdd]['IPS3'] = row['sks']\n",
    "    elif row['kode_tahun_ajaran'] == '20202':\n",
    "        data[indexAdd]['IPS4'] = row['sks']\n",
    "    elif row['kode_tahun_ajaran'] == '20211':\n",
    "        data[indexAdd]['IPS5'] = row['sks']\n",
    "    elif row['kode_tahun_ajaran'] == '20212':\n",
    "        data[indexAdd]['IPS6'] = row['sks']\n",
    "    elif row['kode_tahun_ajaran'] == '20221':\n",
    "        data[indexAdd]['IPS7'] = row['sks']\n",
    "    elif row['kode_tahun_ajaran'] == '20222':\n",
    "        data[indexAdd]['IPS8'] = row['sks']\n",
    "    else:\n",
    "        print('unknown')"
   ]
  },
  {
   "cell_type": "code",
   "execution_count": null,
   "metadata": {},
   "outputs": [],
   "source": [
    "data = []\n",
    "for index, row in df.iterrows():\n",
    "    if(index % 8 == 0):\n",
    "        data.append(row)\n",
    "    indexAdd = len(data) - 1\n",
    "    # bulatkan nilai IPS ke 2 angka dibelakang koma\n",
    "    row['ips'] = round(row['ips'], 2)\n",
    "    if row['kode_tahun_ajaran'] == '20191':\n",
    "        data[indexAdd]['IPS1'] = row['ips']\n",
    "    elif row['kode_tahun_ajaran'] == '20192':\n",
    "        data[indexAdd]['IPS2'] = row['ips']\n",
    "    elif row['kode_tahun_ajaran'] == '20201':\n",
    "        data[indexAdd]['IPS3'] = row['ips']\n",
    "    elif row['kode_tahun_ajaran'] == '20202':\n",
    "        data[indexAdd]['IPS4'] = row['ips']\n",
    "    elif row['kode_tahun_ajaran'] == '20211':\n",
    "        data[indexAdd]['IPS5'] = row['ips']\n",
    "    elif row['kode_tahun_ajaran'] == '20212':\n",
    "        data[indexAdd]['IPS6'] = row['ips']\n",
    "    elif row['kode_tahun_ajaran'] == '20221':\n",
    "        data[indexAdd]['IPS7'] = row['ips']\n",
    "    elif row['kode_tahun_ajaran'] == '20222':\n",
    "        data[indexAdd]['IPS8'] = row['ips']\n",
    "    else:\n",
    "        print('unknown')"
   ]
  },
  {
   "cell_type": "code",
   "execution_count": null,
   "metadata": {},
   "outputs": [],
   "source": [
    "dfFinal = pd.DataFrame(data)"
   ]
  },
  {
   "cell_type": "code",
   "execution_count": null,
   "metadata": {},
   "outputs": [
    {
     "data": {
      "text/html": [
       "<div>\n",
       "<style scoped>\n",
       "    .dataframe tbody tr th:only-of-type {\n",
       "        vertical-align: middle;\n",
       "    }\n",
       "\n",
       "    .dataframe tbody tr th {\n",
       "        vertical-align: top;\n",
       "    }\n",
       "\n",
       "    .dataframe thead th {\n",
       "        text-align: right;\n",
       "    }\n",
       "</style>\n",
       "<table border=\"1\" class=\"dataframe\">\n",
       "  <thead>\n",
       "    <tr style=\"text-align: right;\">\n",
       "      <th></th>\n",
       "      <th>tahun_masuk</th>\n",
       "      <th>jenis_kelamin</th>\n",
       "      <th>id_prodi</th>\n",
       "      <th>id_status_masuk_mahasiswa</th>\n",
       "      <th>sks</th>\n",
       "      <th>kode_tahun_ajaran</th>\n",
       "      <th>id_status_mahasiswa</th>\n",
       "      <th>IPS1</th>\n",
       "      <th>IPS2</th>\n",
       "      <th>IPS3</th>\n",
       "      <th>IPS4</th>\n",
       "      <th>IPS5</th>\n",
       "      <th>IPS6</th>\n",
       "      <th>IPS7</th>\n",
       "      <th>IPS8</th>\n",
       "    </tr>\n",
       "  </thead>\n",
       "  <tbody>\n",
       "    <tr>\n",
       "      <th>0</th>\n",
       "      <td>2019</td>\n",
       "      <td>Perempuan</td>\n",
       "      <td>00042efb-9c8f-11ec-8c04-3a3343etik21</td>\n",
       "      <td>P</td>\n",
       "      <td>3.32</td>\n",
       "      <td>20191</td>\n",
       "      <td>N</td>\n",
       "      <td>3.32</td>\n",
       "      <td>3.43</td>\n",
       "      <td>3.25</td>\n",
       "      <td>3.27</td>\n",
       "      <td>3.39</td>\n",
       "      <td>3.66</td>\n",
       "      <td>3.88</td>\n",
       "      <td>3.25</td>\n",
       "    </tr>\n",
       "    <tr>\n",
       "      <th>8</th>\n",
       "      <td>2019</td>\n",
       "      <td>Perempuan</td>\n",
       "      <td>00042efb-9c8f-11ec-8c04-3a3343etik21</td>\n",
       "      <td>P</td>\n",
       "      <td>3.52</td>\n",
       "      <td>20191</td>\n",
       "      <td>N</td>\n",
       "      <td>3.52</td>\n",
       "      <td>3.48</td>\n",
       "      <td>3.39</td>\n",
       "      <td>3.59</td>\n",
       "      <td>3.55</td>\n",
       "      <td>3.59</td>\n",
       "      <td>3.82</td>\n",
       "      <td>0.00</td>\n",
       "    </tr>\n",
       "    <tr>\n",
       "      <th>16</th>\n",
       "      <td>2019</td>\n",
       "      <td>Perempuan</td>\n",
       "      <td>00042efb-9c8f-11ec-8c04-3a3343etik21</td>\n",
       "      <td>P</td>\n",
       "      <td>3.40</td>\n",
       "      <td>20201</td>\n",
       "      <td>N</td>\n",
       "      <td>3.77</td>\n",
       "      <td>3.62</td>\n",
       "      <td>3.40</td>\n",
       "      <td>3.11</td>\n",
       "      <td>3.01</td>\n",
       "      <td>3.13</td>\n",
       "      <td>3.19</td>\n",
       "      <td>3.12</td>\n",
       "    </tr>\n",
       "    <tr>\n",
       "      <th>24</th>\n",
       "      <td>2019</td>\n",
       "      <td>Perempuan</td>\n",
       "      <td>00042efb-9c8f-11ec-8c04-3a3343etik21</td>\n",
       "      <td>P</td>\n",
       "      <td>3.57</td>\n",
       "      <td>20201</td>\n",
       "      <td>N</td>\n",
       "      <td>3.22</td>\n",
       "      <td>3.12</td>\n",
       "      <td>3.25</td>\n",
       "      <td>3.19</td>\n",
       "      <td>NaN</td>\n",
       "      <td>NaN</td>\n",
       "      <td>3.35</td>\n",
       "      <td>3.67</td>\n",
       "    </tr>\n",
       "    <tr>\n",
       "      <th>32</th>\n",
       "      <td>2019</td>\n",
       "      <td>Perempuan</td>\n",
       "      <td>00042efb-9c8f-11ec-8c04-3a3343etik21</td>\n",
       "      <td>P</td>\n",
       "      <td>3.04</td>\n",
       "      <td>20211</td>\n",
       "      <td>N</td>\n",
       "      <td>3.59</td>\n",
       "      <td>3.71</td>\n",
       "      <td>NaN</td>\n",
       "      <td>NaN</td>\n",
       "      <td>3.04</td>\n",
       "      <td>3.58</td>\n",
       "      <td>3.30</td>\n",
       "      <td>3.46</td>\n",
       "    </tr>\n",
       "  </tbody>\n",
       "</table>\n",
       "</div>"
      ],
      "text/plain": [
       "   tahun_masuk jenis_kelamin                              id_prodi  \\\n",
       "0         2019     Perempuan  00042efb-9c8f-11ec-8c04-3a3343etik21   \n",
       "8         2019     Perempuan  00042efb-9c8f-11ec-8c04-3a3343etik21   \n",
       "16        2019     Perempuan  00042efb-9c8f-11ec-8c04-3a3343etik21   \n",
       "24        2019     Perempuan  00042efb-9c8f-11ec-8c04-3a3343etik21   \n",
       "32        2019     Perempuan  00042efb-9c8f-11ec-8c04-3a3343etik21   \n",
       "\n",
       "   id_status_masuk_mahasiswa   sks kode_tahun_ajaran id_status_mahasiswa  \\\n",
       "0                          P  3.32             20191                   N   \n",
       "8                          P  3.52             20191                   N   \n",
       "16                         P  3.40             20201                   N   \n",
       "24                         P  3.57             20201                   N   \n",
       "32                         P  3.04             20211                   N   \n",
       "\n",
       "    IPS1  IPS2  IPS3  IPS4  IPS5  IPS6  IPS7  IPS8  \n",
       "0   3.32  3.43  3.25  3.27  3.39  3.66  3.88  3.25  \n",
       "8   3.52  3.48  3.39  3.59  3.55  3.59  3.82  0.00  \n",
       "16  3.77  3.62  3.40  3.11  3.01  3.13  3.19  3.12  \n",
       "24  3.22  3.12  3.25  3.19   NaN   NaN  3.35  3.67  \n",
       "32  3.59  3.71   NaN   NaN  3.04  3.58  3.30  3.46  "
      ]
     },
     "execution_count": 89,
     "metadata": {},
     "output_type": "execute_result"
    }
   ],
   "source": [
    "dfFinal.head()"
   ]
  },
  {
   "cell_type": "code",
   "execution_count": null,
   "metadata": {},
   "outputs": [
    {
     "data": {
      "text/plain": [
       "tahun_masuk                      0\n",
       "jenis_kelamin                    0\n",
       "id_prodi                         0\n",
       "id_status_masuk_mahasiswa        0\n",
       "sks                              0\n",
       "kode_tahun_ajaran                0\n",
       "id_status_mahasiswa              0\n",
       "IPS1                          9964\n",
       "IPS2                         10671\n",
       "IPS3                          5732\n",
       "IPS4                          6650\n",
       "IPS5                          4167\n",
       "IPS6                          5578\n",
       "IPS7                          5968\n",
       "IPS8                          8444\n",
       "dtype: int64"
      ]
     },
     "execution_count": 90,
     "metadata": {},
     "output_type": "execute_result"
    }
   ],
   "source": [
    "# check NaN value\n",
    "dfFinal.isnull().sum()"
   ]
  },
  {
   "cell_type": "code",
   "execution_count": null,
   "metadata": {},
   "outputs": [
    {
     "name": "stdout",
     "output_type": "stream",
     "text": [
      "<class 'pandas.core.frame.DataFrame'>\n",
      "Index: 37496 entries, 0 to 299992\n",
      "Data columns (total 15 columns):\n",
      " #   Column                     Non-Null Count  Dtype \n",
      "---  ------                     --------------  ----- \n",
      " 0   tahun_masuk                37496 non-null  object\n",
      " 1   jenis_kelamin              37496 non-null  object\n",
      " 2   id_prodi                   37496 non-null  object\n",
      " 3   id_status_masuk_mahasiswa  37496 non-null  object\n",
      " 4   sks                        37496 non-null  object\n",
      " 5   kode_tahun_ajaran          37496 non-null  object\n",
      " 6   id_status_mahasiswa        37496 non-null  object\n",
      " 7   IPS1                       27532 non-null  object\n",
      " 8   IPS2                       26825 non-null  object\n",
      " 9   IPS3                       31764 non-null  object\n",
      " 10  IPS4                       30846 non-null  object\n",
      " 11  IPS5                       33329 non-null  object\n",
      " 12  IPS6                       31918 non-null  object\n",
      " 13  IPS7                       31528 non-null  object\n",
      " 14  IPS8                       29052 non-null  object\n",
      "dtypes: object(15)\n",
      "memory usage: 4.6+ MB\n"
     ]
    }
   ],
   "source": [
    "dfFinal.info()"
   ]
  },
  {
   "cell_type": "code",
   "execution_count": null,
   "metadata": {},
   "outputs": [],
   "source": [
    "dfFinal.dropna(inplace=True)"
   ]
  },
  {
   "cell_type": "code",
   "execution_count": null,
   "metadata": {},
   "outputs": [
    {
     "data": {
      "text/plain": [
       "tahun_masuk                  0\n",
       "jenis_kelamin                0\n",
       "id_prodi                     0\n",
       "id_status_masuk_mahasiswa    0\n",
       "sks                          0\n",
       "kode_tahun_ajaran            0\n",
       "id_status_mahasiswa          0\n",
       "IPS1                         0\n",
       "IPS2                         0\n",
       "IPS3                         0\n",
       "IPS4                         0\n",
       "IPS5                         0\n",
       "IPS6                         0\n",
       "IPS7                         0\n",
       "IPS8                         0\n",
       "dtype: int64"
      ]
     },
     "execution_count": 93,
     "metadata": {},
     "output_type": "execute_result"
    }
   ],
   "source": [
    "dfFinal.isnull().sum()"
   ]
  },
  {
   "cell_type": "code",
   "execution_count": null,
   "metadata": {},
   "outputs": [
    {
     "name": "stdout",
     "output_type": "stream",
     "text": [
      "<class 'pandas.core.frame.DataFrame'>\n",
      "Index: 9917 entries, 0 to 299928\n",
      "Data columns (total 15 columns):\n",
      " #   Column                     Non-Null Count  Dtype \n",
      "---  ------                     --------------  ----- \n",
      " 0   tahun_masuk                9917 non-null   object\n",
      " 1   jenis_kelamin              9917 non-null   object\n",
      " 2   id_prodi                   9917 non-null   object\n",
      " 3   id_status_masuk_mahasiswa  9917 non-null   object\n",
      " 4   sks                        9917 non-null   object\n",
      " 5   kode_tahun_ajaran          9917 non-null   object\n",
      " 6   id_status_mahasiswa        9917 non-null   object\n",
      " 7   IPS1                       9917 non-null   object\n",
      " 8   IPS2                       9917 non-null   object\n",
      " 9   IPS3                       9917 non-null   object\n",
      " 10  IPS4                       9917 non-null   object\n",
      " 11  IPS5                       9917 non-null   object\n",
      " 12  IPS6                       9917 non-null   object\n",
      " 13  IPS7                       9917 non-null   object\n",
      " 14  IPS8                       9917 non-null   object\n",
      "dtypes: object(15)\n",
      "memory usage: 1.2+ MB\n"
     ]
    }
   ],
   "source": [
    "dfFinal.info()"
   ]
  },
  {
   "cell_type": "code",
   "execution_count": null,
   "metadata": {},
   "outputs": [
    {
     "data": {
      "text/plain": [
       "(9917, 15)"
      ]
     },
     "execution_count": 95,
     "metadata": {},
     "output_type": "execute_result"
    }
   ],
   "source": [
    "dfFinal.shape"
   ]
  },
  {
   "cell_type": "code",
   "execution_count": null,
   "metadata": {},
   "outputs": [],
   "source": [
    "# export to csv\n",
    "dfFinal.to_csv('data.csv', index=False)"
   ]
  },
  {
   "cell_type": "code",
   "execution_count": null,
   "metadata": {},
   "outputs": [
    {
     "data": {
      "text/plain": [
       "id_status_mahasiswa\n",
       "L    5866\n",
       "N    4051\n",
       "Name: count, dtype: int64"
      ]
     },
     "execution_count": 97,
     "metadata": {},
     "output_type": "execute_result"
    }
   ],
   "source": [
    "# count id_status_mahasiswa per status\n",
    "dfFinal['id_status_mahasiswa'].value_counts()"
   ]
  },
  {
   "cell_type": "code",
   "execution_count": null,
   "metadata": {},
   "outputs": [],
   "source": [
    "conn.close()"
   ]
  }
 ],
 "metadata": {
  "kernelspec": {
   "display_name": "Python 3",
   "language": "python",
   "name": "python3"
  },
  "language_info": {
   "codemirror_mode": {
    "name": "ipython",
    "version": 3
   },
   "file_extension": ".py",
   "mimetype": "text/x-python",
   "name": "python",
   "nbconvert_exporter": "python",
   "pygments_lexer": "ipython3",
   "version": "3.9.6"
  }
 },
 "nbformat": 4,
 "nbformat_minor": 2
}
