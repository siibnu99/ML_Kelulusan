{
 "cells": [
  {
   "cell_type": "code",
   "execution_count": 6,
   "metadata": {},
   "outputs": [
    {
     "name": "stdout",
     "output_type": "stream",
     "text": [
      "Defaulting to user installation because normal site-packages is not writeable\n",
      "Requirement already satisfied: matplotlib in /Users/siibnu/Library/Python/3.9/lib/python/site-packages (3.8.2)\n",
      "Requirement already satisfied: contourpy>=1.0.1 in /Users/siibnu/Library/Python/3.9/lib/python/site-packages (from matplotlib) (1.2.0)\n",
      "Requirement already satisfied: cycler>=0.10 in /Users/siibnu/Library/Python/3.9/lib/python/site-packages (from matplotlib) (0.12.1)\n",
      "Requirement already satisfied: fonttools>=4.22.0 in /Users/siibnu/Library/Python/3.9/lib/python/site-packages (from matplotlib) (4.47.2)\n",
      "Requirement already satisfied: kiwisolver>=1.3.1 in /Users/siibnu/Library/Python/3.9/lib/python/site-packages (from matplotlib) (1.4.5)\n",
      "Requirement already satisfied: numpy<2,>=1.21 in /Users/siibnu/Library/Python/3.9/lib/python/site-packages (from matplotlib) (1.26.3)\n",
      "Requirement already satisfied: packaging>=20.0 in /Users/siibnu/Library/Python/3.9/lib/python/site-packages (from matplotlib) (23.2)\n",
      "Requirement already satisfied: pillow>=8 in /Users/siibnu/Library/Python/3.9/lib/python/site-packages (from matplotlib) (10.2.0)\n",
      "Requirement already satisfied: pyparsing>=2.3.1 in /Users/siibnu/Library/Python/3.9/lib/python/site-packages (from matplotlib) (3.1.1)\n",
      "Requirement already satisfied: python-dateutil>=2.7 in /Users/siibnu/Library/Python/3.9/lib/python/site-packages (from matplotlib) (2.8.2)\n",
      "Requirement already satisfied: importlib-resources>=3.2.0 in /Users/siibnu/Library/Python/3.9/lib/python/site-packages (from matplotlib) (6.1.1)\n",
      "Requirement already satisfied: zipp>=3.1.0 in /Users/siibnu/Library/Python/3.9/lib/python/site-packages (from importlib-resources>=3.2.0->matplotlib) (3.17.0)\n",
      "Requirement already satisfied: six>=1.5 in /Library/Developer/CommandLineTools/Library/Frameworks/Python3.framework/Versions/3.9/lib/python3.9/site-packages (from python-dateutil>=2.7->matplotlib) (1.15.0)\n",
      "Defaulting to user installation because normal site-packages is not writeable\n",
      "Requirement already satisfied: seaborn in /Users/siibnu/Library/Python/3.9/lib/python/site-packages (0.13.1)\n",
      "Requirement already satisfied: numpy!=1.24.0,>=1.20 in /Users/siibnu/Library/Python/3.9/lib/python/site-packages (from seaborn) (1.26.3)\n",
      "Requirement already satisfied: pandas>=1.2 in /Users/siibnu/Library/Python/3.9/lib/python/site-packages (from seaborn) (2.1.4)\n",
      "Requirement already satisfied: matplotlib!=3.6.1,>=3.4 in /Users/siibnu/Library/Python/3.9/lib/python/site-packages (from seaborn) (3.8.2)\n",
      "Requirement already satisfied: contourpy>=1.0.1 in /Users/siibnu/Library/Python/3.9/lib/python/site-packages (from matplotlib!=3.6.1,>=3.4->seaborn) (1.2.0)\n",
      "Requirement already satisfied: cycler>=0.10 in /Users/siibnu/Library/Python/3.9/lib/python/site-packages (from matplotlib!=3.6.1,>=3.4->seaborn) (0.12.1)\n",
      "Requirement already satisfied: fonttools>=4.22.0 in /Users/siibnu/Library/Python/3.9/lib/python/site-packages (from matplotlib!=3.6.1,>=3.4->seaborn) (4.47.2)\n",
      "Requirement already satisfied: kiwisolver>=1.3.1 in /Users/siibnu/Library/Python/3.9/lib/python/site-packages (from matplotlib!=3.6.1,>=3.4->seaborn) (1.4.5)\n",
      "Requirement already satisfied: packaging>=20.0 in /Users/siibnu/Library/Python/3.9/lib/python/site-packages (from matplotlib!=3.6.1,>=3.4->seaborn) (23.2)\n",
      "Requirement already satisfied: pillow>=8 in /Users/siibnu/Library/Python/3.9/lib/python/site-packages (from matplotlib!=3.6.1,>=3.4->seaborn) (10.2.0)\n",
      "Requirement already satisfied: pyparsing>=2.3.1 in /Users/siibnu/Library/Python/3.9/lib/python/site-packages (from matplotlib!=3.6.1,>=3.4->seaborn) (3.1.1)\n",
      "Requirement already satisfied: python-dateutil>=2.7 in /Users/siibnu/Library/Python/3.9/lib/python/site-packages (from matplotlib!=3.6.1,>=3.4->seaborn) (2.8.2)\n",
      "Requirement already satisfied: importlib-resources>=3.2.0 in /Users/siibnu/Library/Python/3.9/lib/python/site-packages (from matplotlib!=3.6.1,>=3.4->seaborn) (6.1.1)\n",
      "Requirement already satisfied: pytz>=2020.1 in /Users/siibnu/Library/Python/3.9/lib/python/site-packages (from pandas>=1.2->seaborn) (2023.3.post1)\n",
      "Requirement already satisfied: tzdata>=2022.1 in /Users/siibnu/Library/Python/3.9/lib/python/site-packages (from pandas>=1.2->seaborn) (2023.4)\n",
      "Requirement already satisfied: zipp>=3.1.0 in /Users/siibnu/Library/Python/3.9/lib/python/site-packages (from importlib-resources>=3.2.0->matplotlib!=3.6.1,>=3.4->seaborn) (3.17.0)\n",
      "Requirement already satisfied: six>=1.5 in /Library/Developer/CommandLineTools/Library/Frameworks/Python3.framework/Versions/3.9/lib/python3.9/site-packages (from python-dateutil>=2.7->matplotlib!=3.6.1,>=3.4->seaborn) (1.15.0)\n"
     ]
    }
   ],
   "source": [
    "# install matplotlib\n",
    "!pip3 install matplotlib\n",
    "!pip3 install seaborn"
   ]
  },
  {
   "cell_type": "code",
   "execution_count": 3,
   "metadata": {},
   "outputs": [],
   "source": [
    "import pandas as pd\n",
    "import numpy as np # linear algebra\n",
    "import matplotlib.pyplot as plt # for data visualization purposes\n",
    "import seaborn as sns # for data visualization\n",
    "%matplotlib inline"
   ]
  },
  {
   "cell_type": "code",
   "execution_count": 4,
   "metadata": {},
   "outputs": [],
   "source": [
    "data = 'data.csv'"
   ]
  },
  {
   "cell_type": "code",
   "execution_count": 5,
   "metadata": {},
   "outputs": [],
   "source": [
    "df = pd.read_csv(data)"
   ]
  },
  {
   "cell_type": "code",
   "execution_count": 6,
   "metadata": {},
   "outputs": [
    {
     "data": {
      "text/plain": [
       "(3265, 13)"
      ]
     },
     "execution_count": 6,
     "metadata": {},
     "output_type": "execute_result"
    }
   ],
   "source": [
    "df.shape"
   ]
  },
  {
   "cell_type": "code",
   "execution_count": 7,
   "metadata": {},
   "outputs": [
    {
     "data": {
      "text/html": [
       "<div>\n",
       "<style scoped>\n",
       "    .dataframe tbody tr th:only-of-type {\n",
       "        vertical-align: middle;\n",
       "    }\n",
       "\n",
       "    .dataframe tbody tr th {\n",
       "        vertical-align: top;\n",
       "    }\n",
       "\n",
       "    .dataframe thead th {\n",
       "        text-align: right;\n",
       "    }\n",
       "</style>\n",
       "<table border=\"1\" class=\"dataframe\">\n",
       "  <thead>\n",
       "    <tr style=\"text-align: right;\">\n",
       "      <th></th>\n",
       "      <th>id_mahasiswa</th>\n",
       "      <th>id_status_mahasiswa</th>\n",
       "      <th>id_prodi</th>\n",
       "      <th>id_status_masuk_mahasiswa</th>\n",
       "      <th>jenis_kelamin</th>\n",
       "      <th>IPS1</th>\n",
       "      <th>IPS2</th>\n",
       "      <th>IPS3</th>\n",
       "      <th>IPS4</th>\n",
       "      <th>IPS5</th>\n",
       "      <th>IPS6</th>\n",
       "      <th>IPS7</th>\n",
       "      <th>IPS8</th>\n",
       "    </tr>\n",
       "  </thead>\n",
       "  <tbody>\n",
       "    <tr>\n",
       "      <th>0</th>\n",
       "      <td>0001b32b-a4ab-4b2d-a8e0-c0b0e280ffbf</td>\n",
       "      <td>L</td>\n",
       "      <td>00042efb-9c8f-11ec-8c04-3a334pfuad31</td>\n",
       "      <td>P</td>\n",
       "      <td>Perempuan</td>\n",
       "      <td>3.32</td>\n",
       "      <td>3.43</td>\n",
       "      <td>3.25</td>\n",
       "      <td>3.27</td>\n",
       "      <td>3.39</td>\n",
       "      <td>3.66</td>\n",
       "      <td>3.88</td>\n",
       "      <td>3.25</td>\n",
       "    </tr>\n",
       "    <tr>\n",
       "      <th>1</th>\n",
       "      <td>0007548b-0613-49f6-8052-f768bcd45a6a</td>\n",
       "      <td>N</td>\n",
       "      <td>00042efb-9c8f-11ec-8c04-3a334pfuad31</td>\n",
       "      <td>P</td>\n",
       "      <td>Perempuan</td>\n",
       "      <td>3.52</td>\n",
       "      <td>3.48</td>\n",
       "      <td>3.39</td>\n",
       "      <td>3.59</td>\n",
       "      <td>3.55</td>\n",
       "      <td>3.59</td>\n",
       "      <td>3.82</td>\n",
       "      <td>0.00</td>\n",
       "    </tr>\n",
       "    <tr>\n",
       "      <th>2</th>\n",
       "      <td>0013ebc3-37d0-42ad-aee6-5787cedff4b4</td>\n",
       "      <td>N</td>\n",
       "      <td>00042efb-9c8f-11ec-8c04-3a334pfuad31</td>\n",
       "      <td>P</td>\n",
       "      <td>Perempuan</td>\n",
       "      <td>3.22</td>\n",
       "      <td>3.12</td>\n",
       "      <td>3.25</td>\n",
       "      <td>3.19</td>\n",
       "      <td>3.04</td>\n",
       "      <td>3.58</td>\n",
       "      <td>4.00</td>\n",
       "      <td>0.00</td>\n",
       "    </tr>\n",
       "    <tr>\n",
       "      <th>3</th>\n",
       "      <td>0045db8b-dce9-4faf-b915-f308e9b53c5e</td>\n",
       "      <td>L</td>\n",
       "      <td>00042efb-9c8f-11ec-8c04-3a334pfuad31</td>\n",
       "      <td>P</td>\n",
       "      <td>Perempuan</td>\n",
       "      <td>3.68</td>\n",
       "      <td>3.67</td>\n",
       "      <td>3.70</td>\n",
       "      <td>3.58</td>\n",
       "      <td>3.73</td>\n",
       "      <td>3.58</td>\n",
       "      <td>3.90</td>\n",
       "      <td>3.50</td>\n",
       "    </tr>\n",
       "    <tr>\n",
       "      <th>4</th>\n",
       "      <td>00717b5e-41dd-4876-ad72-bc770f64baad</td>\n",
       "      <td>N</td>\n",
       "      <td>00042efb-9c8f-11ec-8c04-3a334pfuad31</td>\n",
       "      <td>P</td>\n",
       "      <td>Perempuan</td>\n",
       "      <td>3.31</td>\n",
       "      <td>3.45</td>\n",
       "      <td>2.77</td>\n",
       "      <td>3.06</td>\n",
       "      <td>3.12</td>\n",
       "      <td>2.33</td>\n",
       "      <td>3.14</td>\n",
       "      <td>1.45</td>\n",
       "    </tr>\n",
       "  </tbody>\n",
       "</table>\n",
       "</div>"
      ],
      "text/plain": [
       "                           id_mahasiswa id_status_mahasiswa  \\\n",
       "0  0001b32b-a4ab-4b2d-a8e0-c0b0e280ffbf                   L   \n",
       "1  0007548b-0613-49f6-8052-f768bcd45a6a                   N   \n",
       "2  0013ebc3-37d0-42ad-aee6-5787cedff4b4                   N   \n",
       "3  0045db8b-dce9-4faf-b915-f308e9b53c5e                   L   \n",
       "4  00717b5e-41dd-4876-ad72-bc770f64baad                   N   \n",
       "\n",
       "                               id_prodi id_status_masuk_mahasiswa  \\\n",
       "0  00042efb-9c8f-11ec-8c04-3a334pfuad31                         P   \n",
       "1  00042efb-9c8f-11ec-8c04-3a334pfuad31                         P   \n",
       "2  00042efb-9c8f-11ec-8c04-3a334pfuad31                         P   \n",
       "3  00042efb-9c8f-11ec-8c04-3a334pfuad31                         P   \n",
       "4  00042efb-9c8f-11ec-8c04-3a334pfuad31                         P   \n",
       "\n",
       "  jenis_kelamin  IPS1  IPS2  IPS3  IPS4  IPS5  IPS6  IPS7  IPS8  \n",
       "0     Perempuan  3.32  3.43  3.25  3.27  3.39  3.66  3.88  3.25  \n",
       "1     Perempuan  3.52  3.48  3.39  3.59  3.55  3.59  3.82  0.00  \n",
       "2     Perempuan  3.22  3.12  3.25  3.19  3.04  3.58  4.00  0.00  \n",
       "3     Perempuan  3.68  3.67  3.70  3.58  3.73  3.58  3.90  3.50  \n",
       "4     Perempuan  3.31  3.45  2.77  3.06  3.12  2.33  3.14  1.45  "
      ]
     },
     "execution_count": 7,
     "metadata": {},
     "output_type": "execute_result"
    }
   ],
   "source": [
    "df.head()"
   ]
  },
  {
   "cell_type": "code",
   "execution_count": 8,
   "metadata": {},
   "outputs": [
    {
     "name": "stdout",
     "output_type": "stream",
     "text": [
      "<class 'pandas.core.frame.DataFrame'>\n",
      "RangeIndex: 3265 entries, 0 to 3264\n",
      "Data columns (total 13 columns):\n",
      " #   Column                     Non-Null Count  Dtype  \n",
      "---  ------                     --------------  -----  \n",
      " 0   id_mahasiswa               3265 non-null   object \n",
      " 1   id_status_mahasiswa        3265 non-null   object \n",
      " 2   id_prodi                   3265 non-null   object \n",
      " 3   id_status_masuk_mahasiswa  3265 non-null   object \n",
      " 4   jenis_kelamin              3265 non-null   object \n",
      " 5   IPS1                       3265 non-null   float64\n",
      " 6   IPS2                       3265 non-null   float64\n",
      " 7   IPS3                       3265 non-null   float64\n",
      " 8   IPS4                       3265 non-null   float64\n",
      " 9   IPS5                       3265 non-null   float64\n",
      " 10  IPS6                       3265 non-null   float64\n",
      " 11  IPS7                       3265 non-null   float64\n",
      " 12  IPS8                       3265 non-null   float64\n",
      "dtypes: float64(8), object(5)\n",
      "memory usage: 331.7+ KB\n"
     ]
    }
   ],
   "source": [
    "df.info()"
   ]
  },
  {
   "cell_type": "code",
   "execution_count": 9,
   "metadata": {},
   "outputs": [
    {
     "data": {
      "text/plain": [
       "id_mahasiswa                 0\n",
       "id_status_mahasiswa          0\n",
       "id_prodi                     0\n",
       "id_status_masuk_mahasiswa    0\n",
       "jenis_kelamin                0\n",
       "IPS1                         0\n",
       "IPS2                         0\n",
       "IPS3                         0\n",
       "IPS4                         0\n",
       "IPS5                         0\n",
       "IPS6                         0\n",
       "IPS7                         0\n",
       "IPS8                         0\n",
       "dtype: int64"
      ]
     },
     "execution_count": 9,
     "metadata": {},
     "output_type": "execute_result"
    }
   ],
   "source": [
    "df.isnull().sum()"
   ]
  },
  {
   "cell_type": "code",
   "execution_count": 10,
   "metadata": {},
   "outputs": [],
   "source": [
    "df.drop([ 'IPS5', 'IPS6', 'IPS7', 'IPS8', 'id_mahasiswa'], axis=1, inplace=True)"
   ]
  },
  {
   "cell_type": "code",
   "execution_count": 11,
   "metadata": {},
   "outputs": [
    {
     "name": "stdout",
     "output_type": "stream",
     "text": [
      "<class 'pandas.core.frame.DataFrame'>\n",
      "RangeIndex: 3265 entries, 0 to 3264\n",
      "Data columns (total 8 columns):\n",
      " #   Column                     Non-Null Count  Dtype  \n",
      "---  ------                     --------------  -----  \n",
      " 0   id_status_mahasiswa        3265 non-null   object \n",
      " 1   id_prodi                   3265 non-null   object \n",
      " 2   id_status_masuk_mahasiswa  3265 non-null   object \n",
      " 3   jenis_kelamin              3265 non-null   object \n",
      " 4   IPS1                       3265 non-null   float64\n",
      " 5   IPS2                       3265 non-null   float64\n",
      " 6   IPS3                       3265 non-null   float64\n",
      " 7   IPS4                       3265 non-null   float64\n",
      "dtypes: float64(4), object(4)\n",
      "memory usage: 204.2+ KB\n"
     ]
    }
   ],
   "source": [
    "df.info()"
   ]
  },
  {
   "cell_type": "code",
   "execution_count": 12,
   "metadata": {},
   "outputs": [
    {
     "data": {
      "text/html": [
       "<div>\n",
       "<style scoped>\n",
       "    .dataframe tbody tr th:only-of-type {\n",
       "        vertical-align: middle;\n",
       "    }\n",
       "\n",
       "    .dataframe tbody tr th {\n",
       "        vertical-align: top;\n",
       "    }\n",
       "\n",
       "    .dataframe thead th {\n",
       "        text-align: right;\n",
       "    }\n",
       "</style>\n",
       "<table border=\"1\" class=\"dataframe\">\n",
       "  <thead>\n",
       "    <tr style=\"text-align: right;\">\n",
       "      <th></th>\n",
       "      <th>IPS1</th>\n",
       "      <th>IPS2</th>\n",
       "      <th>IPS3</th>\n",
       "      <th>IPS4</th>\n",
       "    </tr>\n",
       "  </thead>\n",
       "  <tbody>\n",
       "    <tr>\n",
       "      <th>count</th>\n",
       "      <td>3265.000000</td>\n",
       "      <td>3265.000000</td>\n",
       "      <td>3265.000000</td>\n",
       "      <td>3265.000000</td>\n",
       "    </tr>\n",
       "    <tr>\n",
       "      <th>mean</th>\n",
       "      <td>3.428851</td>\n",
       "      <td>3.390193</td>\n",
       "      <td>3.374753</td>\n",
       "      <td>3.197446</td>\n",
       "    </tr>\n",
       "    <tr>\n",
       "      <th>std</th>\n",
       "      <td>0.348120</td>\n",
       "      <td>0.593104</td>\n",
       "      <td>0.626942</td>\n",
       "      <td>0.993118</td>\n",
       "    </tr>\n",
       "    <tr>\n",
       "      <th>min</th>\n",
       "      <td>0.000000</td>\n",
       "      <td>0.000000</td>\n",
       "      <td>0.000000</td>\n",
       "      <td>0.000000</td>\n",
       "    </tr>\n",
       "    <tr>\n",
       "      <th>25%</th>\n",
       "      <td>3.320000</td>\n",
       "      <td>3.380000</td>\n",
       "      <td>3.350000</td>\n",
       "      <td>3.330000</td>\n",
       "    </tr>\n",
       "    <tr>\n",
       "      <th>50%</th>\n",
       "      <td>3.480000</td>\n",
       "      <td>3.520000</td>\n",
       "      <td>3.520000</td>\n",
       "      <td>3.550000</td>\n",
       "    </tr>\n",
       "    <tr>\n",
       "      <th>75%</th>\n",
       "      <td>3.610000</td>\n",
       "      <td>3.640000</td>\n",
       "      <td>3.660000</td>\n",
       "      <td>3.680000</td>\n",
       "    </tr>\n",
       "    <tr>\n",
       "      <th>max</th>\n",
       "      <td>4.000000</td>\n",
       "      <td>3.960000</td>\n",
       "      <td>4.000000</td>\n",
       "      <td>3.980000</td>\n",
       "    </tr>\n",
       "  </tbody>\n",
       "</table>\n",
       "</div>"
      ],
      "text/plain": [
       "              IPS1         IPS2         IPS3         IPS4\n",
       "count  3265.000000  3265.000000  3265.000000  3265.000000\n",
       "mean      3.428851     3.390193     3.374753     3.197446\n",
       "std       0.348120     0.593104     0.626942     0.993118\n",
       "min       0.000000     0.000000     0.000000     0.000000\n",
       "25%       3.320000     3.380000     3.350000     3.330000\n",
       "50%       3.480000     3.520000     3.520000     3.550000\n",
       "75%       3.610000     3.640000     3.660000     3.680000\n",
       "max       4.000000     3.960000     4.000000     3.980000"
      ]
     },
     "execution_count": 12,
     "metadata": {},
     "output_type": "execute_result"
    }
   ],
   "source": [
    "df.describe()"
   ]
  },
  {
   "cell_type": "code",
   "execution_count": 13,
   "metadata": {},
   "outputs": [
    {
     "data": {
      "text/plain": [
       "id_status_mahasiswa\n",
       "L    0.521899\n",
       "N    0.478101\n",
       "Name: count, dtype: float64"
      ]
     },
     "execution_count": 13,
     "metadata": {},
     "output_type": "execute_result"
    }
   ],
   "source": [
    "df['id_status_mahasiswa'].value_counts() / len(df)"
   ]
  },
  {
   "cell_type": "code",
   "execution_count": 14,
   "metadata": {},
   "outputs": [
    {
     "data": {
      "text/html": [
       "<div>\n",
       "<style scoped>\n",
       "    .dataframe tbody tr th:only-of-type {\n",
       "        vertical-align: middle;\n",
       "    }\n",
       "\n",
       "    .dataframe tbody tr th {\n",
       "        vertical-align: top;\n",
       "    }\n",
       "\n",
       "    .dataframe thead th {\n",
       "        text-align: right;\n",
       "    }\n",
       "</style>\n",
       "<table border=\"1\" class=\"dataframe\">\n",
       "  <thead>\n",
       "    <tr style=\"text-align: right;\">\n",
       "      <th></th>\n",
       "      <th>IPS1</th>\n",
       "      <th>IPS2</th>\n",
       "      <th>IPS3</th>\n",
       "      <th>IPS4</th>\n",
       "    </tr>\n",
       "  </thead>\n",
       "  <tbody>\n",
       "    <tr>\n",
       "      <th>count</th>\n",
       "      <td>3265.00</td>\n",
       "      <td>3265.00</td>\n",
       "      <td>3265.00</td>\n",
       "      <td>3265.00</td>\n",
       "    </tr>\n",
       "    <tr>\n",
       "      <th>mean</th>\n",
       "      <td>3.43</td>\n",
       "      <td>3.39</td>\n",
       "      <td>3.37</td>\n",
       "      <td>3.20</td>\n",
       "    </tr>\n",
       "    <tr>\n",
       "      <th>std</th>\n",
       "      <td>0.35</td>\n",
       "      <td>0.59</td>\n",
       "      <td>0.63</td>\n",
       "      <td>0.99</td>\n",
       "    </tr>\n",
       "    <tr>\n",
       "      <th>min</th>\n",
       "      <td>0.00</td>\n",
       "      <td>0.00</td>\n",
       "      <td>0.00</td>\n",
       "      <td>0.00</td>\n",
       "    </tr>\n",
       "    <tr>\n",
       "      <th>25%</th>\n",
       "      <td>3.32</td>\n",
       "      <td>3.38</td>\n",
       "      <td>3.35</td>\n",
       "      <td>3.33</td>\n",
       "    </tr>\n",
       "    <tr>\n",
       "      <th>50%</th>\n",
       "      <td>3.48</td>\n",
       "      <td>3.52</td>\n",
       "      <td>3.52</td>\n",
       "      <td>3.55</td>\n",
       "    </tr>\n",
       "    <tr>\n",
       "      <th>75%</th>\n",
       "      <td>3.61</td>\n",
       "      <td>3.64</td>\n",
       "      <td>3.66</td>\n",
       "      <td>3.68</td>\n",
       "    </tr>\n",
       "    <tr>\n",
       "      <th>max</th>\n",
       "      <td>4.00</td>\n",
       "      <td>3.96</td>\n",
       "      <td>4.00</td>\n",
       "      <td>3.98</td>\n",
       "    </tr>\n",
       "  </tbody>\n",
       "</table>\n",
       "</div>"
      ],
      "text/plain": [
       "          IPS1     IPS2     IPS3     IPS4\n",
       "count  3265.00  3265.00  3265.00  3265.00\n",
       "mean      3.43     3.39     3.37     3.20\n",
       "std       0.35     0.59     0.63     0.99\n",
       "min       0.00     0.00     0.00     0.00\n",
       "25%       3.32     3.38     3.35     3.33\n",
       "50%       3.48     3.52     3.52     3.55\n",
       "75%       3.61     3.64     3.66     3.68\n",
       "max       4.00     3.96     4.00     3.98"
      ]
     },
     "execution_count": 14,
     "metadata": {},
     "output_type": "execute_result"
    }
   ],
   "source": [
    "round(df.describe(), 2)"
   ]
  },
  {
   "cell_type": "code",
   "execution_count": 15,
   "metadata": {},
   "outputs": [],
   "source": [
    "# rename columns id_status_mahasiswa to class\n",
    "df.rename(columns={'id_status_mahasiswa': 'class'}, inplace=True)"
   ]
  },
  {
   "cell_type": "code",
   "execution_count": 16,
   "metadata": {},
   "outputs": [
    {
     "data": {
      "text/html": [
       "<div>\n",
       "<style scoped>\n",
       "    .dataframe tbody tr th:only-of-type {\n",
       "        vertical-align: middle;\n",
       "    }\n",
       "\n",
       "    .dataframe tbody tr th {\n",
       "        vertical-align: top;\n",
       "    }\n",
       "\n",
       "    .dataframe thead th {\n",
       "        text-align: right;\n",
       "    }\n",
       "</style>\n",
       "<table border=\"1\" class=\"dataframe\">\n",
       "  <thead>\n",
       "    <tr style=\"text-align: right;\">\n",
       "      <th></th>\n",
       "      <th>class</th>\n",
       "      <th>id_prodi</th>\n",
       "      <th>id_status_masuk_mahasiswa</th>\n",
       "      <th>jenis_kelamin</th>\n",
       "      <th>IPS1</th>\n",
       "      <th>IPS2</th>\n",
       "      <th>IPS3</th>\n",
       "      <th>IPS4</th>\n",
       "    </tr>\n",
       "  </thead>\n",
       "  <tbody>\n",
       "    <tr>\n",
       "      <th>0</th>\n",
       "      <td>L</td>\n",
       "      <td>00042efb-9c8f-11ec-8c04-3a334pfuad31</td>\n",
       "      <td>P</td>\n",
       "      <td>Perempuan</td>\n",
       "      <td>3.32</td>\n",
       "      <td>3.43</td>\n",
       "      <td>3.25</td>\n",
       "      <td>3.27</td>\n",
       "    </tr>\n",
       "    <tr>\n",
       "      <th>1</th>\n",
       "      <td>N</td>\n",
       "      <td>00042efb-9c8f-11ec-8c04-3a334pfuad31</td>\n",
       "      <td>P</td>\n",
       "      <td>Perempuan</td>\n",
       "      <td>3.52</td>\n",
       "      <td>3.48</td>\n",
       "      <td>3.39</td>\n",
       "      <td>3.59</td>\n",
       "    </tr>\n",
       "    <tr>\n",
       "      <th>2</th>\n",
       "      <td>N</td>\n",
       "      <td>00042efb-9c8f-11ec-8c04-3a334pfuad31</td>\n",
       "      <td>P</td>\n",
       "      <td>Perempuan</td>\n",
       "      <td>3.22</td>\n",
       "      <td>3.12</td>\n",
       "      <td>3.25</td>\n",
       "      <td>3.19</td>\n",
       "    </tr>\n",
       "    <tr>\n",
       "      <th>3</th>\n",
       "      <td>L</td>\n",
       "      <td>00042efb-9c8f-11ec-8c04-3a334pfuad31</td>\n",
       "      <td>P</td>\n",
       "      <td>Perempuan</td>\n",
       "      <td>3.68</td>\n",
       "      <td>3.67</td>\n",
       "      <td>3.70</td>\n",
       "      <td>3.58</td>\n",
       "    </tr>\n",
       "    <tr>\n",
       "      <th>4</th>\n",
       "      <td>N</td>\n",
       "      <td>00042efb-9c8f-11ec-8c04-3a334pfuad31</td>\n",
       "      <td>P</td>\n",
       "      <td>Perempuan</td>\n",
       "      <td>3.31</td>\n",
       "      <td>3.45</td>\n",
       "      <td>2.77</td>\n",
       "      <td>3.06</td>\n",
       "    </tr>\n",
       "  </tbody>\n",
       "</table>\n",
       "</div>"
      ],
      "text/plain": [
       "  class                              id_prodi id_status_masuk_mahasiswa  \\\n",
       "0     L  00042efb-9c8f-11ec-8c04-3a334pfuad31                         P   \n",
       "1     N  00042efb-9c8f-11ec-8c04-3a334pfuad31                         P   \n",
       "2     N  00042efb-9c8f-11ec-8c04-3a334pfuad31                         P   \n",
       "3     L  00042efb-9c8f-11ec-8c04-3a334pfuad31                         P   \n",
       "4     N  00042efb-9c8f-11ec-8c04-3a334pfuad31                         P   \n",
       "\n",
       "  jenis_kelamin  IPS1  IPS2  IPS3  IPS4  \n",
       "0     Perempuan  3.32  3.43  3.25  3.27  \n",
       "1     Perempuan  3.52  3.48  3.39  3.59  \n",
       "2     Perempuan  3.22  3.12  3.25  3.19  \n",
       "3     Perempuan  3.68  3.67  3.70  3.58  \n",
       "4     Perempuan  3.31  3.45  2.77  3.06  "
      ]
     },
     "execution_count": 16,
     "metadata": {},
     "output_type": "execute_result"
    }
   ],
   "source": [
    "df.head()"
   ]
  },
  {
   "cell_type": "code",
   "execution_count": 17,
   "metadata": {},
   "outputs": [
    {
     "data": {
      "text/html": [
       "<div>\n",
       "<style scoped>\n",
       "    .dataframe tbody tr th:only-of-type {\n",
       "        vertical-align: middle;\n",
       "    }\n",
       "\n",
       "    .dataframe tbody tr th {\n",
       "        vertical-align: top;\n",
       "    }\n",
       "\n",
       "    .dataframe thead th {\n",
       "        text-align: right;\n",
       "    }\n",
       "</style>\n",
       "<table border=\"1\" class=\"dataframe\">\n",
       "  <thead>\n",
       "    <tr style=\"text-align: right;\">\n",
       "      <th></th>\n",
       "      <th>class</th>\n",
       "      <th>id_prodi</th>\n",
       "      <th>id_status_masuk_mahasiswa</th>\n",
       "      <th>jenis_kelamin</th>\n",
       "      <th>IPS1</th>\n",
       "      <th>IPS2</th>\n",
       "      <th>IPS3</th>\n",
       "      <th>IPS4</th>\n",
       "    </tr>\n",
       "  </thead>\n",
       "  <tbody>\n",
       "    <tr>\n",
       "      <th>0</th>\n",
       "      <td>L</td>\n",
       "      <td>00042efb-9c8f-11ec-8c04-3a334pfuad31</td>\n",
       "      <td>P</td>\n",
       "      <td>Perempuan</td>\n",
       "      <td>3.32</td>\n",
       "      <td>3.43</td>\n",
       "      <td>3.25</td>\n",
       "      <td>3.27</td>\n",
       "    </tr>\n",
       "    <tr>\n",
       "      <th>3</th>\n",
       "      <td>L</td>\n",
       "      <td>00042efb-9c8f-11ec-8c04-3a334pfuad31</td>\n",
       "      <td>P</td>\n",
       "      <td>Perempuan</td>\n",
       "      <td>3.68</td>\n",
       "      <td>3.67</td>\n",
       "      <td>3.70</td>\n",
       "      <td>3.58</td>\n",
       "    </tr>\n",
       "    <tr>\n",
       "      <th>5</th>\n",
       "      <td>L</td>\n",
       "      <td>00042efb-9c8f-11ec-8c04-3a334pfuad31</td>\n",
       "      <td>P</td>\n",
       "      <td>Perempuan</td>\n",
       "      <td>3.52</td>\n",
       "      <td>3.57</td>\n",
       "      <td>3.60</td>\n",
       "      <td>3.83</td>\n",
       "    </tr>\n",
       "    <tr>\n",
       "      <th>6</th>\n",
       "      <td>L</td>\n",
       "      <td>00042efb-9c8f-11ec-8c04-3a334pfuad31</td>\n",
       "      <td>P</td>\n",
       "      <td>Perempuan</td>\n",
       "      <td>3.55</td>\n",
       "      <td>3.61</td>\n",
       "      <td>3.50</td>\n",
       "      <td>3.64</td>\n",
       "    </tr>\n",
       "    <tr>\n",
       "      <th>7</th>\n",
       "      <td>L</td>\n",
       "      <td>00042efb-9c8f-11ec-8c04-3a334pfuad31</td>\n",
       "      <td>P</td>\n",
       "      <td>Perempuan</td>\n",
       "      <td>3.61</td>\n",
       "      <td>3.68</td>\n",
       "      <td>3.73</td>\n",
       "      <td>3.66</td>\n",
       "    </tr>\n",
       "  </tbody>\n",
       "</table>\n",
       "</div>"
      ],
      "text/plain": [
       "  class                              id_prodi id_status_masuk_mahasiswa  \\\n",
       "0     L  00042efb-9c8f-11ec-8c04-3a334pfuad31                         P   \n",
       "3     L  00042efb-9c8f-11ec-8c04-3a334pfuad31                         P   \n",
       "5     L  00042efb-9c8f-11ec-8c04-3a334pfuad31                         P   \n",
       "6     L  00042efb-9c8f-11ec-8c04-3a334pfuad31                         P   \n",
       "7     L  00042efb-9c8f-11ec-8c04-3a334pfuad31                         P   \n",
       "\n",
       "  jenis_kelamin  IPS1  IPS2  IPS3  IPS4  \n",
       "0     Perempuan  3.32  3.43  3.25  3.27  \n",
       "3     Perempuan  3.68  3.67  3.70  3.58  \n",
       "5     Perempuan  3.52  3.57  3.60  3.83  \n",
       "6     Perempuan  3.55  3.61  3.50  3.64  \n",
       "7     Perempuan  3.61  3.68  3.73  3.66  "
      ]
     },
     "execution_count": 17,
     "metadata": {},
     "output_type": "execute_result"
    }
   ],
   "source": [
    "# get data class L\n",
    "df_L = df[df['class'] == 'L']\n",
    "df_L.head()"
   ]
  },
  {
   "cell_type": "code",
   "execution_count": 18,
   "metadata": {},
   "outputs": [
    {
     "data": {
      "text/html": [
       "<div>\n",
       "<style scoped>\n",
       "    .dataframe tbody tr th:only-of-type {\n",
       "        vertical-align: middle;\n",
       "    }\n",
       "\n",
       "    .dataframe tbody tr th {\n",
       "        vertical-align: top;\n",
       "    }\n",
       "\n",
       "    .dataframe thead th {\n",
       "        text-align: right;\n",
       "    }\n",
       "</style>\n",
       "<table border=\"1\" class=\"dataframe\">\n",
       "  <thead>\n",
       "    <tr style=\"text-align: right;\">\n",
       "      <th></th>\n",
       "      <th>class</th>\n",
       "      <th>id_prodi</th>\n",
       "      <th>id_status_masuk_mahasiswa</th>\n",
       "      <th>jenis_kelamin</th>\n",
       "      <th>IPS1</th>\n",
       "      <th>IPS2</th>\n",
       "      <th>IPS3</th>\n",
       "      <th>IPS4</th>\n",
       "    </tr>\n",
       "  </thead>\n",
       "  <tbody>\n",
       "    <tr>\n",
       "      <th>0</th>\n",
       "      <td>1</td>\n",
       "      <td>00042efb-9c8f-11ec-8c04-3a334pfuad31</td>\n",
       "      <td>P</td>\n",
       "      <td>Perempuan</td>\n",
       "      <td>3.32</td>\n",
       "      <td>3.43</td>\n",
       "      <td>3.25</td>\n",
       "      <td>3.27</td>\n",
       "    </tr>\n",
       "    <tr>\n",
       "      <th>1</th>\n",
       "      <td>0</td>\n",
       "      <td>00042efb-9c8f-11ec-8c04-3a334pfuad31</td>\n",
       "      <td>P</td>\n",
       "      <td>Perempuan</td>\n",
       "      <td>3.52</td>\n",
       "      <td>3.48</td>\n",
       "      <td>3.39</td>\n",
       "      <td>3.59</td>\n",
       "    </tr>\n",
       "    <tr>\n",
       "      <th>2</th>\n",
       "      <td>0</td>\n",
       "      <td>00042efb-9c8f-11ec-8c04-3a334pfuad31</td>\n",
       "      <td>P</td>\n",
       "      <td>Perempuan</td>\n",
       "      <td>3.22</td>\n",
       "      <td>3.12</td>\n",
       "      <td>3.25</td>\n",
       "      <td>3.19</td>\n",
       "    </tr>\n",
       "    <tr>\n",
       "      <th>3</th>\n",
       "      <td>1</td>\n",
       "      <td>00042efb-9c8f-11ec-8c04-3a334pfuad31</td>\n",
       "      <td>P</td>\n",
       "      <td>Perempuan</td>\n",
       "      <td>3.68</td>\n",
       "      <td>3.67</td>\n",
       "      <td>3.70</td>\n",
       "      <td>3.58</td>\n",
       "    </tr>\n",
       "    <tr>\n",
       "      <th>4</th>\n",
       "      <td>0</td>\n",
       "      <td>00042efb-9c8f-11ec-8c04-3a334pfuad31</td>\n",
       "      <td>P</td>\n",
       "      <td>Perempuan</td>\n",
       "      <td>3.31</td>\n",
       "      <td>3.45</td>\n",
       "      <td>2.77</td>\n",
       "      <td>3.06</td>\n",
       "    </tr>\n",
       "  </tbody>\n",
       "</table>\n",
       "</div>"
      ],
      "text/plain": [
       "   class                              id_prodi id_status_masuk_mahasiswa  \\\n",
       "0      1  00042efb-9c8f-11ec-8c04-3a334pfuad31                         P   \n",
       "1      0  00042efb-9c8f-11ec-8c04-3a334pfuad31                         P   \n",
       "2      0  00042efb-9c8f-11ec-8c04-3a334pfuad31                         P   \n",
       "3      1  00042efb-9c8f-11ec-8c04-3a334pfuad31                         P   \n",
       "4      0  00042efb-9c8f-11ec-8c04-3a334pfuad31                         P   \n",
       "\n",
       "  jenis_kelamin  IPS1  IPS2  IPS3  IPS4  \n",
       "0     Perempuan  3.32  3.43  3.25  3.27  \n",
       "1     Perempuan  3.52  3.48  3.39  3.59  \n",
       "2     Perempuan  3.22  3.12  3.25  3.19  \n",
       "3     Perempuan  3.68  3.67  3.70  3.58  \n",
       "4     Perempuan  3.31  3.45  2.77  3.06  "
      ]
     },
     "execution_count": 18,
     "metadata": {},
     "output_type": "execute_result"
    }
   ],
   "source": [
    "# change class values to 0 and 1\n",
    "df['class'] = df['class'].map({'N': 0, 'L': 1})\n",
    "df.head()"
   ]
  },
  {
   "cell_type": "code",
   "execution_count": 19,
   "metadata": {},
   "outputs": [
    {
     "data": {
      "text/plain": [
       "jenis_kelamin\n",
       "Perempuan    3265\n",
       "Name: count, dtype: int64"
      ]
     },
     "execution_count": 19,
     "metadata": {},
     "output_type": "execute_result"
    }
   ],
   "source": [
    "df['jenis_kelamin'].value_counts()"
   ]
  },
  {
   "cell_type": "code",
   "execution_count": 20,
   "metadata": {},
   "outputs": [],
   "source": [
    "# convert id_prodi to integer unique values\n",
    "df['id_prodi'] = df['id_prodi'].astype('category').cat.codes"
   ]
  },
  {
   "cell_type": "code",
   "execution_count": 21,
   "metadata": {},
   "outputs": [
    {
     "data": {
      "text/html": [
       "<div>\n",
       "<style scoped>\n",
       "    .dataframe tbody tr th:only-of-type {\n",
       "        vertical-align: middle;\n",
       "    }\n",
       "\n",
       "    .dataframe tbody tr th {\n",
       "        vertical-align: top;\n",
       "    }\n",
       "\n",
       "    .dataframe thead th {\n",
       "        text-align: right;\n",
       "    }\n",
       "</style>\n",
       "<table border=\"1\" class=\"dataframe\">\n",
       "  <thead>\n",
       "    <tr style=\"text-align: right;\">\n",
       "      <th></th>\n",
       "      <th>class</th>\n",
       "      <th>id_prodi</th>\n",
       "      <th>id_status_masuk_mahasiswa</th>\n",
       "      <th>jenis_kelamin</th>\n",
       "      <th>IPS1</th>\n",
       "      <th>IPS2</th>\n",
       "      <th>IPS3</th>\n",
       "      <th>IPS4</th>\n",
       "    </tr>\n",
       "  </thead>\n",
       "  <tbody>\n",
       "    <tr>\n",
       "      <th>0</th>\n",
       "      <td>1</td>\n",
       "      <td>1</td>\n",
       "      <td>P</td>\n",
       "      <td>Perempuan</td>\n",
       "      <td>3.32</td>\n",
       "      <td>3.43</td>\n",
       "      <td>3.25</td>\n",
       "      <td>3.27</td>\n",
       "    </tr>\n",
       "    <tr>\n",
       "      <th>1</th>\n",
       "      <td>0</td>\n",
       "      <td>1</td>\n",
       "      <td>P</td>\n",
       "      <td>Perempuan</td>\n",
       "      <td>3.52</td>\n",
       "      <td>3.48</td>\n",
       "      <td>3.39</td>\n",
       "      <td>3.59</td>\n",
       "    </tr>\n",
       "    <tr>\n",
       "      <th>2</th>\n",
       "      <td>0</td>\n",
       "      <td>1</td>\n",
       "      <td>P</td>\n",
       "      <td>Perempuan</td>\n",
       "      <td>3.22</td>\n",
       "      <td>3.12</td>\n",
       "      <td>3.25</td>\n",
       "      <td>3.19</td>\n",
       "    </tr>\n",
       "    <tr>\n",
       "      <th>3</th>\n",
       "      <td>1</td>\n",
       "      <td>1</td>\n",
       "      <td>P</td>\n",
       "      <td>Perempuan</td>\n",
       "      <td>3.68</td>\n",
       "      <td>3.67</td>\n",
       "      <td>3.70</td>\n",
       "      <td>3.58</td>\n",
       "    </tr>\n",
       "    <tr>\n",
       "      <th>4</th>\n",
       "      <td>0</td>\n",
       "      <td>1</td>\n",
       "      <td>P</td>\n",
       "      <td>Perempuan</td>\n",
       "      <td>3.31</td>\n",
       "      <td>3.45</td>\n",
       "      <td>2.77</td>\n",
       "      <td>3.06</td>\n",
       "    </tr>\n",
       "  </tbody>\n",
       "</table>\n",
       "</div>"
      ],
      "text/plain": [
       "   class  id_prodi id_status_masuk_mahasiswa jenis_kelamin  IPS1  IPS2  IPS3  \\\n",
       "0      1         1                         P     Perempuan  3.32  3.43  3.25   \n",
       "1      0         1                         P     Perempuan  3.52  3.48  3.39   \n",
       "2      0         1                         P     Perempuan  3.22  3.12  3.25   \n",
       "3      1         1                         P     Perempuan  3.68  3.67  3.70   \n",
       "4      0         1                         P     Perempuan  3.31  3.45  2.77   \n",
       "\n",
       "   IPS4  \n",
       "0  3.27  \n",
       "1  3.59  \n",
       "2  3.19  \n",
       "3  3.58  \n",
       "4  3.06  "
      ]
     },
     "execution_count": 21,
     "metadata": {},
     "output_type": "execute_result"
    }
   ],
   "source": [
    "df.head()"
   ]
  },
  {
   "cell_type": "code",
   "execution_count": 22,
   "metadata": {},
   "outputs": [],
   "source": [
    "df['jenis_kelamin'] = df['jenis_kelamin'].map({'Laki-laki': 0, 'Perempuan': 1})"
   ]
  },
  {
   "cell_type": "code",
   "execution_count": 23,
   "metadata": {},
   "outputs": [
    {
     "data": {
      "text/plain": [
       "id_status_masuk_mahasiswa\n",
       "P    3265\n",
       "Name: count, dtype: int64"
      ]
     },
     "execution_count": 23,
     "metadata": {},
     "output_type": "execute_result"
    }
   ],
   "source": [
    "df['id_status_masuk_mahasiswa'].value_counts()"
   ]
  },
  {
   "cell_type": "code",
   "execution_count": 24,
   "metadata": {},
   "outputs": [],
   "source": [
    "df['id_status_masuk_mahasiswa'] = df['id_status_masuk_mahasiswa'].map({'P': 0, 'B': 1, 'M': 2})"
   ]
  },
  {
   "cell_type": "code",
   "execution_count": 25,
   "metadata": {},
   "outputs": [
    {
     "data": {
      "text/html": [
       "<div>\n",
       "<style scoped>\n",
       "    .dataframe tbody tr th:only-of-type {\n",
       "        vertical-align: middle;\n",
       "    }\n",
       "\n",
       "    .dataframe tbody tr th {\n",
       "        vertical-align: top;\n",
       "    }\n",
       "\n",
       "    .dataframe thead th {\n",
       "        text-align: right;\n",
       "    }\n",
       "</style>\n",
       "<table border=\"1\" class=\"dataframe\">\n",
       "  <thead>\n",
       "    <tr style=\"text-align: right;\">\n",
       "      <th></th>\n",
       "      <th>class</th>\n",
       "      <th>id_prodi</th>\n",
       "      <th>id_status_masuk_mahasiswa</th>\n",
       "      <th>jenis_kelamin</th>\n",
       "      <th>IPS1</th>\n",
       "      <th>IPS2</th>\n",
       "      <th>IPS3</th>\n",
       "      <th>IPS4</th>\n",
       "    </tr>\n",
       "  </thead>\n",
       "  <tbody>\n",
       "    <tr>\n",
       "      <th>0</th>\n",
       "      <td>1</td>\n",
       "      <td>1</td>\n",
       "      <td>0</td>\n",
       "      <td>1</td>\n",
       "      <td>3.32</td>\n",
       "      <td>3.43</td>\n",
       "      <td>3.25</td>\n",
       "      <td>3.27</td>\n",
       "    </tr>\n",
       "    <tr>\n",
       "      <th>1</th>\n",
       "      <td>0</td>\n",
       "      <td>1</td>\n",
       "      <td>0</td>\n",
       "      <td>1</td>\n",
       "      <td>3.52</td>\n",
       "      <td>3.48</td>\n",
       "      <td>3.39</td>\n",
       "      <td>3.59</td>\n",
       "    </tr>\n",
       "    <tr>\n",
       "      <th>2</th>\n",
       "      <td>0</td>\n",
       "      <td>1</td>\n",
       "      <td>0</td>\n",
       "      <td>1</td>\n",
       "      <td>3.22</td>\n",
       "      <td>3.12</td>\n",
       "      <td>3.25</td>\n",
       "      <td>3.19</td>\n",
       "    </tr>\n",
       "    <tr>\n",
       "      <th>3</th>\n",
       "      <td>1</td>\n",
       "      <td>1</td>\n",
       "      <td>0</td>\n",
       "      <td>1</td>\n",
       "      <td>3.68</td>\n",
       "      <td>3.67</td>\n",
       "      <td>3.70</td>\n",
       "      <td>3.58</td>\n",
       "    </tr>\n",
       "    <tr>\n",
       "      <th>4</th>\n",
       "      <td>0</td>\n",
       "      <td>1</td>\n",
       "      <td>0</td>\n",
       "      <td>1</td>\n",
       "      <td>3.31</td>\n",
       "      <td>3.45</td>\n",
       "      <td>2.77</td>\n",
       "      <td>3.06</td>\n",
       "    </tr>\n",
       "  </tbody>\n",
       "</table>\n",
       "</div>"
      ],
      "text/plain": [
       "   class  id_prodi  id_status_masuk_mahasiswa  jenis_kelamin  IPS1  IPS2  \\\n",
       "0      1         1                          0              1  3.32  3.43   \n",
       "1      0         1                          0              1  3.52  3.48   \n",
       "2      0         1                          0              1  3.22  3.12   \n",
       "3      1         1                          0              1  3.68  3.67   \n",
       "4      0         1                          0              1  3.31  3.45   \n",
       "\n",
       "   IPS3  IPS4  \n",
       "0  3.25  3.27  \n",
       "1  3.39  3.59  \n",
       "2  3.25  3.19  \n",
       "3  3.70  3.58  \n",
       "4  2.77  3.06  "
      ]
     },
     "execution_count": 25,
     "metadata": {},
     "output_type": "execute_result"
    }
   ],
   "source": [
    "df.head()"
   ]
  },
  {
   "cell_type": "code",
   "execution_count": 26,
   "metadata": {},
   "outputs": [
    {
     "data": {
      "image/png": "[encoded data removed]",
      "text/plain": [
       "<Figure size 3000x2500 with 9 Axes>"
      ]
     },
     "metadata": {},
     "output_type": "display_data"
    }
   ],
   "source": [
    "plt.rcParams['figure.figsize']=(30,25)\n",
    "\n",
    "df.hist()\n",
    "\n",
    "plt.show()"
   ]
  },
  {
   "cell_type": "code",
   "execution_count": 27,
   "metadata": {},
   "outputs": [],
   "source": [
    "# plot correlation matrix\n",
    "corr = df.corr()"
   ]
  },
  {
   "cell_type": "code",
   "execution_count": 28,
   "metadata": {},
   "outputs": [
    {
     "data": {
      "text/plain": [
       "class                        1.000000\n",
       "IPS1                         0.215911\n",
       "IPS4                         0.082517\n",
       "IPS3                         0.043753\n",
       "IPS2                         0.017682\n",
       "id_prodi                     0.003630\n",
       "id_status_masuk_mahasiswa         NaN\n",
       "jenis_kelamin                     NaN\n",
       "Name: class, dtype: float64"
      ]
     },
     "execution_count": 28,
     "metadata": {},
     "output_type": "execute_result"
    }
   ],
   "source": [
    "corr['class'].sort_values(ascending=False)"
   ]
  },
  {
   "cell_type": "code",
   "execution_count": 29,
   "metadata": {},
   "outputs": [
    {
     "data": {
      "image/png": "[encoded data removed]",
      "text/plain": [
       "<Figure size 2000x2000 with 2 Axes>"
      ]
     },
     "metadata": {},
     "output_type": "display_data"
    }
   ],
   "source": [
    "plt.figure(figsize=(20, 20))\n",
    "plt.title('Correlation Matrix')\n",
    "a = sns.heatmap(corr, square=True, annot=True, fmt='.2f', linecolor='white')\n",
    "a.set_xticklabels(a.get_xticklabels(), rotation=90)\n",
    "a.set_yticklabels(a.get_yticklabels(), rotation=30)\n",
    "plt.show()\n"
   ]
  },
  {
   "cell_type": "code",
   "execution_count": 30,
   "metadata": {},
   "outputs": [],
   "source": [
    "df.drop(['id_status_masuk_mahasiswa', 'jenis_kelamin'], axis=1, inplace=True)"
   ]
  },
  {
   "cell_type": "code",
   "execution_count": 31,
   "metadata": {},
   "outputs": [],
   "source": [
    "corr = df.corr()"
   ]
  },
  {
   "cell_type": "code",
   "execution_count": 32,
   "metadata": {},
   "outputs": [
    {
     "data": {
      "text/plain": [
       "class       1.000000\n",
       "IPS1        0.215911\n",
       "IPS4        0.082517\n",
       "IPS3        0.043753\n",
       "IPS2        0.017682\n",
       "id_prodi    0.003630\n",
       "Name: class, dtype: float64"
      ]
     },
     "execution_count": 32,
     "metadata": {},
     "output_type": "execute_result"
    }
   ],
   "source": [
    "corr['class'].sort_values(ascending=False)"
   ]
  },
  {
   "cell_type": "code",
   "execution_count": 33,
   "metadata": {},
   "outputs": [
    {
     "data": {
      "image/png": "[encoded data removed]",
      "text/plain": [
       "<Figure size 2000x2000 with 2 Axes>"
      ]
     },
     "metadata": {},
     "output_type": "display_data"
    }
   ],
   "source": [
    "plt.figure(figsize=(20, 20))\n",
    "plt.title('Correlation Matrix')\n",
    "a = sns.heatmap(corr, square=True, annot=True, fmt='.2f', linecolor='white')\n",
    "a.set_xticklabels(a.get_xticklabels(), rotation=90)\n",
    "a.set_yticklabels(a.get_yticklabels(), rotation=30)\n",
    "plt.show()"
   ]
  },
  {
   "cell_type": "code",
   "execution_count": 34,
   "metadata": {},
   "outputs": [],
   "source": [
    "X = df.drop(['class'], axis=1)\n",
    "\n",
    "y = df['class']"
   ]
  },
  {
   "cell_type": "code",
   "execution_count": 35,
   "metadata": {},
   "outputs": [
    {
     "name": "stdout",
     "output_type": "stream",
     "text": [
      "Defaulting to user installation because normal site-packages is not writeable\n",
      "Requirement already satisfied: scikit-learn in /Users/siibnu/Library/Python/3.9/lib/python/site-packages (1.3.2)\n",
      "Requirement already satisfied: numpy<2.0,>=1.17.3 in /Users/siibnu/Library/Python/3.9/lib/python/site-packages (from scikit-learn) (1.26.3)\n",
      "Requirement already satisfied: scipy>=1.5.0 in /Users/siibnu/Library/Python/3.9/lib/python/site-packages (from scikit-learn) (1.11.4)\n",
      "Requirement already satisfied: joblib>=1.1.1 in /Users/siibnu/Library/Python/3.9/lib/python/site-packages (from scikit-learn) (1.3.2)\n",
      "Requirement already satisfied: threadpoolctl>=2.0.0 in /Users/siibnu/Library/Python/3.9/lib/python/site-packages (from scikit-learn) (3.2.0)\n"
     ]
    }
   ],
   "source": [
    "!pip3 install -U scikit-learn  "
   ]
  },
  {
   "cell_type": "code",
   "execution_count": 36,
   "metadata": {},
   "outputs": [],
   "source": [
    "from sklearn.model_selection import train_test_split\n",
    "\n",
    "X_train, X_test, y_train, y_test = train_test_split(X, y, test_size = 0.2, random_state = 0)"
   ]
  },
  {
   "cell_type": "code",
   "execution_count": 37,
   "metadata": {},
   "outputs": [
    {
     "data": {
      "text/plain": [
       "((2612, 5), (653, 5))"
      ]
     },
     "execution_count": 37,
     "metadata": {},
     "output_type": "execute_result"
    }
   ],
   "source": [
    "# check the shape of X_train and X_test\n",
    "\n",
    "X_train.shape, X_test.shape"
   ]
  },
  {
   "cell_type": "code",
   "execution_count": 38,
   "metadata": {},
   "outputs": [
    {
     "data": {
      "text/plain": [
       "id_prodi       int8\n",
       "IPS1        float64\n",
       "IPS2        float64\n",
       "IPS3        float64\n",
       "IPS4        float64\n",
       "dtype: object"
      ]
     },
     "execution_count": 38,
     "metadata": {},
     "output_type": "execute_result"
    }
   ],
   "source": [
    "# check data types in X_train\n",
    "\n",
    "X_train.dtypes"
   ]
  },
  {
   "cell_type": "code",
   "execution_count": 39,
   "metadata": {},
   "outputs": [
    {
     "data": {
      "text/plain": [
       "id_prodi    0\n",
       "IPS1        0\n",
       "IPS2        0\n",
       "IPS3        0\n",
       "IPS4        0\n",
       "dtype: int64"
      ]
     },
     "execution_count": 39,
     "metadata": {},
     "output_type": "execute_result"
    }
   ],
   "source": [
    "# check missing values in numerical variables in X_train\n",
    "\n",
    "X_train.isnull().sum()"
   ]
  },
  {
   "cell_type": "code",
   "execution_count": 40,
   "metadata": {},
   "outputs": [
    {
     "data": {
      "text/html": [
       "<div>\n",
       "<style scoped>\n",
       "    .dataframe tbody tr th:only-of-type {\n",
       "        vertical-align: middle;\n",
       "    }\n",
       "\n",
       "    .dataframe tbody tr th {\n",
       "        vertical-align: top;\n",
       "    }\n",
       "\n",
       "    .dataframe thead th {\n",
       "        text-align: right;\n",
       "    }\n",
       "</style>\n",
       "<table border=\"1\" class=\"dataframe\">\n",
       "  <thead>\n",
       "    <tr style=\"text-align: right;\">\n",
       "      <th></th>\n",
       "      <th>id_prodi</th>\n",
       "      <th>IPS1</th>\n",
       "      <th>IPS2</th>\n",
       "      <th>IPS3</th>\n",
       "      <th>IPS4</th>\n",
       "    </tr>\n",
       "  </thead>\n",
       "  <tbody>\n",
       "    <tr>\n",
       "      <th>454</th>\n",
       "      <td>1</td>\n",
       "      <td>3.41</td>\n",
       "      <td>3.57</td>\n",
       "      <td>3.66</td>\n",
       "      <td>3.61</td>\n",
       "    </tr>\n",
       "    <tr>\n",
       "      <th>1553</th>\n",
       "      <td>1</td>\n",
       "      <td>3.50</td>\n",
       "      <td>3.53</td>\n",
       "      <td>3.55</td>\n",
       "      <td>3.61</td>\n",
       "    </tr>\n",
       "    <tr>\n",
       "      <th>722</th>\n",
       "      <td>1</td>\n",
       "      <td>3.59</td>\n",
       "      <td>3.72</td>\n",
       "      <td>3.73</td>\n",
       "      <td>3.77</td>\n",
       "    </tr>\n",
       "    <tr>\n",
       "      <th>2062</th>\n",
       "      <td>1</td>\n",
       "      <td>3.45</td>\n",
       "      <td>3.55</td>\n",
       "      <td>3.52</td>\n",
       "      <td>3.50</td>\n",
       "    </tr>\n",
       "    <tr>\n",
       "      <th>984</th>\n",
       "      <td>1</td>\n",
       "      <td>3.75</td>\n",
       "      <td>3.77</td>\n",
       "      <td>3.80</td>\n",
       "      <td>3.80</td>\n",
       "    </tr>\n",
       "  </tbody>\n",
       "</table>\n",
       "</div>"
      ],
      "text/plain": [
       "      id_prodi  IPS1  IPS2  IPS3  IPS4\n",
       "454          1  3.41  3.57  3.66  3.61\n",
       "1553         1  3.50  3.53  3.55  3.61\n",
       "722          1  3.59  3.72  3.73  3.77\n",
       "2062         1  3.45  3.55  3.52  3.50\n",
       "984          1  3.75  3.77  3.80  3.80"
      ]
     },
     "execution_count": 40,
     "metadata": {},
     "output_type": "execute_result"
    }
   ],
   "source": [
    "X_train.head()"
   ]
  },
  {
   "cell_type": "code",
   "execution_count": 41,
   "metadata": {},
   "outputs": [
    {
     "data": {
      "text/plain": [
       "Index(['id_prodi', 'IPS1', 'IPS2', 'IPS3', 'IPS4'], dtype='object')"
      ]
     },
     "execution_count": 41,
     "metadata": {},
     "output_type": "execute_result"
    }
   ],
   "source": [
    "cols = X_train.columns\n",
    "cols"
   ]
  },
  {
   "cell_type": "code",
   "execution_count": 42,
   "metadata": {},
   "outputs": [],
   "source": [
    "# from sklearn.preprocessing import StandardScaler\n",
    "\n",
    "# scaler = StandardScaler()\n",
    "\n",
    "# X_train = scaler.fit_transform(X_train)\n",
    "\n",
    "# X_test = scaler.transform(X_test)"
   ]
  },
  {
   "cell_type": "code",
   "execution_count": 43,
   "metadata": {},
   "outputs": [],
   "source": [
    "# X_train = pd.DataFrame(X_train, columns=[cols])"
   ]
  },
  {
   "cell_type": "code",
   "execution_count": 44,
   "metadata": {},
   "outputs": [],
   "source": [
    "# X_test = pd.DataFrame(X_test, columns=[cols])"
   ]
  },
  {
   "cell_type": "code",
   "execution_count": 45,
   "metadata": {},
   "outputs": [
    {
     "data": {
      "text/html": [
       "<div>\n",
       "<style scoped>\n",
       "    .dataframe tbody tr th:only-of-type {\n",
       "        vertical-align: middle;\n",
       "    }\n",
       "\n",
       "    .dataframe tbody tr th {\n",
       "        vertical-align: top;\n",
       "    }\n",
       "\n",
       "    .dataframe thead th {\n",
       "        text-align: right;\n",
       "    }\n",
       "</style>\n",
       "<table border=\"1\" class=\"dataframe\">\n",
       "  <thead>\n",
       "    <tr style=\"text-align: right;\">\n",
       "      <th></th>\n",
       "      <th>id_prodi</th>\n",
       "      <th>IPS1</th>\n",
       "      <th>IPS2</th>\n",
       "      <th>IPS3</th>\n",
       "      <th>IPS4</th>\n",
       "    </tr>\n",
       "  </thead>\n",
       "  <tbody>\n",
       "    <tr>\n",
       "      <th>454</th>\n",
       "      <td>1</td>\n",
       "      <td>3.41</td>\n",
       "      <td>3.57</td>\n",
       "      <td>3.66</td>\n",
       "      <td>3.61</td>\n",
       "    </tr>\n",
       "    <tr>\n",
       "      <th>1553</th>\n",
       "      <td>1</td>\n",
       "      <td>3.50</td>\n",
       "      <td>3.53</td>\n",
       "      <td>3.55</td>\n",
       "      <td>3.61</td>\n",
       "    </tr>\n",
       "    <tr>\n",
       "      <th>722</th>\n",
       "      <td>1</td>\n",
       "      <td>3.59</td>\n",
       "      <td>3.72</td>\n",
       "      <td>3.73</td>\n",
       "      <td>3.77</td>\n",
       "    </tr>\n",
       "    <tr>\n",
       "      <th>2062</th>\n",
       "      <td>1</td>\n",
       "      <td>3.45</td>\n",
       "      <td>3.55</td>\n",
       "      <td>3.52</td>\n",
       "      <td>3.50</td>\n",
       "    </tr>\n",
       "    <tr>\n",
       "      <th>984</th>\n",
       "      <td>1</td>\n",
       "      <td>3.75</td>\n",
       "      <td>3.77</td>\n",
       "      <td>3.80</td>\n",
       "      <td>3.80</td>\n",
       "    </tr>\n",
       "  </tbody>\n",
       "</table>\n",
       "</div>"
      ],
      "text/plain": [
       "      id_prodi  IPS1  IPS2  IPS3  IPS4\n",
       "454          1  3.41  3.57  3.66  3.61\n",
       "1553         1  3.50  3.53  3.55  3.61\n",
       "722          1  3.59  3.72  3.73  3.77\n",
       "2062         1  3.45  3.55  3.52  3.50\n",
       "984          1  3.75  3.77  3.80  3.80"
      ]
     },
     "execution_count": 45,
     "metadata": {},
     "output_type": "execute_result"
    }
   ],
   "source": [
    "X_train.head()"
   ]
  },
  {
   "cell_type": "code",
   "execution_count": 110,
   "metadata": {},
   "outputs": [
    {
     "data": {
      "text/html": [
       "<style>#sk-container-id-8 {color: black;}#sk-container-id-8 pre{padding: 0;}#sk-container-id-8 div.sk-toggleable {background-color: white;}#sk-container-id-8 label.sk-toggleable__label {cursor: pointer;display: block;width: 100%;margin-bottom: 0;padding: 0.3em;box-sizing: border-box;text-align: center;}#sk-container-id-8 label.sk-toggleable__label-arrow:before {content: \"▸\";float: left;margin-right: 0.25em;color: #696969;}#sk-container-id-8 label.sk-toggleable__label-arrow:hover:before {color: black;}#sk-container-id-8 div.sk-estimator:hover label.sk-toggleable__label-arrow:before {color: black;}#sk-container-id-8 div.sk-toggleable__content {max-height: 0;max-width: 0;overflow: hidden;text-align: left;background-color: #f0f8ff;}#sk-container-id-8 div.sk-toggleable__content pre {margin: 0.2em;color: black;border-radius: 0.25em;background-color: #f0f8ff;}#sk-container-id-8 input.sk-toggleable__control:checked~div.sk-toggleable__content {max-height: 200px;max-width: 100%;overflow: auto;}#sk-container-id-8 input.sk-toggleable__control:checked~label.sk-toggleable__label-arrow:before {content: \"▾\";}#sk-container-id-8 div.sk-estimator input.sk-toggleable__control:checked~label.sk-toggleable__label {background-color: #d4ebff;}#sk-container-id-8 div.sk-label input.sk-toggleable__control:checked~label.sk-toggleable__label {background-color: #d4ebff;}#sk-container-id-8 input.sk-hidden--visually {border: 0;clip: rect(1px 1px 1px 1px);clip: rect(1px, 1px, 1px, 1px);height: 1px;margin: -1px;overflow: hidden;padding: 0;position: absolute;width: 1px;}#sk-container-id-8 div.sk-estimator {font-family: monospace;background-color: #f0f8ff;border: 1px dotted black;border-radius: 0.25em;box-sizing: border-box;margin-bottom: 0.5em;}#sk-container-id-8 div.sk-estimator:hover {background-color: #d4ebff;}#sk-container-id-8 div.sk-parallel-item::after {content: \"\";width: 100%;border-bottom: 1px solid gray;flex-grow: 1;}#sk-container-id-8 div.sk-label:hover label.sk-toggleable__label {background-color: #d4ebff;}#sk-container-id-8 div.sk-serial::before {content: \"\";position: absolute;border-left: 1px solid gray;box-sizing: border-box;top: 0;bottom: 0;left: 50%;z-index: 0;}#sk-container-id-8 div.sk-serial {display: flex;flex-direction: column;align-items: center;background-color: white;padding-right: 0.2em;padding-left: 0.2em;position: relative;}#sk-container-id-8 div.sk-item {position: relative;z-index: 1;}#sk-container-id-8 div.sk-parallel {display: flex;align-items: stretch;justify-content: center;background-color: white;position: relative;}#sk-container-id-8 div.sk-item::before, #sk-container-id-8 div.sk-parallel-item::before {content: \"\";position: absolute;border-left: 1px solid gray;box-sizing: border-box;top: 0;bottom: 0;left: 50%;z-index: -1;}#sk-container-id-8 div.sk-parallel-item {display: flex;flex-direction: column;z-index: 1;position: relative;background-color: white;}#sk-container-id-8 div.sk-parallel-item:first-child::after {align-self: flex-end;width: 50%;}#sk-container-id-8 div.sk-parallel-item:last-child::after {align-self: flex-start;width: 50%;}#sk-container-id-8 div.sk-parallel-item:only-child::after {width: 0;}#sk-container-id-8 div.sk-dashed-wrapped {border: 1px dashed gray;margin: 0 0.4em 0.5em 0.4em;box-sizing: border-box;padding-bottom: 0.4em;background-color: white;}#sk-container-id-8 div.sk-label label {font-family: monospace;font-weight: bold;display: inline-block;line-height: 1.2em;}#sk-container-id-8 div.sk-label-container {text-align: center;}#sk-container-id-8 div.sk-container {/* jupyter's `normalize.less` sets `[hidden] { display: none; }` but bootstrap.min.css set `[hidden] { display: none !important; }` so we also need the `!important` here to be able to override the default hidden behavior on the sphinx rendered scikit-learn.org. See: https://github.com/scikit-learn/scikit-learn/issues/21755 */display: inline-block !important;position: relative;}#sk-container-id-8 div.sk-text-repr-fallback {display: none;}</style><div id=\"sk-container-id-8\" class=\"sk-top-container\"><div class=\"sk-text-repr-fallback\"><pre>KNeighborsClassifier(n_neighbors=29)</pre><b>In a Jupyter environment, please rerun this cell to show the HTML representation or trust the notebook. <br />On GitHub, the HTML representation is unable to render, please try loading this page with nbviewer.org.</b></div><div class=\"sk-container\" hidden><div class=\"sk-item\"><div class=\"sk-estimator sk-toggleable\"><input class=\"sk-toggleable__control sk-hidden--visually\" id=\"sk-estimator-id-8\" type=\"checkbox\" checked><label for=\"sk-estimator-id-8\" class=\"sk-toggleable__label sk-toggleable__label-arrow\">KNeighborsClassifier</label><div class=\"sk-toggleable__content\"><pre>KNeighborsClassifier(n_neighbors=29)</pre></div></div></div></div></div>"
      ],
      "text/plain": [
       "KNeighborsClassifier(n_neighbors=29)"
      ]
     },
     "execution_count": 110,
     "metadata": {},
     "output_type": "execute_result"
    }
   ],
   "source": [
    "# import KNeighbors ClaSSifier from sklearn\n",
    "from sklearn.neighbors import KNeighborsClassifier\n",
    "\n",
    "\n",
    "# instantiate the model\n",
    "knn = KNeighborsClassifier(n_neighbors=29)\n",
    "\n",
    "\n",
    "# fit the model to the training set\n",
    "knn.fit(X_train, y_train)"
   ]
  },
  {
   "cell_type": "code",
   "execution_count": 111,
   "metadata": {},
   "outputs": [
    {
     "data": {
      "text/plain": [
       "array([0, 1, 1, 0, 1, 0, 0, 1, 1, 1, 1, 1, 1, 0, 0, 1, 0, 1, 0, 1, 0, 0,\n",
       "       1, 1, 1, 1, 0, 1, 0, 0, 1, 0, 1, 0, 1, 0, 1, 0, 1, 1, 0, 1, 1, 1,\n",
       "       1, 1, 1, 0, 1, 1, 1, 1, 1, 1, 1, 1, 1, 0, 1, 1, 0, 0, 0, 1, 1, 0,\n",
       "       1, 1, 0, 1, 0, 1, 0, 1, 1, 1, 1, 1, 1, 1, 1, 0, 0, 1, 1, 1, 1, 0,\n",
       "       1, 0, 1, 0, 0, 1, 1, 1, 1, 1, 1, 1, 1, 0, 0, 1, 0, 1, 1, 1, 1, 1,\n",
       "       0, 0, 1, 0, 0, 0, 1, 0, 0, 0, 0, 1, 0, 1, 1, 0, 1, 0, 1, 0, 1, 1,\n",
       "       0, 0, 0, 1, 0, 1, 1, 0, 1, 1, 1, 0, 0, 1, 1, 1, 1, 1, 1, 0, 1, 1,\n",
       "       0, 1, 1, 0, 1, 1, 1, 1, 0, 1, 0, 1, 0, 1, 1, 0, 0, 0, 1, 1, 1, 0,\n",
       "       0, 0, 1, 1, 1, 1, 1, 1, 0, 0, 1, 1, 0, 0, 1, 0, 1, 1, 0, 1, 1, 0,\n",
       "       1, 1, 0, 1, 0, 0, 0, 0, 1, 0, 1, 0, 0, 1, 1, 1, 1, 0, 0, 1, 0, 0,\n",
       "       1, 0, 1, 1, 1, 0, 0, 1, 1, 0, 1, 1, 0, 1, 1, 1, 1, 0, 1, 0, 0, 0,\n",
       "       0, 0, 0, 1, 1, 1, 1, 0, 0, 1, 0, 1, 0, 1, 1, 0, 1, 1, 0, 0, 1, 1,\n",
       "       0, 1, 1, 1, 1, 1, 1, 1, 0, 0, 0, 0, 1, 1, 1, 1, 1, 1, 0, 0, 0, 1,\n",
       "       0, 1, 1, 0, 0, 1, 0, 0, 1, 0, 1, 0, 1, 1, 0, 1, 0, 0, 0, 0, 1, 0,\n",
       "       0, 0, 1, 1, 0, 1, 0, 1, 1, 0, 1, 1, 0, 1, 1, 0, 0, 0, 1, 1, 1, 0,\n",
       "       0, 0, 1, 1, 1, 1, 0, 0, 0, 1, 1, 1, 1, 0, 1, 1, 1, 1, 0, 0, 1, 1,\n",
       "       0, 1, 0, 1, 0, 1, 0, 1, 0, 1, 1, 1, 1, 1, 1, 1, 1, 0, 0, 1, 1, 1,\n",
       "       1, 0, 1, 0, 1, 1, 1, 0, 0, 1, 1, 1, 1, 0, 0, 0, 0, 0, 0, 1, 0, 0,\n",
       "       1, 0, 1, 1, 1, 1, 0, 0, 1, 1, 0, 0, 0, 0, 1, 0, 0, 1, 1, 0, 1, 1,\n",
       "       1, 0, 0, 0, 1, 0, 1, 1, 0, 1, 1, 1, 0, 0, 1, 1, 0, 1, 1, 1, 0, 1,\n",
       "       1, 1, 0, 1, 0, 1, 0, 1, 1, 1, 1, 1, 0, 1, 1, 0, 1, 1, 0, 1, 1, 0,\n",
       "       0, 1, 0, 0, 1, 0, 1, 0, 0, 0, 1, 1, 1, 1, 1, 0, 0, 1, 1, 1, 0, 0,\n",
       "       1, 1, 0, 1, 0, 1, 0, 1, 0, 0, 0, 0, 0, 1, 0, 1, 1, 1, 0, 0, 0, 0,\n",
       "       0, 0, 0, 1, 1, 0, 0, 1, 0, 1, 0, 0, 1, 1, 1, 0, 0, 0, 0, 1, 0, 1,\n",
       "       1, 0, 1, 1, 0, 0, 1, 1, 1, 1, 1, 1, 1, 1, 0, 1, 0, 0, 1, 0, 0, 0,\n",
       "       0, 1, 0, 0, 0, 0, 0, 1, 1, 0, 1, 1, 0, 0, 0, 0, 1, 0, 0, 1, 1, 1,\n",
       "       1, 0, 0, 0, 1, 1, 0, 0, 0, 1, 0, 1, 0, 0, 0, 0, 1, 0, 0, 0, 1, 1,\n",
       "       0, 1, 1, 1, 1, 0, 1, 1, 1, 0, 0, 1, 0, 1, 0, 1, 0, 1, 1, 1, 1, 0,\n",
       "       0, 1, 1, 1, 0, 0, 1, 1, 1, 1, 1, 1, 1, 1, 0, 0, 1, 0, 1, 0, 0, 0,\n",
       "       1, 1, 0, 1, 0, 1, 0, 0, 1, 0, 1, 1, 0, 1, 1])"
      ]
     },
     "execution_count": 111,
     "metadata": {},
     "output_type": "execute_result"
    }
   ],
   "source": [
    "y_pred = knn.predict(X_test)\n",
    "\n",
    "y_pred"
   ]
  },
  {
   "cell_type": "code",
   "execution_count": 112,
   "metadata": {},
   "outputs": [
    {
     "data": {
      "text/plain": [
       "array([0.68965517, 0.34482759, 0.24137931, 0.51724138, 0.44827586,\n",
       "       0.55172414, 0.93103448, 0.24137931, 0.4137931 , 0.        ,\n",
       "       0.4137931 , 0.34482759, 0.24137931, 0.65517241, 0.62068966,\n",
       "       0.31034483, 0.51724138, 0.17241379, 0.75862069, 0.37931034,\n",
       "       0.51724138, 0.5862069 , 0.34482759, 0.48275862, 0.27586207,\n",
       "       0.13793103, 0.51724138, 0.13793103, 0.75862069, 0.72413793,\n",
       "       0.31034483, 0.62068966, 0.13793103, 0.51724138, 0.27586207,\n",
       "       0.75862069, 0.        , 0.55172414, 0.44827586, 0.17241379,\n",
       "       0.5862069 , 0.27586207, 0.34482759, 0.37931034, 0.34482759,\n",
       "       0.37931034, 0.20689655, 0.89655172, 0.37931034, 0.37931034,\n",
       "       0.37931034, 0.24137931, 0.27586207, 0.27586207, 0.34482759,\n",
       "       0.34482759, 0.44827586, 0.75862069, 0.31034483, 0.4137931 ,\n",
       "       0.5862069 , 0.5862069 , 0.5862069 , 0.44827586, 0.27586207,\n",
       "       0.51724138, 0.34482759, 0.34482759, 0.68965517, 0.31034483,\n",
       "       0.82758621, 0.4137931 , 0.82758621, 0.48275862, 0.31034483,\n",
       "       0.44827586, 0.24137931, 0.44827586, 0.4137931 , 0.37931034,\n",
       "       0.27586207, 0.93103448, 0.72413793, 0.24137931, 0.10344828,\n",
       "       0.37931034, 0.27586207, 0.62068966, 0.31034483, 0.5862069 ,\n",
       "       0.37931034, 0.51724138, 0.5862069 , 0.37931034, 0.34482759,\n",
       "       0.48275862, 0.24137931, 0.13793103, 0.        , 0.31034483,\n",
       "       0.4137931 , 0.62068966, 0.62068966, 0.4137931 , 0.51724138,\n",
       "       0.31034483, 0.27586207, 0.31034483, 0.        , 0.27586207,\n",
       "       0.62068966, 0.79310345, 0.48275862, 0.72413793, 0.55172414,\n",
       "       0.79310345, 0.44827586, 0.51724138, 0.89655172, 0.51724138,\n",
       "       0.68965517, 0.13793103, 0.65517241, 0.4137931 , 0.37931034,\n",
       "       0.75862069, 0.4137931 , 0.62068966, 0.48275862, 0.55172414,\n",
       "       0.17241379, 0.4137931 , 0.65517241, 0.68965517, 0.65517241,\n",
       "       0.27586207, 0.93103448, 0.34482759, 0.24137931, 0.51724138,\n",
       "       0.24137931, 0.4137931 , 0.48275862, 0.68965517, 0.5862069 ,\n",
       "       0.37931034, 0.20689655, 0.24137931, 0.        , 0.37931034,\n",
       "       0.24137931, 0.72413793, 0.44827586, 0.17241379, 0.89655172,\n",
       "       0.17241379, 0.48275862, 0.86206897, 0.27586207, 0.48275862,\n",
       "       0.37931034, 0.4137931 , 0.51724138, 0.34482759, 0.5862069 ,\n",
       "       0.4137931 , 0.68965517, 0.48275862, 0.20689655, 0.72413793,\n",
       "       0.5862069 , 0.68965517, 0.48275862, 0.34482759, 0.        ,\n",
       "       0.62068966, 0.55172414, 0.51724138, 0.37931034, 0.34482759,\n",
       "       0.37931034, 0.48275862, 0.34482759, 0.37931034, 0.72413793,\n",
       "       0.68965517, 0.44827586, 0.20689655, 0.55172414, 0.68965517,\n",
       "       0.31034483, 0.51724138, 0.34482759, 0.37931034, 0.55172414,\n",
       "       0.34482759, 0.20689655, 0.5862069 , 0.        , 0.10344828,\n",
       "       0.82758621, 0.44827586, 0.55172414, 0.55172414, 0.55172414,\n",
       "       0.75862069, 0.37931034, 0.55172414, 0.4137931 , 0.68965517,\n",
       "       0.55172414, 0.44827586, 0.4137931 , 0.24137931, 0.24137931,\n",
       "       0.62068966, 0.82758621, 0.24137931, 0.65517241, 0.75862069,\n",
       "       0.44827586, 0.5862069 , 0.4137931 , 0.27586207, 0.27586207,\n",
       "       0.68965517, 0.5862069 , 0.4137931 , 0.31034483, 0.5862069 ,\n",
       "       0.        , 0.34482759, 0.55172414, 0.        , 0.48275862,\n",
       "       0.37931034, 0.48275862, 0.75862069, 0.27586207, 0.5862069 ,\n",
       "       0.55172414, 0.65517241, 0.5862069 , 0.55172414, 0.68965517,\n",
       "       0.4137931 , 0.24137931, 0.48275862, 0.34482759, 0.82758621,\n",
       "       0.65517241, 0.34482759, 0.82758621, 0.37931034, 0.5862069 ,\n",
       "       0.4137931 , 0.44827586, 0.75862069, 0.27586207, 0.17241379,\n",
       "       0.51724138, 0.72413793, 0.37931034, 0.44827586, 0.75862069,\n",
       "       0.20689655, 0.34482759, 0.10344828, 0.37931034, 0.31034483,\n",
       "       0.31034483, 0.20689655, 0.65517241, 0.51724138, 0.75862069,\n",
       "       0.55172414, 0.4137931 , 0.44827586, 0.27586207, 0.37931034,\n",
       "       0.37931034, 0.10344828, 0.75862069, 0.51724138, 0.75862069,\n",
       "       0.48275862, 0.68965517, 0.44827586, 0.31034483, 0.55172414,\n",
       "       0.55172414, 0.34482759, 0.75862069, 0.86206897, 0.44827586,\n",
       "       0.5862069 , 0.31034483, 0.75862069, 0.37931034, 0.24137931,\n",
       "       0.62068966, 0.17241379, 0.62068966, 0.5862069 , 0.51724138,\n",
       "       0.62068966, 0.4137931 , 0.93103448, 0.51724138, 0.55172414,\n",
       "       0.34482759, 0.48275862, 0.55172414, 0.31034483, 0.55172414,\n",
       "       0.10344828, 0.34482759, 0.55172414, 0.48275862, 0.17241379,\n",
       "       0.65517241, 0.37931034, 0.48275862, 0.93103448, 0.51724138,\n",
       "       0.55172414, 0.24137931, 0.44827586, 0.03448276, 0.65517241,\n",
       "       0.51724138, 0.51724138, 0.31034483, 0.37931034, 0.4137931 ,\n",
       "       0.20689655, 0.62068966, 0.68965517, 0.62068966, 0.31034483,\n",
       "       0.37931034, 0.48275862, 0.27586207, 0.5862069 , 0.27586207,\n",
       "       0.27586207, 0.44827586, 0.20689655, 0.51724138, 0.86206897,\n",
       "       0.34482759, 0.44827586, 0.82758621, 0.44827586, 0.89655172,\n",
       "       0.31034483, 0.55172414, 0.31034483, 0.55172414, 0.27586207,\n",
       "       0.72413793, 0.34482759, 0.20689655, 0.27586207, 0.4137931 ,\n",
       "       0.17241379, 0.13793103, 0.4137931 , 0.4137931 , 0.68965517,\n",
       "       0.79310345, 0.4137931 , 0.44827586, 0.37931034, 0.4137931 ,\n",
       "       0.51724138, 0.13793103, 0.5862069 , 0.44827586, 0.34482759,\n",
       "       0.20689655, 0.93103448, 0.86206897, 0.37931034, 0.48275862,\n",
       "       0.20689655, 0.31034483, 0.55172414, 0.75862069, 0.89655172,\n",
       "       0.51724138, 0.5862069 , 0.55172414, 0.48275862, 0.89655172,\n",
       "       0.93103448, 0.17241379, 0.62068966, 0.37931034, 0.13793103,\n",
       "       0.17241379, 0.44827586, 0.51724138, 0.65517241, 0.37931034,\n",
       "       0.24137931, 0.65517241, 0.51724138, 0.72413793, 0.72413793,\n",
       "       0.48275862, 0.5862069 , 0.79310345, 0.27586207, 0.44827586,\n",
       "       0.5862069 , 0.48275862, 0.31034483, 0.4137931 , 0.62068966,\n",
       "       0.68965517, 0.5862069 , 0.48275862, 0.72413793, 0.31034483,\n",
       "       0.31034483, 0.5862069 , 0.44827586, 0.20689655, 0.27586207,\n",
       "       0.93103448, 0.55172414, 0.34482759, 0.44827586, 0.68965517,\n",
       "       0.34482759, 0.13793103, 0.31034483, 0.82758621, 0.20689655,\n",
       "       0.4137931 , 0.44827586, 0.65517241, 0.13793103, 0.51724138,\n",
       "       0.34482759, 0.55172414, 0.24137931, 0.48275862, 0.        ,\n",
       "       0.27586207, 0.31034483, 0.68965517, 0.37931034, 0.20689655,\n",
       "       0.5862069 , 0.24137931, 0.10344828, 0.65517241, 0.44827586,\n",
       "       0.34482759, 0.51724138, 0.5862069 , 0.10344828, 0.75862069,\n",
       "       0.89655172, 0.4137931 , 0.72413793, 0.31034483, 0.51724138,\n",
       "       0.79310345, 0.55172414, 0.27586207, 0.34482759, 0.4137931 ,\n",
       "       0.48275862, 0.27586207, 0.5862069 , 0.79310345, 0.31034483,\n",
       "       0.20689655, 0.24137931, 0.72413793, 0.5862069 , 0.24137931,\n",
       "       0.03448276, 0.82758621, 0.4137931 , 0.65517241, 0.34482759,\n",
       "       0.5862069 , 0.10344828, 0.62068966, 0.62068966, 0.75862069,\n",
       "       0.79310345, 0.79310345, 0.31034483, 0.86206897, 0.24137931,\n",
       "       0.34482759, 0.27586207, 0.62068966, 0.55172414, 0.86206897,\n",
       "       0.55172414, 0.62068966, 0.79310345, 0.51724138, 0.03448276,\n",
       "       0.48275862, 0.96551724, 0.75862069, 0.31034483, 0.55172414,\n",
       "       0.34482759, 0.93103448, 0.79310345, 0.06896552, 0.4137931 ,\n",
       "       0.4137931 , 0.89655172, 0.75862069, 0.93103448, 0.93103448,\n",
       "       0.31034483, 0.75862069, 0.31034483, 0.48275862, 0.79310345,\n",
       "       0.34482759, 0.17241379, 0.62068966, 0.62068966, 0.13793103,\n",
       "       0.34482759, 0.24137931, 0.13793103, 0.37931034, 0.44827586,\n",
       "       0.27586207, 0.24137931, 0.79310345, 0.24137931, 0.5862069 ,\n",
       "       0.55172414, 0.44827586, 0.5862069 , 0.68965517, 0.75862069,\n",
       "       0.55172414, 0.44827586, 0.75862069, 0.51724138, 0.89655172,\n",
       "       0.96551724, 0.93103448, 0.44827586, 0.17241379, 0.89655172,\n",
       "       0.27586207, 0.37931034, 0.62068966, 0.62068966, 0.86206897,\n",
       "       0.68965517, 0.        , 0.75862069, 0.75862069, 0.44827586,\n",
       "       0.20689655, 0.44827586, 0.24137931, 0.72413793, 0.93103448,\n",
       "       0.72413793, 0.4137931 , 0.        , 0.62068966, 0.5862069 ,\n",
       "       0.5862069 , 0.31034483, 0.51724138, 0.4137931 , 0.51724138,\n",
       "       0.51724138, 0.72413793, 0.86206897, 0.34482759, 0.62068966,\n",
       "       0.5862069 , 0.72413793, 0.4137931 , 0.37931034, 0.55172414,\n",
       "       0.34482759, 0.17241379, 0.4137931 , 0.37931034, 0.5862069 ,\n",
       "       0.48275862, 0.44827586, 0.48275862, 0.5862069 , 0.62068966,\n",
       "       0.34482759, 0.68965517, 0.17241379, 0.65517241, 0.13793103,\n",
       "       0.82758621, 0.31034483, 0.44827586, 0.48275862, 0.17241379,\n",
       "       0.5862069 , 0.55172414, 0.31034483, 0.17241379, 0.13793103,\n",
       "       0.51724138, 0.65517241, 0.48275862, 0.17241379, 0.34482759,\n",
       "       0.31034483, 0.31034483, 0.10344828, 0.37931034, 0.37931034,\n",
       "       0.65517241, 0.75862069, 0.44827586, 0.55172414, 0.24137931,\n",
       "       0.65517241, 0.55172414, 0.68965517, 0.4137931 , 0.4137931 ,\n",
       "       0.65517241, 0.34482759, 0.55172414, 0.17241379, 0.89655172,\n",
       "       0.75862069, 0.34482759, 0.65517241, 0.31034483, 0.31034483,\n",
       "       0.5862069 , 0.31034483, 0.44827586])"
      ]
     },
     "execution_count": 112,
     "metadata": {},
     "output_type": "execute_result"
    }
   ],
   "source": [
    "knn.predict_proba(X_test)[:,0]"
   ]
  },
  {
   "cell_type": "code",
   "execution_count": 113,
   "metadata": {},
   "outputs": [
    {
     "name": "stdout",
     "output_type": "stream",
     "text": [
      "Model accuracy score: 0.6861\n"
     ]
    }
   ],
   "source": [
    "from sklearn.metrics import accuracy_score\n",
    "\n",
    "print('Model accuracy score: {0:0.4f}'. format(accuracy_score(y_test, y_pred)))"
   ]
  },
  {
   "cell_type": "code",
   "execution_count": 114,
   "metadata": {},
   "outputs": [],
   "source": [
    "# method to find optimal number of neighbors\n",
    "def find_optimal_k(X_train, y_train, X_test, y_test, max_k):\n",
    "    \n",
    "    # creating list of K for KNN\n",
    "    k_list = list(range(1,max_k+1,2))\n",
    "    \n",
    "    # creating list of cv scores\n",
    "    cv_scores = []\n",
    "    \n",
    "    # perform 10-fold cross validation\n",
    "    for k in k_list:\n",
    "        knn = KNeighborsClassifier(n_neighbors=k)\n",
    "        knn.fit(X_train, y_train)\n",
    "        y_pred = knn.predict(X_test)\n",
    "        scores = accuracy_score(y_test, y_pred)\n",
    "        cv_scores.append(scores)\n",
    "    \n",
    "    # changing to misclassification error\n",
    "    MSE = [1 - x for x in cv_scores]\n",
    "    \n",
    "    # determining best k\n",
    "    optimal_k = k_list[MSE.index(min(MSE))]\n",
    "    print('\\nThe optimal number of neighbors is %d.' % optimal_k)\n",
    "    \n",
    "    # plot misclassification error vs k \n",
    "    plt.figure(figsize=(10,6))\n",
    "    plt.plot(k_list, MSE)\n",
    "    plt.xlabel('Number of Neighbors K')\n",
    "    plt.ylabel('Misclassification Error')\n",
    "    plt.show()\n",
    "    \n",
    "    print(\"the misclassification error for each k value is : \", np.round(MSE,3))\n",
    "    \n",
    "    return optimal_k"
   ]
  },
  {
   "cell_type": "code",
   "execution_count": 115,
   "metadata": {},
   "outputs": [
    {
     "name": "stdout",
     "output_type": "stream",
     "text": [
      "\n",
      "The optimal number of neighbors is 29.\n"
     ]
    },
    {
     "data": {
      "image/png": "[encoded data removed]",
      "text/plain": [
       "<Figure size 1000x600 with 1 Axes>"
      ]
     },
     "metadata": {},
     "output_type": "display_data"
    },
    {
     "name": "stdout",
     "output_type": "stream",
     "text": [
      "the misclassification error for each k value is :  [0.401 0.358 0.346 0.349 0.34  0.342 0.334 0.348 0.342 0.332 0.326 0.32\n",
      " 0.325 0.322 0.314 0.314 0.315 0.317 0.322 0.32  0.325 0.317 0.323 0.319\n",
      " 0.325]\n"
     ]
    }
   ],
   "source": [
    "# run the function find_optimal_k\n",
    "optimal_k = find_optimal_k(X_train, y_train, X_test, y_test, max_k=50)"
   ]
  },
  {
   "cell_type": "code",
   "execution_count": 116,
   "metadata": {},
   "outputs": [
    {
     "name": "stdout",
     "output_type": "stream",
     "text": [
      "Training set score: 0.6857\n",
      "Test set score: 0.6861\n"
     ]
    }
   ],
   "source": [
    "# print the scores on training and test set\n",
    "\n",
    "print('Training set score: {:.4f}'.format(knn.score(X_train, y_train)))\n",
    "\n",
    "print('Test set score: {:.4f}'.format(knn.score(X_test, y_test)))"
   ]
  },
  {
   "cell_type": "code",
   "execution_count": 117,
   "metadata": {},
   "outputs": [
    {
     "data": {
      "text/plain": [
       "class\n",
       "1    332\n",
       "0    321\n",
       "Name: count, dtype: int64"
      ]
     },
     "execution_count": 117,
     "metadata": {},
     "output_type": "execute_result"
    }
   ],
   "source": [
    "# check class distribution in test set\n",
    "\n",
    "y_test.value_counts()"
   ]
  },
  {
   "cell_type": "code",
   "execution_count": 118,
   "metadata": {},
   "outputs": [
    {
     "name": "stdout",
     "output_type": "stream",
     "text": [
      "Confusion matrix\n",
      "\n",
      " [[201 120]\n",
      " [ 85 247]]\n",
      "\n",
      "True Positives(TP) =  201\n",
      "\n",
      "True Negatives(TN) =  247\n",
      "\n",
      "False Positives(FP) =  120\n",
      "\n",
      "False Negatives(FN) =  85\n"
     ]
    }
   ],
   "source": [
    "from sklearn.metrics import confusion_matrix\n",
    "\n",
    "cm = confusion_matrix(y_test, y_pred)\n",
    "\n",
    "print('Confusion matrix\\n\\n', cm)\n",
    "\n",
    "print('\\nTrue Positives(TP) = ', cm[0,0])\n",
    "\n",
    "print('\\nTrue Negatives(TN) = ', cm[1,1])\n",
    "\n",
    "print('\\nFalse Positives(FP) = ', cm[0,1])\n",
    "\n",
    "print('\\nFalse Negatives(FN) = ', cm[1,0])"
   ]
  },
  {
   "cell_type": "code",
   "execution_count": 119,
   "metadata": {},
   "outputs": [
    {
     "data": {
      "text/plain": [
       "<Axes: >"
      ]
     },
     "execution_count": 119,
     "metadata": {},
     "output_type": "execute_result"
    },
    {
     "data": {
      "image/png": "[encoded data removed]",
      "text/plain": [
       "<Figure size 600x400 with 2 Axes>"
      ]
     },
     "metadata": {},
     "output_type": "display_data"
    }
   ],
   "source": [
    "# visualize confusion matrix with seaborn heatmap\n",
    "\n",
    "plt.figure(figsize=(6,4))\n",
    "\n",
    "cm_matrix = pd.DataFrame(data=cm, columns=['Actual Positive:1', 'Actual Negative:0'], \n",
    "                                 index=['Predict Positive:1', 'Predict Negative:0'])\n",
    "\n",
    "sns.heatmap(cm_matrix, annot=True, fmt='d', cmap='YlGnBu')"
   ]
  },
  {
   "cell_type": "code",
   "execution_count": 120,
   "metadata": {},
   "outputs": [
    {
     "name": "stdout",
     "output_type": "stream",
     "text": [
      "              precision    recall  f1-score   support\n",
      "\n",
      "           0       0.70      0.63      0.66       321\n",
      "           1       0.67      0.74      0.71       332\n",
      "\n",
      "    accuracy                           0.69       653\n",
      "   macro avg       0.69      0.69      0.68       653\n",
      "weighted avg       0.69      0.69      0.68       653\n",
      "\n"
     ]
    }
   ],
   "source": [
    "from sklearn.metrics import classification_report\n",
    "\n",
    "print(classification_report(y_test, y_pred))"
   ]
  },
  {
   "cell_type": "code",
   "execution_count": 121,
   "metadata": {},
   "outputs": [],
   "source": [
    "TP = cm[0,0]\n",
    "TN = cm[1,1]\n",
    "FP = cm[0,1]\n",
    "FN = cm[1,0]"
   ]
  },
  {
   "cell_type": "code",
   "execution_count": 122,
   "metadata": {},
   "outputs": [
    {
     "name": "stdout",
     "output_type": "stream",
     "text": [
      "Classification accuracy : 0.6861\n"
     ]
    }
   ],
   "source": [
    "classification_accuracy = (TP + TN) / float(TP + TN + FP + FN)\n",
    "\n",
    "print('Classification accuracy : {0:0.4f}'.format(classification_accuracy))"
   ]
  },
  {
   "cell_type": "code",
   "execution_count": 123,
   "metadata": {},
   "outputs": [
    {
     "name": "stdout",
     "output_type": "stream",
     "text": [
      "Classification error : 0.3139\n"
     ]
    }
   ],
   "source": [
    "# print classification error\n",
    "\n",
    "classification_error = (FP + FN) / float(TP + TN + FP + FN)\n",
    "\n",
    "print('Classification error : {0:0.4f}'.format(classification_error))"
   ]
  },
  {
   "cell_type": "code",
   "execution_count": 124,
   "metadata": {},
   "outputs": [
    {
     "name": "stdout",
     "output_type": "stream",
     "text": [
      "Recall or Sensitivity : 0.7028\n"
     ]
    }
   ],
   "source": [
    "recall = TP / float(TP + FN)\n",
    "\n",
    "print('Recall or Sensitivity : {0:0.4f}'.format(recall))"
   ]
  },
  {
   "cell_type": "code",
   "execution_count": 125,
   "metadata": {},
   "outputs": [
    {
     "data": {
      "text/plain": [
       "['model.pkl']"
      ]
     },
     "execution_count": 125,
     "metadata": {},
     "output_type": "execute_result"
    }
   ],
   "source": [
    "# export model\n",
    "import joblib\n",
    "\n",
    "joblib.dump(knn, 'model.pkl')\n"
   ]
  },
  {
   "cell_type": "code",
   "execution_count": 126,
   "metadata": {},
   "outputs": [
    {
     "data": {
      "text/plain": [
       "Index(['id_prodi', 'IPS1', 'IPS2', 'IPS3', 'IPS4'], dtype='object')"
      ]
     },
     "execution_count": 126,
     "metadata": {},
     "output_type": "execute_result"
    }
   ],
   "source": [
    "X_train.columns"
   ]
  },
  {
   "cell_type": "code",
   "execution_count": 127,
   "metadata": {},
   "outputs": [],
   "source": [
    "# load model\n",
    "model = joblib.load('model.pkl')"
   ]
  },
  {
   "cell_type": "code",
   "execution_count": 128,
   "metadata": {},
   "outputs": [],
   "source": [
    "# make predictions for new data with input\n",
    "input_data = (1, 4, 4, 4, 4)"
   ]
  },
  {
   "cell_type": "code",
   "execution_count": 129,
   "metadata": {},
   "outputs": [
    {
     "name": "stdout",
     "output_type": "stream",
     "text": [
      "Mahasiswa lulus\n"
     ]
    },
    {
     "name": "stderr",
     "output_type": "stream",
     "text": [
      "/Users/siibnu/Library/Python/3.9/lib/python/site-packages/sklearn/base.py:465: UserWarning: X does not have valid feature names, but KNeighborsClassifier was fitted with feature names\n",
      "  warnings.warn(\n"
     ]
    }
   ],
   "source": [
    "# predict data\n",
    "prediction = model.predict([input_data])\n",
    "\n",
    "if prediction == 0:\n",
    "    print('Mahasiswa tidak lulus')\n",
    "else:\n",
    "    print('Mahasiswa lulus')"
   ]
  },
  {
   "cell_type": "code",
   "execution_count": 130,
   "metadata": {},
   "outputs": [
    {
     "data": {
      "text/html": [
       "<style>#sk-container-id-9 {color: black;}#sk-container-id-9 pre{padding: 0;}#sk-container-id-9 div.sk-toggleable {background-color: white;}#sk-container-id-9 label.sk-toggleable__label {cursor: pointer;display: block;width: 100%;margin-bottom: 0;padding: 0.3em;box-sizing: border-box;text-align: center;}#sk-container-id-9 label.sk-toggleable__label-arrow:before {content: \"▸\";float: left;margin-right: 0.25em;color: #696969;}#sk-container-id-9 label.sk-toggleable__label-arrow:hover:before {color: black;}#sk-container-id-9 div.sk-estimator:hover label.sk-toggleable__label-arrow:before {color: black;}#sk-container-id-9 div.sk-toggleable__content {max-height: 0;max-width: 0;overflow: hidden;text-align: left;background-color: #f0f8ff;}#sk-container-id-9 div.sk-toggleable__content pre {margin: 0.2em;color: black;border-radius: 0.25em;background-color: #f0f8ff;}#sk-container-id-9 input.sk-toggleable__control:checked~div.sk-toggleable__content {max-height: 200px;max-width: 100%;overflow: auto;}#sk-container-id-9 input.sk-toggleable__control:checked~label.sk-toggleable__label-arrow:before {content: \"▾\";}#sk-container-id-9 div.sk-estimator input.sk-toggleable__control:checked~label.sk-toggleable__label {background-color: #d4ebff;}#sk-container-id-9 div.sk-label input.sk-toggleable__control:checked~label.sk-toggleable__label {background-color: #d4ebff;}#sk-container-id-9 input.sk-hidden--visually {border: 0;clip: rect(1px 1px 1px 1px);clip: rect(1px, 1px, 1px, 1px);height: 1px;margin: -1px;overflow: hidden;padding: 0;position: absolute;width: 1px;}#sk-container-id-9 div.sk-estimator {font-family: monospace;background-color: #f0f8ff;border: 1px dotted black;border-radius: 0.25em;box-sizing: border-box;margin-bottom: 0.5em;}#sk-container-id-9 div.sk-estimator:hover {background-color: #d4ebff;}#sk-container-id-9 div.sk-parallel-item::after {content: \"\";width: 100%;border-bottom: 1px solid gray;flex-grow: 1;}#sk-container-id-9 div.sk-label:hover label.sk-toggleable__label {background-color: #d4ebff;}#sk-container-id-9 div.sk-serial::before {content: \"\";position: absolute;border-left: 1px solid gray;box-sizing: border-box;top: 0;bottom: 0;left: 50%;z-index: 0;}#sk-container-id-9 div.sk-serial {display: flex;flex-direction: column;align-items: center;background-color: white;padding-right: 0.2em;padding-left: 0.2em;position: relative;}#sk-container-id-9 div.sk-item {position: relative;z-index: 1;}#sk-container-id-9 div.sk-parallel {display: flex;align-items: stretch;justify-content: center;background-color: white;position: relative;}#sk-container-id-9 div.sk-item::before, #sk-container-id-9 div.sk-parallel-item::before {content: \"\";position: absolute;border-left: 1px solid gray;box-sizing: border-box;top: 0;bottom: 0;left: 50%;z-index: -1;}#sk-container-id-9 div.sk-parallel-item {display: flex;flex-direction: column;z-index: 1;position: relative;background-color: white;}#sk-container-id-9 div.sk-parallel-item:first-child::after {align-self: flex-end;width: 50%;}#sk-container-id-9 div.sk-parallel-item:last-child::after {align-self: flex-start;width: 50%;}#sk-container-id-9 div.sk-parallel-item:only-child::after {width: 0;}#sk-container-id-9 div.sk-dashed-wrapped {border: 1px dashed gray;margin: 0 0.4em 0.5em 0.4em;box-sizing: border-box;padding-bottom: 0.4em;background-color: white;}#sk-container-id-9 div.sk-label label {font-family: monospace;font-weight: bold;display: inline-block;line-height: 1.2em;}#sk-container-id-9 div.sk-label-container {text-align: center;}#sk-container-id-9 div.sk-container {/* jupyter's `normalize.less` sets `[hidden] { display: none; }` but bootstrap.min.css set `[hidden] { display: none !important; }` so we also need the `!important` here to be able to override the default hidden behavior on the sphinx rendered scikit-learn.org. See: https://github.com/scikit-learn/scikit-learn/issues/21755 */display: inline-block !important;position: relative;}#sk-container-id-9 div.sk-text-repr-fallback {display: none;}</style><div id=\"sk-container-id-9\" class=\"sk-top-container\"><div class=\"sk-text-repr-fallback\"><pre>GaussianNB()</pre><b>In a Jupyter environment, please rerun this cell to show the HTML representation or trust the notebook. <br />On GitHub, the HTML representation is unable to render, please try loading this page with nbviewer.org.</b></div><div class=\"sk-container\" hidden><div class=\"sk-item\"><div class=\"sk-estimator sk-toggleable\"><input class=\"sk-toggleable__control sk-hidden--visually\" id=\"sk-estimator-id-9\" type=\"checkbox\" checked><label for=\"sk-estimator-id-9\" class=\"sk-toggleable__label sk-toggleable__label-arrow\">GaussianNB</label><div class=\"sk-toggleable__content\"><pre>GaussianNB()</pre></div></div></div></div></div>"
      ],
      "text/plain": [
       "GaussianNB()"
      ]
     },
     "execution_count": 130,
     "metadata": {},
     "output_type": "execute_result"
    }
   ],
   "source": [
    "# train a Gaussian Naive Bayes classifier on the training set\n",
    "from sklearn.naive_bayes import GaussianNB\n",
    "\n",
    "\n",
    "# instantiate the model\n",
    "gnb = GaussianNB()\n",
    "\n",
    "\n",
    "# fit the model\n",
    "gnb.fit(X_train, y_train)\n"
   ]
  },
  {
   "cell_type": "code",
   "execution_count": 131,
   "metadata": {},
   "outputs": [
    {
     "data": {
      "text/plain": [
       "array([0, 0, 0, 0, 0, 0, 0, 1, 0, 1, 0, 0, 0, 1, 0, 0, 0, 1, 0, 0, 0, 0,\n",
       "       0, 0, 1, 1, 0, 1, 1, 0, 0, 0, 1, 0, 0, 0, 1, 0, 0, 0, 1, 0, 0, 0,\n",
       "       0, 0, 1, 1, 0, 0, 0, 0, 0, 0, 0, 1, 0, 0, 0, 0, 0, 1, 0, 0, 0, 0,\n",
       "       0, 0, 0, 0, 0, 0, 0, 0, 0, 0, 1, 0, 0, 0, 0, 1, 0, 0, 0, 0, 0, 0,\n",
       "       0, 0, 0, 0, 0, 0, 0, 0, 0, 1, 1, 0, 0, 0, 0, 0, 0, 0, 0, 0, 1, 0,\n",
       "       0, 0, 0, 0, 0, 1, 0, 0, 0, 0, 0, 1, 0, 0, 0, 0, 0, 0, 0, 0, 1, 0,\n",
       "       0, 0, 0, 0, 0, 0, 0, 0, 0, 0, 0, 0, 0, 0, 0, 0, 1, 0, 0, 0, 0, 1,\n",
       "       0, 1, 0, 1, 0, 0, 1, 0, 0, 0, 0, 0, 0, 0, 0, 0, 0, 0, 0, 0, 1, 0,\n",
       "       0, 0, 0, 0, 0, 0, 0, 0, 0, 0, 0, 0, 0, 0, 0, 0, 0, 0, 0, 0, 0, 0,\n",
       "       1, 1, 0, 0, 0, 0, 0, 0, 0, 0, 0, 0, 0, 0, 0, 1, 0, 0, 0, 0, 0, 0,\n",
       "       0, 1, 0, 0, 0, 0, 0, 0, 1, 0, 1, 0, 0, 1, 0, 0, 0, 0, 0, 0, 0, 0,\n",
       "       0, 0, 0, 0, 0, 0, 0, 0, 0, 1, 0, 0, 1, 0, 0, 0, 0, 1, 0, 0, 0, 0,\n",
       "       0, 0, 0, 0, 0, 0, 0, 0, 0, 0, 0, 0, 1, 0, 0, 0, 0, 1, 0, 0, 0, 0,\n",
       "       0, 0, 0, 0, 0, 0, 1, 1, 0, 0, 0, 0, 1, 1, 0, 1, 0, 0, 0, 0, 0, 0,\n",
       "       0, 0, 0, 0, 0, 0, 0, 1, 0, 0, 0, 0, 0, 0, 0, 0, 0, 0, 0, 0, 1, 0,\n",
       "       0, 0, 0, 0, 0, 0, 0, 0, 1, 0, 0, 0, 0, 0, 1, 0, 0, 1, 0, 0, 0, 0,\n",
       "       0, 1, 1, 0, 0, 1, 0, 0, 0, 0, 0, 0, 0, 1, 0, 0, 0, 0, 0, 0, 0, 0,\n",
       "       0, 0, 0, 0, 0, 0, 0, 1, 0, 0, 0, 0, 0, 0, 0, 1, 0, 1, 0, 0, 0, 0,\n",
       "       0, 0, 0, 0, 1, 0, 0, 0, 0, 0, 0, 0, 0, 0, 0, 0, 0, 0, 0, 0, 0, 0,\n",
       "       0, 0, 0, 0, 0, 0, 0, 0, 0, 0, 0, 0, 0, 0, 0, 0, 0, 0, 1, 0, 0, 0,\n",
       "       0, 0, 0, 1, 0, 0, 0, 1, 0, 1, 0, 0, 0, 0, 0, 0, 1, 1, 0, 0, 0, 0,\n",
       "       0, 1, 0, 0, 0, 0, 0, 0, 0, 0, 0, 0, 0, 0, 0, 0, 1, 0, 0, 0, 0, 0,\n",
       "       0, 1, 0, 0, 0, 0, 0, 1, 0, 0, 0, 0, 0, 0, 0, 0, 0, 0, 0, 0, 0, 0,\n",
       "       0, 1, 1, 1, 0, 1, 0, 0, 0, 0, 0, 0, 1, 0, 0, 0, 0, 1, 1, 0, 0, 0,\n",
       "       0, 0, 0, 1, 0, 0, 1, 0, 0, 1, 1, 0, 1, 1, 0, 0, 0, 0, 0, 0, 1, 0,\n",
       "       0, 0, 0, 0, 1, 1, 0, 0, 0, 0, 1, 0, 0, 0, 1, 0, 1, 0, 0, 0, 0, 0,\n",
       "       0, 0, 1, 0, 0, 1, 0, 0, 0, 0, 0, 0, 0, 0, 0, 1, 0, 0, 0, 0, 0, 0,\n",
       "       0, 0, 0, 0, 0, 0, 0, 0, 0, 1, 0, 0, 0, 0, 1, 1, 0, 0, 0, 0, 1, 1,\n",
       "       0, 0, 1, 1, 0, 0, 0, 1, 0, 0, 0, 0, 0, 0, 0, 0, 0, 0, 0, 0, 0, 0,\n",
       "       0, 0, 0, 0, 0, 0, 0, 1, 0, 1, 0, 0, 0, 1, 0])"
      ]
     },
     "execution_count": 131,
     "metadata": {},
     "output_type": "execute_result"
    }
   ],
   "source": [
    "y_pred = gnb.predict(X_test)\n",
    "\n",
    "y_pred"
   ]
  },
  {
   "cell_type": "code",
   "execution_count": 132,
   "metadata": {},
   "outputs": [
    {
     "name": "stdout",
     "output_type": "stream",
     "text": [
      "Model accuracy score: 0.5345\n"
     ]
    }
   ],
   "source": [
    "from sklearn.metrics import accuracy_score\n",
    "\n",
    "print('Model accuracy score: {0:0.4f}'. format(accuracy_score(y_test, y_pred)))"
   ]
  },
  {
   "cell_type": "code",
   "execution_count": 133,
   "metadata": {},
   "outputs": [
    {
     "name": "stderr",
     "output_type": "stream",
     "text": [
      "/Users/siibnu/Library/Python/3.9/lib/python/site-packages/sklearn/cluster/_kmeans.py:1416: FutureWarning: The default value of `n_init` will change from 10 to 'auto' in 1.4. Set the value of `n_init` explicitly to suppress the warning\n",
      "  super()._check_params_vs_input(X, default_n_init=10)\n"
     ]
    },
    {
     "data": {
      "text/html": [
       "<style>#sk-container-id-10 {color: black;}#sk-container-id-10 pre{padding: 0;}#sk-container-id-10 div.sk-toggleable {background-color: white;}#sk-container-id-10 label.sk-toggleable__label {cursor: pointer;display: block;width: 100%;margin-bottom: 0;padding: 0.3em;box-sizing: border-box;text-align: center;}#sk-container-id-10 label.sk-toggleable__label-arrow:before {content: \"▸\";float: left;margin-right: 0.25em;color: #696969;}#sk-container-id-10 label.sk-toggleable__label-arrow:hover:before {color: black;}#sk-container-id-10 div.sk-estimator:hover label.sk-toggleable__label-arrow:before {color: black;}#sk-container-id-10 div.sk-toggleable__content {max-height: 0;max-width: 0;overflow: hidden;text-align: left;background-color: #f0f8ff;}#sk-container-id-10 div.sk-toggleable__content pre {margin: 0.2em;color: black;border-radius: 0.25em;background-color: #f0f8ff;}#sk-container-id-10 input.sk-toggleable__control:checked~div.sk-toggleable__content {max-height: 200px;max-width: 100%;overflow: auto;}#sk-container-id-10 input.sk-toggleable__control:checked~label.sk-toggleable__label-arrow:before {content: \"▾\";}#sk-container-id-10 div.sk-estimator input.sk-toggleable__control:checked~label.sk-toggleable__label {background-color: #d4ebff;}#sk-container-id-10 div.sk-label input.sk-toggleable__control:checked~label.sk-toggleable__label {background-color: #d4ebff;}#sk-container-id-10 input.sk-hidden--visually {border: 0;clip: rect(1px 1px 1px 1px);clip: rect(1px, 1px, 1px, 1px);height: 1px;margin: -1px;overflow: hidden;padding: 0;position: absolute;width: 1px;}#sk-container-id-10 div.sk-estimator {font-family: monospace;background-color: #f0f8ff;border: 1px dotted black;border-radius: 0.25em;box-sizing: border-box;margin-bottom: 0.5em;}#sk-container-id-10 div.sk-estimator:hover {background-color: #d4ebff;}#sk-container-id-10 div.sk-parallel-item::after {content: \"\";width: 100%;border-bottom: 1px solid gray;flex-grow: 1;}#sk-container-id-10 div.sk-label:hover label.sk-toggleable__label {background-color: #d4ebff;}#sk-container-id-10 div.sk-serial::before {content: \"\";position: absolute;border-left: 1px solid gray;box-sizing: border-box;top: 0;bottom: 0;left: 50%;z-index: 0;}#sk-container-id-10 div.sk-serial {display: flex;flex-direction: column;align-items: center;background-color: white;padding-right: 0.2em;padding-left: 0.2em;position: relative;}#sk-container-id-10 div.sk-item {position: relative;z-index: 1;}#sk-container-id-10 div.sk-parallel {display: flex;align-items: stretch;justify-content: center;background-color: white;position: relative;}#sk-container-id-10 div.sk-item::before, #sk-container-id-10 div.sk-parallel-item::before {content: \"\";position: absolute;border-left: 1px solid gray;box-sizing: border-box;top: 0;bottom: 0;left: 50%;z-index: -1;}#sk-container-id-10 div.sk-parallel-item {display: flex;flex-direction: column;z-index: 1;position: relative;background-color: white;}#sk-container-id-10 div.sk-parallel-item:first-child::after {align-self: flex-end;width: 50%;}#sk-container-id-10 div.sk-parallel-item:last-child::after {align-self: flex-start;width: 50%;}#sk-container-id-10 div.sk-parallel-item:only-child::after {width: 0;}#sk-container-id-10 div.sk-dashed-wrapped {border: 1px dashed gray;margin: 0 0.4em 0.5em 0.4em;box-sizing: border-box;padding-bottom: 0.4em;background-color: white;}#sk-container-id-10 div.sk-label label {font-family: monospace;font-weight: bold;display: inline-block;line-height: 1.2em;}#sk-container-id-10 div.sk-label-container {text-align: center;}#sk-container-id-10 div.sk-container {/* jupyter's `normalize.less` sets `[hidden] { display: none; }` but bootstrap.min.css set `[hidden] { display: none !important; }` so we also need the `!important` here to be able to override the default hidden behavior on the sphinx rendered scikit-learn.org. See: https://github.com/scikit-learn/scikit-learn/issues/21755 */display: inline-block !important;position: relative;}#sk-container-id-10 div.sk-text-repr-fallback {display: none;}</style><div id=\"sk-container-id-10\" class=\"sk-top-container\"><div class=\"sk-text-repr-fallback\"><pre>KMeans(n_clusters=2, random_state=0)</pre><b>In a Jupyter environment, please rerun this cell to show the HTML representation or trust the notebook. <br />On GitHub, the HTML representation is unable to render, please try loading this page with nbviewer.org.</b></div><div class=\"sk-container\" hidden><div class=\"sk-item\"><div class=\"sk-estimator sk-toggleable\"><input class=\"sk-toggleable__control sk-hidden--visually\" id=\"sk-estimator-id-10\" type=\"checkbox\" checked><label for=\"sk-estimator-id-10\" class=\"sk-toggleable__label sk-toggleable__label-arrow\">KMeans</label><div class=\"sk-toggleable__content\"><pre>KMeans(n_clusters=2, random_state=0)</pre></div></div></div></div></div>"
      ],
      "text/plain": [
       "KMeans(n_clusters=2, random_state=0)"
      ]
     },
     "execution_count": 133,
     "metadata": {},
     "output_type": "execute_result"
    }
   ],
   "source": [
    "from sklearn.cluster import KMeans\n",
    "\n",
    "kmeans = KMeans(n_clusters=2, random_state=0) \n",
    "\n",
    "kmeans.fit(X_train)"
   ]
  },
  {
   "cell_type": "code",
   "execution_count": 134,
   "metadata": {},
   "outputs": [
    {
     "data": {
      "text/plain": [
       "array([[0.81651767, 3.44454662, 3.48583653, 3.47644955, 3.51216688],\n",
       "       [0.84790875, 3.26011407, 2.49087452, 2.43547529, 0.44038023]])"
      ]
     },
     "execution_count": 134,
     "metadata": {},
     "output_type": "execute_result"
    }
   ],
   "source": [
    "kmeans.cluster_centers_"
   ]
  },
  {
   "cell_type": "code",
   "execution_count": 135,
   "metadata": {},
   "outputs": [
    {
     "data": {
      "text/plain": [
       "2539.675920557409"
      ]
     },
     "execution_count": 135,
     "metadata": {},
     "output_type": "execute_result"
    }
   ],
   "source": [
    "kmeans.inertia_"
   ]
  },
  {
   "cell_type": "code",
   "execution_count": 136,
   "metadata": {},
   "outputs": [
    {
     "name": "stdout",
     "output_type": "stream",
     "text": [
      "Result: 1235 out of 2612 samples were correctly labeled.\n"
     ]
    }
   ],
   "source": [
    "labels = kmeans.labels_\n",
    "\n",
    "# check how many of the samples were correctly labeled\n",
    "correct_labels = sum(y_train == labels)\n",
    "\n",
    "print(\"Result: %d out of %d samples were correctly labeled.\" % (correct_labels, y_train.size))"
   ]
  },
  {
   "cell_type": "code",
   "execution_count": 137,
   "metadata": {},
   "outputs": [
    {
     "name": "stdout",
     "output_type": "stream",
     "text": [
      "Accuracy score: 0.47\n"
     ]
    }
   ],
   "source": [
    "print('Accuracy score: {0:0.2f}'. format(correct_labels/float(y_train.size)))"
   ]
  }
 ],
 "metadata": {
  "kernelspec": {
   "display_name": "Python 3",
   "language": "python",
   "name": "python3"
  },
  "language_info": {
   "codemirror_mode": {
    "name": "ipython",
    "version": 3
   },
   "file_extension": ".py",
   "mimetype": "text/x-python",
   "name": "python",
   "nbconvert_exporter": "python",
   "pygments_lexer": "ipython3",
   "version": "3.9.6"
  }
 },
 "nbformat": 4,
 "nbformat_minor": 2
}
