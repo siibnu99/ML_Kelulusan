{
 "cells": [
  {
   "cell_type": "code",
   "execution_count": 276,
   "metadata": {},
   "outputs": [
    {
     "name": "stdout",
     "output_type": "stream",
     "text": [
      "Defaulting to user installation because normal site-packages is not writeable\n",
      "Requirement already satisfied: matplotlib in /Users/siibnu/Library/Python/3.9/lib/python/site-packages (3.8.2)\n",
      "Requirement already satisfied: contourpy>=1.0.1 in /Users/siibnu/Library/Python/3.9/lib/python/site-packages (from matplotlib) (1.2.0)\n",
      "Requirement already satisfied: cycler>=0.10 in /Users/siibnu/Library/Python/3.9/lib/python/site-packages (from matplotlib) (0.12.1)\n",
      "Requirement already satisfied: fonttools>=4.22.0 in /Users/siibnu/Library/Python/3.9/lib/python/site-packages (from matplotlib) (4.47.2)\n",
      "Requirement already satisfied: kiwisolver>=1.3.1 in /Users/siibnu/Library/Python/3.9/lib/python/site-packages (from matplotlib) (1.4.5)\n",
      "Requirement already satisfied: numpy<2,>=1.21 in /Users/siibnu/Library/Python/3.9/lib/python/site-packages (from matplotlib) (1.26.3)\n",
      "Requirement already satisfied: packaging>=20.0 in /Users/siibnu/Library/Python/3.9/lib/python/site-packages (from matplotlib) (23.2)\n",
      "Requirement already satisfied: pillow>=8 in /Users/siibnu/Library/Python/3.9/lib/python/site-packages (from matplotlib) (10.2.0)\n",
      "Requirement already satisfied: pyparsing>=2.3.1 in /Users/siibnu/Library/Python/3.9/lib/python/site-packages (from matplotlib) (3.1.1)\n",
      "Requirement already satisfied: python-dateutil>=2.7 in /Users/siibnu/Library/Python/3.9/lib/python/site-packages (from matplotlib) (2.8.2)\n",
      "Requirement already satisfied: importlib-resources>=3.2.0 in /Users/siibnu/Library/Python/3.9/lib/python/site-packages (from matplotlib) (6.1.1)\n",
      "Requirement already satisfied: zipp>=3.1.0 in /Users/siibnu/Library/Python/3.9/lib/python/site-packages (from importlib-resources>=3.2.0->matplotlib) (3.17.0)\n",
      "Requirement already satisfied: six>=1.5 in /Library/Developer/CommandLineTools/Library/Frameworks/Python3.framework/Versions/3.9/lib/python3.9/site-packages (from python-dateutil>=2.7->matplotlib) (1.15.0)\n",
      "Defaulting to user installation because normal site-packages is not writeable\n",
      "Requirement already satisfied: seaborn in /Users/siibnu/Library/Python/3.9/lib/python/site-packages (0.13.1)\n",
      "Requirement already satisfied: numpy!=1.24.0,>=1.20 in /Users/siibnu/Library/Python/3.9/lib/python/site-packages (from seaborn) (1.26.3)\n",
      "Requirement already satisfied: pandas>=1.2 in /Users/siibnu/Library/Python/3.9/lib/python/site-packages (from seaborn) (2.1.4)\n",
      "Requirement already satisfied: matplotlib!=3.6.1,>=3.4 in /Users/siibnu/Library/Python/3.9/lib/python/site-packages (from seaborn) (3.8.2)\n",
      "Requirement already satisfied: contourpy>=1.0.1 in /Users/siibnu/Library/Python/3.9/lib/python/site-packages (from matplotlib!=3.6.1,>=3.4->seaborn) (1.2.0)\n",
      "Requirement already satisfied: cycler>=0.10 in /Users/siibnu/Library/Python/3.9/lib/python/site-packages (from matplotlib!=3.6.1,>=3.4->seaborn) (0.12.1)\n",
      "Requirement already satisfied: fonttools>=4.22.0 in /Users/siibnu/Library/Python/3.9/lib/python/site-packages (from matplotlib!=3.6.1,>=3.4->seaborn) (4.47.2)\n",
      "Requirement already satisfied: kiwisolver>=1.3.1 in /Users/siibnu/Library/Python/3.9/lib/python/site-packages (from matplotlib!=3.6.1,>=3.4->seaborn) (1.4.5)\n",
      "Requirement already satisfied: packaging>=20.0 in /Users/siibnu/Library/Python/3.9/lib/python/site-packages (from matplotlib!=3.6.1,>=3.4->seaborn) (23.2)\n",
      "Requirement already satisfied: pillow>=8 in /Users/siibnu/Library/Python/3.9/lib/python/site-packages (from matplotlib!=3.6.1,>=3.4->seaborn) (10.2.0)\n",
      "Requirement already satisfied: pyparsing>=2.3.1 in /Users/siibnu/Library/Python/3.9/lib/python/site-packages (from matplotlib!=3.6.1,>=3.4->seaborn) (3.1.1)\n",
      "Requirement already satisfied: python-dateutil>=2.7 in /Users/siibnu/Library/Python/3.9/lib/python/site-packages (from matplotlib!=3.6.1,>=3.4->seaborn) (2.8.2)\n",
      "Requirement already satisfied: importlib-resources>=3.2.0 in /Users/siibnu/Library/Python/3.9/lib/python/site-packages (from matplotlib!=3.6.1,>=3.4->seaborn) (6.1.1)\n",
      "Requirement already satisfied: pytz>=2020.1 in /Users/siibnu/Library/Python/3.9/lib/python/site-packages (from pandas>=1.2->seaborn) (2023.3.post1)\n",
      "Requirement already satisfied: tzdata>=2022.1 in /Users/siibnu/Library/Python/3.9/lib/python/site-packages (from pandas>=1.2->seaborn) (2023.4)\n",
      "Requirement already satisfied: zipp>=3.1.0 in /Users/siibnu/Library/Python/3.9/lib/python/site-packages (from importlib-resources>=3.2.0->matplotlib!=3.6.1,>=3.4->seaborn) (3.17.0)\n",
      "Requirement already satisfied: six>=1.5 in /Library/Developer/CommandLineTools/Library/Frameworks/Python3.framework/Versions/3.9/lib/python3.9/site-packages (from python-dateutil>=2.7->matplotlib!=3.6.1,>=3.4->seaborn) (1.15.0)\n"
     ]
    }
   ],
   "source": [
    "# install matplotlib\n",
    "!pip3 install matplotlib\n",
    "!pip3 install seaborn"
   ]
  },
  {
   "cell_type": "code",
   "execution_count": 277,
   "metadata": {},
   "outputs": [],
   "source": [
    "import pandas as pd\n",
    "import numpy as np # linear algebra\n",
    "import matplotlib.pyplot as plt # for data visualization purposes\n",
    "import seaborn as sns # for data visualization\n",
    "%matplotlib inline"
   ]
  },
  {
   "cell_type": "code",
   "execution_count": 278,
   "metadata": {},
   "outputs": [],
   "source": [
    "data = 'data.csv'"
   ]
  },
  {
   "cell_type": "code",
   "execution_count": 279,
   "metadata": {},
   "outputs": [],
   "source": [
    "df = pd.read_csv(data)"
   ]
  },
  {
   "cell_type": "code",
   "execution_count": 280,
   "metadata": {},
   "outputs": [
    {
     "data": {
      "text/plain": [
       "(9917, 15)"
      ]
     },
     "execution_count": 280,
     "metadata": {},
     "output_type": "execute_result"
    }
   ],
   "source": [
    "df.shape"
   ]
  },
  {
   "cell_type": "code",
   "execution_count": 281,
   "metadata": {},
   "outputs": [
    {
     "data": {
      "text/html": [
       "<div>\n",
       "<style scoped>\n",
       "    .dataframe tbody tr th:only-of-type {\n",
       "        vertical-align: middle;\n",
       "    }\n",
       "\n",
       "    .dataframe tbody tr th {\n",
       "        vertical-align: top;\n",
       "    }\n",
       "\n",
       "    .dataframe thead th {\n",
       "        text-align: right;\n",
       "    }\n",
       "</style>\n",
       "<table border=\"1\" class=\"dataframe\">\n",
       "  <thead>\n",
       "    <tr style=\"text-align: right;\">\n",
       "      <th></th>\n",
       "      <th>tahun_masuk</th>\n",
       "      <th>jenis_kelamin</th>\n",
       "      <th>id_prodi</th>\n",
       "      <th>id_status_masuk_mahasiswa</th>\n",
       "      <th>sks</th>\n",
       "      <th>kode_tahun_ajaran</th>\n",
       "      <th>id_status_mahasiswa</th>\n",
       "      <th>IPS1</th>\n",
       "      <th>IPS2</th>\n",
       "      <th>IPS3</th>\n",
       "      <th>IPS4</th>\n",
       "      <th>IPS5</th>\n",
       "      <th>IPS6</th>\n",
       "      <th>IPS7</th>\n",
       "      <th>IPS8</th>\n",
       "    </tr>\n",
       "  </thead>\n",
       "  <tbody>\n",
       "    <tr>\n",
       "      <th>0</th>\n",
       "      <td>2019</td>\n",
       "      <td>Perempuan</td>\n",
       "      <td>00042efb-9c8f-11ec-8c04-3a3343etik21</td>\n",
       "      <td>P</td>\n",
       "      <td>3.32</td>\n",
       "      <td>20191</td>\n",
       "      <td>N</td>\n",
       "      <td>3.32</td>\n",
       "      <td>3.43</td>\n",
       "      <td>3.25</td>\n",
       "      <td>3.27</td>\n",
       "      <td>3.39</td>\n",
       "      <td>3.66</td>\n",
       "      <td>3.88</td>\n",
       "      <td>3.25</td>\n",
       "    </tr>\n",
       "    <tr>\n",
       "      <th>1</th>\n",
       "      <td>2019</td>\n",
       "      <td>Perempuan</td>\n",
       "      <td>00042efb-9c8f-11ec-8c04-3a3343etik21</td>\n",
       "      <td>P</td>\n",
       "      <td>3.52</td>\n",
       "      <td>20191</td>\n",
       "      <td>N</td>\n",
       "      <td>3.52</td>\n",
       "      <td>3.48</td>\n",
       "      <td>3.39</td>\n",
       "      <td>3.59</td>\n",
       "      <td>3.55</td>\n",
       "      <td>3.59</td>\n",
       "      <td>3.82</td>\n",
       "      <td>0.00</td>\n",
       "    </tr>\n",
       "    <tr>\n",
       "      <th>2</th>\n",
       "      <td>2019</td>\n",
       "      <td>Perempuan</td>\n",
       "      <td>00042efb-9c8f-11ec-8c04-3a3343etik21</td>\n",
       "      <td>P</td>\n",
       "      <td>3.40</td>\n",
       "      <td>20201</td>\n",
       "      <td>N</td>\n",
       "      <td>3.77</td>\n",
       "      <td>3.62</td>\n",
       "      <td>3.40</td>\n",
       "      <td>3.11</td>\n",
       "      <td>3.01</td>\n",
       "      <td>3.13</td>\n",
       "      <td>3.19</td>\n",
       "      <td>3.12</td>\n",
       "    </tr>\n",
       "    <tr>\n",
       "      <th>3</th>\n",
       "      <td>2019</td>\n",
       "      <td>Perempuan</td>\n",
       "      <td>00042efb-9c8f-11ec-8c04-3a3343etik21</td>\n",
       "      <td>P</td>\n",
       "      <td>3.73</td>\n",
       "      <td>20211</td>\n",
       "      <td>N</td>\n",
       "      <td>3.15</td>\n",
       "      <td>3.45</td>\n",
       "      <td>3.52</td>\n",
       "      <td>3.50</td>\n",
       "      <td>3.73</td>\n",
       "      <td>3.58</td>\n",
       "      <td>3.90</td>\n",
       "      <td>3.50</td>\n",
       "    </tr>\n",
       "    <tr>\n",
       "      <th>4</th>\n",
       "      <td>2019</td>\n",
       "      <td>Perempuan</td>\n",
       "      <td>00042efb-9c8f-11ec-8c04-3a3343etik21</td>\n",
       "      <td>P</td>\n",
       "      <td>3.62</td>\n",
       "      <td>20222</td>\n",
       "      <td>N</td>\n",
       "      <td>3.64</td>\n",
       "      <td>3.65</td>\n",
       "      <td>3.56</td>\n",
       "      <td>3.72</td>\n",
       "      <td>2.82</td>\n",
       "      <td>0.00</td>\n",
       "      <td>3.25</td>\n",
       "      <td>3.62</td>\n",
       "    </tr>\n",
       "  </tbody>\n",
       "</table>\n",
       "</div>"
      ],
      "text/plain": [
       "   tahun_masuk jenis_kelamin                              id_prodi  \\\n",
       "0         2019     Perempuan  00042efb-9c8f-11ec-8c04-3a3343etik21   \n",
       "1         2019     Perempuan  00042efb-9c8f-11ec-8c04-3a3343etik21   \n",
       "2         2019     Perempuan  00042efb-9c8f-11ec-8c04-3a3343etik21   \n",
       "3         2019     Perempuan  00042efb-9c8f-11ec-8c04-3a3343etik21   \n",
       "4         2019     Perempuan  00042efb-9c8f-11ec-8c04-3a3343etik21   \n",
       "\n",
       "  id_status_masuk_mahasiswa   sks  kode_tahun_ajaran id_status_mahasiswa  \\\n",
       "0                         P  3.32              20191                   N   \n",
       "1                         P  3.52              20191                   N   \n",
       "2                         P  3.40              20201                   N   \n",
       "3                         P  3.73              20211                   N   \n",
       "4                         P  3.62              20222                   N   \n",
       "\n",
       "   IPS1  IPS2  IPS3  IPS4  IPS5  IPS6  IPS7  IPS8  \n",
       "0  3.32  3.43  3.25  3.27  3.39  3.66  3.88  3.25  \n",
       "1  3.52  3.48  3.39  3.59  3.55  3.59  3.82  0.00  \n",
       "2  3.77  3.62  3.40  3.11  3.01  3.13  3.19  3.12  \n",
       "3  3.15  3.45  3.52  3.50  3.73  3.58  3.90  3.50  \n",
       "4  3.64  3.65  3.56  3.72  2.82  0.00  3.25  3.62  "
      ]
     },
     "execution_count": 281,
     "metadata": {},
     "output_type": "execute_result"
    }
   ],
   "source": [
    "df.head()"
   ]
  },
  {
   "cell_type": "code",
   "execution_count": 282,
   "metadata": {},
   "outputs": [
    {
     "name": "stdout",
     "output_type": "stream",
     "text": [
      "<class 'pandas.core.frame.DataFrame'>\n",
      "RangeIndex: 9917 entries, 0 to 9916\n",
      "Data columns (total 15 columns):\n",
      " #   Column                     Non-Null Count  Dtype  \n",
      "---  ------                     --------------  -----  \n",
      " 0   tahun_masuk                9917 non-null   int64  \n",
      " 1   jenis_kelamin              9917 non-null   object \n",
      " 2   id_prodi                   9917 non-null   object \n",
      " 3   id_status_masuk_mahasiswa  9917 non-null   object \n",
      " 4   sks                        9917 non-null   float64\n",
      " 5   kode_tahun_ajaran          9917 non-null   int64  \n",
      " 6   id_status_mahasiswa        9917 non-null   object \n",
      " 7   IPS1                       9917 non-null   float64\n",
      " 8   IPS2                       9917 non-null   float64\n",
      " 9   IPS3                       9917 non-null   float64\n",
      " 10  IPS4                       9917 non-null   float64\n",
      " 11  IPS5                       9917 non-null   float64\n",
      " 12  IPS6                       9917 non-null   float64\n",
      " 13  IPS7                       9917 non-null   float64\n",
      " 14  IPS8                       9917 non-null   float64\n",
      "dtypes: float64(9), int64(2), object(4)\n",
      "memory usage: 1.1+ MB\n"
     ]
    }
   ],
   "source": [
    "df.info()"
   ]
  },
  {
   "cell_type": "code",
   "execution_count": 283,
   "metadata": {},
   "outputs": [
    {
     "data": {
      "text/plain": [
       "tahun_masuk                  0\n",
       "jenis_kelamin                0\n",
       "id_prodi                     0\n",
       "id_status_masuk_mahasiswa    0\n",
       "sks                          0\n",
       "kode_tahun_ajaran            0\n",
       "id_status_mahasiswa          0\n",
       "IPS1                         0\n",
       "IPS2                         0\n",
       "IPS3                         0\n",
       "IPS4                         0\n",
       "IPS5                         0\n",
       "IPS6                         0\n",
       "IPS7                         0\n",
       "IPS8                         0\n",
       "dtype: int64"
      ]
     },
     "execution_count": 283,
     "metadata": {},
     "output_type": "execute_result"
    }
   ],
   "source": [
    "df.isnull().sum()"
   ]
  },
  {
   "cell_type": "code",
   "execution_count": 284,
   "metadata": {},
   "outputs": [],
   "source": [
    "df.drop(['sks', 'kode_tahun_ajaran', 'IPS5', 'IPS6', 'IPS7', 'IPS8', 'tahun_masuk'], axis=1, inplace=True)"
   ]
  },
  {
   "cell_type": "code",
   "execution_count": 285,
   "metadata": {},
   "outputs": [
    {
     "name": "stdout",
     "output_type": "stream",
     "text": [
      "<class 'pandas.core.frame.DataFrame'>\n",
      "RangeIndex: 9917 entries, 0 to 9916\n",
      "Data columns (total 8 columns):\n",
      " #   Column                     Non-Null Count  Dtype  \n",
      "---  ------                     --------------  -----  \n",
      " 0   jenis_kelamin              9917 non-null   object \n",
      " 1   id_prodi                   9917 non-null   object \n",
      " 2   id_status_masuk_mahasiswa  9917 non-null   object \n",
      " 3   id_status_mahasiswa        9917 non-null   object \n",
      " 4   IPS1                       9917 non-null   float64\n",
      " 5   IPS2                       9917 non-null   float64\n",
      " 6   IPS3                       9917 non-null   float64\n",
      " 7   IPS4                       9917 non-null   float64\n",
      "dtypes: float64(4), object(4)\n",
      "memory usage: 619.9+ KB\n"
     ]
    }
   ],
   "source": [
    "df.info()"
   ]
  },
  {
   "cell_type": "code",
   "execution_count": 286,
   "metadata": {},
   "outputs": [
    {
     "data": {
      "text/html": [
       "<div>\n",
       "<style scoped>\n",
       "    .dataframe tbody tr th:only-of-type {\n",
       "        vertical-align: middle;\n",
       "    }\n",
       "\n",
       "    .dataframe tbody tr th {\n",
       "        vertical-align: top;\n",
       "    }\n",
       "\n",
       "    .dataframe thead th {\n",
       "        text-align: right;\n",
       "    }\n",
       "</style>\n",
       "<table border=\"1\" class=\"dataframe\">\n",
       "  <thead>\n",
       "    <tr style=\"text-align: right;\">\n",
       "      <th></th>\n",
       "      <th>IPS1</th>\n",
       "      <th>IPS2</th>\n",
       "      <th>IPS3</th>\n",
       "      <th>IPS4</th>\n",
       "    </tr>\n",
       "  </thead>\n",
       "  <tbody>\n",
       "    <tr>\n",
       "      <th>count</th>\n",
       "      <td>9917.000000</td>\n",
       "      <td>9917.000000</td>\n",
       "      <td>9917.000000</td>\n",
       "      <td>9917.000000</td>\n",
       "    </tr>\n",
       "    <tr>\n",
       "      <th>mean</th>\n",
       "      <td>3.393716</td>\n",
       "      <td>3.193376</td>\n",
       "      <td>3.302179</td>\n",
       "      <td>3.083160</td>\n",
       "    </tr>\n",
       "    <tr>\n",
       "      <th>std</th>\n",
       "      <td>0.610393</td>\n",
       "      <td>1.002437</td>\n",
       "      <td>0.867507</td>\n",
       "      <td>1.150297</td>\n",
       "    </tr>\n",
       "    <tr>\n",
       "      <th>min</th>\n",
       "      <td>0.000000</td>\n",
       "      <td>0.000000</td>\n",
       "      <td>0.000000</td>\n",
       "      <td>0.000000</td>\n",
       "    </tr>\n",
       "    <tr>\n",
       "      <th>25%</th>\n",
       "      <td>3.350000</td>\n",
       "      <td>3.340000</td>\n",
       "      <td>3.380000</td>\n",
       "      <td>3.280000</td>\n",
       "    </tr>\n",
       "    <tr>\n",
       "      <th>50%</th>\n",
       "      <td>3.520000</td>\n",
       "      <td>3.520000</td>\n",
       "      <td>3.560000</td>\n",
       "      <td>3.530000</td>\n",
       "    </tr>\n",
       "    <tr>\n",
       "      <th>75%</th>\n",
       "      <td>3.660000</td>\n",
       "      <td>3.650000</td>\n",
       "      <td>3.680000</td>\n",
       "      <td>3.680000</td>\n",
       "    </tr>\n",
       "    <tr>\n",
       "      <th>max</th>\n",
       "      <td>4.000000</td>\n",
       "      <td>4.000000</td>\n",
       "      <td>4.000000</td>\n",
       "      <td>4.000000</td>\n",
       "    </tr>\n",
       "  </tbody>\n",
       "</table>\n",
       "</div>"
      ],
      "text/plain": [
       "              IPS1         IPS2         IPS3         IPS4\n",
       "count  9917.000000  9917.000000  9917.000000  9917.000000\n",
       "mean      3.393716     3.193376     3.302179     3.083160\n",
       "std       0.610393     1.002437     0.867507     1.150297\n",
       "min       0.000000     0.000000     0.000000     0.000000\n",
       "25%       3.350000     3.340000     3.380000     3.280000\n",
       "50%       3.520000     3.520000     3.560000     3.530000\n",
       "75%       3.660000     3.650000     3.680000     3.680000\n",
       "max       4.000000     4.000000     4.000000     4.000000"
      ]
     },
     "execution_count": 286,
     "metadata": {},
     "output_type": "execute_result"
    }
   ],
   "source": [
    "df.describe()"
   ]
  },
  {
   "cell_type": "code",
   "execution_count": 287,
   "metadata": {},
   "outputs": [
    {
     "data": {
      "text/plain": [
       "id_status_mahasiswa\n",
       "L    0.59151\n",
       "N    0.40849\n",
       "Name: count, dtype: float64"
      ]
     },
     "execution_count": 287,
     "metadata": {},
     "output_type": "execute_result"
    }
   ],
   "source": [
    "df['id_status_mahasiswa'].value_counts() / len(df)"
   ]
  },
  {
   "cell_type": "code",
   "execution_count": 288,
   "metadata": {},
   "outputs": [
    {
     "data": {
      "text/html": [
       "<div>\n",
       "<style scoped>\n",
       "    .dataframe tbody tr th:only-of-type {\n",
       "        vertical-align: middle;\n",
       "    }\n",
       "\n",
       "    .dataframe tbody tr th {\n",
       "        vertical-align: top;\n",
       "    }\n",
       "\n",
       "    .dataframe thead th {\n",
       "        text-align: right;\n",
       "    }\n",
       "</style>\n",
       "<table border=\"1\" class=\"dataframe\">\n",
       "  <thead>\n",
       "    <tr style=\"text-align: right;\">\n",
       "      <th></th>\n",
       "      <th>IPS1</th>\n",
       "      <th>IPS2</th>\n",
       "      <th>IPS3</th>\n",
       "      <th>IPS4</th>\n",
       "    </tr>\n",
       "  </thead>\n",
       "  <tbody>\n",
       "    <tr>\n",
       "      <th>count</th>\n",
       "      <td>9917.00</td>\n",
       "      <td>9917.00</td>\n",
       "      <td>9917.00</td>\n",
       "      <td>9917.00</td>\n",
       "    </tr>\n",
       "    <tr>\n",
       "      <th>mean</th>\n",
       "      <td>3.39</td>\n",
       "      <td>3.19</td>\n",
       "      <td>3.30</td>\n",
       "      <td>3.08</td>\n",
       "    </tr>\n",
       "    <tr>\n",
       "      <th>std</th>\n",
       "      <td>0.61</td>\n",
       "      <td>1.00</td>\n",
       "      <td>0.87</td>\n",
       "      <td>1.15</td>\n",
       "    </tr>\n",
       "    <tr>\n",
       "      <th>min</th>\n",
       "      <td>0.00</td>\n",
       "      <td>0.00</td>\n",
       "      <td>0.00</td>\n",
       "      <td>0.00</td>\n",
       "    </tr>\n",
       "    <tr>\n",
       "      <th>25%</th>\n",
       "      <td>3.35</td>\n",
       "      <td>3.34</td>\n",
       "      <td>3.38</td>\n",
       "      <td>3.28</td>\n",
       "    </tr>\n",
       "    <tr>\n",
       "      <th>50%</th>\n",
       "      <td>3.52</td>\n",
       "      <td>3.52</td>\n",
       "      <td>3.56</td>\n",
       "      <td>3.53</td>\n",
       "    </tr>\n",
       "    <tr>\n",
       "      <th>75%</th>\n",
       "      <td>3.66</td>\n",
       "      <td>3.65</td>\n",
       "      <td>3.68</td>\n",
       "      <td>3.68</td>\n",
       "    </tr>\n",
       "    <tr>\n",
       "      <th>max</th>\n",
       "      <td>4.00</td>\n",
       "      <td>4.00</td>\n",
       "      <td>4.00</td>\n",
       "      <td>4.00</td>\n",
       "    </tr>\n",
       "  </tbody>\n",
       "</table>\n",
       "</div>"
      ],
      "text/plain": [
       "          IPS1     IPS2     IPS3     IPS4\n",
       "count  9917.00  9917.00  9917.00  9917.00\n",
       "mean      3.39     3.19     3.30     3.08\n",
       "std       0.61     1.00     0.87     1.15\n",
       "min       0.00     0.00     0.00     0.00\n",
       "25%       3.35     3.34     3.38     3.28\n",
       "50%       3.52     3.52     3.56     3.53\n",
       "75%       3.66     3.65     3.68     3.68\n",
       "max       4.00     4.00     4.00     4.00"
      ]
     },
     "execution_count": 288,
     "metadata": {},
     "output_type": "execute_result"
    }
   ],
   "source": [
    "round(df.describe(), 2)"
   ]
  },
  {
   "cell_type": "code",
   "execution_count": 289,
   "metadata": {},
   "outputs": [],
   "source": [
    "# rename columns id_status_mahasiswa to class\n",
    "df.rename(columns={'id_status_mahasiswa': 'class'}, inplace=True)"
   ]
  },
  {
   "cell_type": "code",
   "execution_count": 290,
   "metadata": {},
   "outputs": [
    {
     "data": {
      "text/html": [
       "<div>\n",
       "<style scoped>\n",
       "    .dataframe tbody tr th:only-of-type {\n",
       "        vertical-align: middle;\n",
       "    }\n",
       "\n",
       "    .dataframe tbody tr th {\n",
       "        vertical-align: top;\n",
       "    }\n",
       "\n",
       "    .dataframe thead th {\n",
       "        text-align: right;\n",
       "    }\n",
       "</style>\n",
       "<table border=\"1\" class=\"dataframe\">\n",
       "  <thead>\n",
       "    <tr style=\"text-align: right;\">\n",
       "      <th></th>\n",
       "      <th>jenis_kelamin</th>\n",
       "      <th>id_prodi</th>\n",
       "      <th>id_status_masuk_mahasiswa</th>\n",
       "      <th>class</th>\n",
       "      <th>IPS1</th>\n",
       "      <th>IPS2</th>\n",
       "      <th>IPS3</th>\n",
       "      <th>IPS4</th>\n",
       "    </tr>\n",
       "  </thead>\n",
       "  <tbody>\n",
       "    <tr>\n",
       "      <th>0</th>\n",
       "      <td>Perempuan</td>\n",
       "      <td>00042efb-9c8f-11ec-8c04-3a3343etik21</td>\n",
       "      <td>P</td>\n",
       "      <td>N</td>\n",
       "      <td>3.32</td>\n",
       "      <td>3.43</td>\n",
       "      <td>3.25</td>\n",
       "      <td>3.27</td>\n",
       "    </tr>\n",
       "    <tr>\n",
       "      <th>1</th>\n",
       "      <td>Perempuan</td>\n",
       "      <td>00042efb-9c8f-11ec-8c04-3a3343etik21</td>\n",
       "      <td>P</td>\n",
       "      <td>N</td>\n",
       "      <td>3.52</td>\n",
       "      <td>3.48</td>\n",
       "      <td>3.39</td>\n",
       "      <td>3.59</td>\n",
       "    </tr>\n",
       "    <tr>\n",
       "      <th>2</th>\n",
       "      <td>Perempuan</td>\n",
       "      <td>00042efb-9c8f-11ec-8c04-3a3343etik21</td>\n",
       "      <td>P</td>\n",
       "      <td>N</td>\n",
       "      <td>3.77</td>\n",
       "      <td>3.62</td>\n",
       "      <td>3.40</td>\n",
       "      <td>3.11</td>\n",
       "    </tr>\n",
       "    <tr>\n",
       "      <th>3</th>\n",
       "      <td>Perempuan</td>\n",
       "      <td>00042efb-9c8f-11ec-8c04-3a3343etik21</td>\n",
       "      <td>P</td>\n",
       "      <td>N</td>\n",
       "      <td>3.15</td>\n",
       "      <td>3.45</td>\n",
       "      <td>3.52</td>\n",
       "      <td>3.50</td>\n",
       "    </tr>\n",
       "    <tr>\n",
       "      <th>4</th>\n",
       "      <td>Perempuan</td>\n",
       "      <td>00042efb-9c8f-11ec-8c04-3a3343etik21</td>\n",
       "      <td>P</td>\n",
       "      <td>N</td>\n",
       "      <td>3.64</td>\n",
       "      <td>3.65</td>\n",
       "      <td>3.56</td>\n",
       "      <td>3.72</td>\n",
       "    </tr>\n",
       "  </tbody>\n",
       "</table>\n",
       "</div>"
      ],
      "text/plain": [
       "  jenis_kelamin                              id_prodi  \\\n",
       "0     Perempuan  00042efb-9c8f-11ec-8c04-3a3343etik21   \n",
       "1     Perempuan  00042efb-9c8f-11ec-8c04-3a3343etik21   \n",
       "2     Perempuan  00042efb-9c8f-11ec-8c04-3a3343etik21   \n",
       "3     Perempuan  00042efb-9c8f-11ec-8c04-3a3343etik21   \n",
       "4     Perempuan  00042efb-9c8f-11ec-8c04-3a3343etik21   \n",
       "\n",
       "  id_status_masuk_mahasiswa class  IPS1  IPS2  IPS3  IPS4  \n",
       "0                         P     N  3.32  3.43  3.25  3.27  \n",
       "1                         P     N  3.52  3.48  3.39  3.59  \n",
       "2                         P     N  3.77  3.62  3.40  3.11  \n",
       "3                         P     N  3.15  3.45  3.52  3.50  \n",
       "4                         P     N  3.64  3.65  3.56  3.72  "
      ]
     },
     "execution_count": 290,
     "metadata": {},
     "output_type": "execute_result"
    }
   ],
   "source": [
    "df.head()"
   ]
  },
  {
   "cell_type": "code",
   "execution_count": 292,
   "metadata": {},
   "outputs": [
    {
     "data": {
      "text/html": [
       "<div>\n",
       "<style scoped>\n",
       "    .dataframe tbody tr th:only-of-type {\n",
       "        vertical-align: middle;\n",
       "    }\n",
       "\n",
       "    .dataframe tbody tr th {\n",
       "        vertical-align: top;\n",
       "    }\n",
       "\n",
       "    .dataframe thead th {\n",
       "        text-align: right;\n",
       "    }\n",
       "</style>\n",
       "<table border=\"1\" class=\"dataframe\">\n",
       "  <thead>\n",
       "    <tr style=\"text-align: right;\">\n",
       "      <th></th>\n",
       "      <th>jenis_kelamin</th>\n",
       "      <th>id_prodi</th>\n",
       "      <th>id_status_masuk_mahasiswa</th>\n",
       "      <th>class</th>\n",
       "      <th>IPS1</th>\n",
       "      <th>IPS2</th>\n",
       "      <th>IPS3</th>\n",
       "      <th>IPS4</th>\n",
       "    </tr>\n",
       "  </thead>\n",
       "  <tbody>\n",
       "    <tr>\n",
       "      <th>33</th>\n",
       "      <td>Perempuan</td>\n",
       "      <td>00042efb-9c8f-11ec-8c04-3a334pfuad31</td>\n",
       "      <td>P</td>\n",
       "      <td>L</td>\n",
       "      <td>3.59</td>\n",
       "      <td>3.68</td>\n",
       "      <td>3.64</td>\n",
       "      <td>0.94</td>\n",
       "    </tr>\n",
       "    <tr>\n",
       "      <th>34</th>\n",
       "      <td>Perempuan</td>\n",
       "      <td>00042efb-9c8f-11ec-8c04-3a334pfuad31</td>\n",
       "      <td>P</td>\n",
       "      <td>L</td>\n",
       "      <td>3.45</td>\n",
       "      <td>3.45</td>\n",
       "      <td>3.70</td>\n",
       "      <td>3.66</td>\n",
       "    </tr>\n",
       "    <tr>\n",
       "      <th>35</th>\n",
       "      <td>Perempuan</td>\n",
       "      <td>00042efb-9c8f-11ec-8c04-3a334pfuad31</td>\n",
       "      <td>P</td>\n",
       "      <td>L</td>\n",
       "      <td>3.55</td>\n",
       "      <td>3.68</td>\n",
       "      <td>3.62</td>\n",
       "      <td>0.00</td>\n",
       "    </tr>\n",
       "    <tr>\n",
       "      <th>36</th>\n",
       "      <td>Perempuan</td>\n",
       "      <td>00042efb-9c8f-11ec-8c04-3a334pfuad31</td>\n",
       "      <td>P</td>\n",
       "      <td>L</td>\n",
       "      <td>3.50</td>\n",
       "      <td>3.63</td>\n",
       "      <td>3.82</td>\n",
       "      <td>3.32</td>\n",
       "    </tr>\n",
       "    <tr>\n",
       "      <th>37</th>\n",
       "      <td>Perempuan</td>\n",
       "      <td>00042efb-9c8f-11ec-8c04-3a334pfuad31</td>\n",
       "      <td>P</td>\n",
       "      <td>L</td>\n",
       "      <td>3.60</td>\n",
       "      <td>0.00</td>\n",
       "      <td>3.50</td>\n",
       "      <td>3.16</td>\n",
       "    </tr>\n",
       "  </tbody>\n",
       "</table>\n",
       "</div>"
      ],
      "text/plain": [
       "   jenis_kelamin                              id_prodi  \\\n",
       "33     Perempuan  00042efb-9c8f-11ec-8c04-3a334pfuad31   \n",
       "34     Perempuan  00042efb-9c8f-11ec-8c04-3a334pfuad31   \n",
       "35     Perempuan  00042efb-9c8f-11ec-8c04-3a334pfuad31   \n",
       "36     Perempuan  00042efb-9c8f-11ec-8c04-3a334pfuad31   \n",
       "37     Perempuan  00042efb-9c8f-11ec-8c04-3a334pfuad31   \n",
       "\n",
       "   id_status_masuk_mahasiswa class  IPS1  IPS2  IPS3  IPS4  \n",
       "33                         P     L  3.59  3.68  3.64  0.94  \n",
       "34                         P     L  3.45  3.45  3.70  3.66  \n",
       "35                         P     L  3.55  3.68  3.62  0.00  \n",
       "36                         P     L  3.50  3.63  3.82  3.32  \n",
       "37                         P     L  3.60  0.00  3.50  3.16  "
      ]
     },
     "execution_count": 292,
     "metadata": {},
     "output_type": "execute_result"
    }
   ],
   "source": [
    "# get data class L\n",
    "df_L = df[df['class'] == 'L']\n",
    "df_L.head()"
   ]
  },
  {
   "cell_type": "code",
   "execution_count": 221,
   "metadata": {},
   "outputs": [
    {
     "data": {
      "text/html": [
       "<div>\n",
       "<style scoped>\n",
       "    .dataframe tbody tr th:only-of-type {\n",
       "        vertical-align: middle;\n",
       "    }\n",
       "\n",
       "    .dataframe tbody tr th {\n",
       "        vertical-align: top;\n",
       "    }\n",
       "\n",
       "    .dataframe thead th {\n",
       "        text-align: right;\n",
       "    }\n",
       "</style>\n",
       "<table border=\"1\" class=\"dataframe\">\n",
       "  <thead>\n",
       "    <tr style=\"text-align: right;\">\n",
       "      <th></th>\n",
       "      <th>jenis_kelamin</th>\n",
       "      <th>id_prodi</th>\n",
       "      <th>id_status_masuk_mahasiswa</th>\n",
       "      <th>class</th>\n",
       "      <th>IPS1</th>\n",
       "      <th>IPS2</th>\n",
       "      <th>IPS3</th>\n",
       "      <th>IPS4</th>\n",
       "    </tr>\n",
       "  </thead>\n",
       "  <tbody>\n",
       "    <tr>\n",
       "      <th>0</th>\n",
       "      <td>Perempuan</td>\n",
       "      <td>00042efb-9c8f-11ec-8c04-3a3343etik21</td>\n",
       "      <td>P</td>\n",
       "      <td>0</td>\n",
       "      <td>3.32</td>\n",
       "      <td>3.43</td>\n",
       "      <td>3.25</td>\n",
       "      <td>3.27</td>\n",
       "    </tr>\n",
       "    <tr>\n",
       "      <th>1</th>\n",
       "      <td>Perempuan</td>\n",
       "      <td>00042efb-9c8f-11ec-8c04-3a3343etik21</td>\n",
       "      <td>P</td>\n",
       "      <td>0</td>\n",
       "      <td>3.52</td>\n",
       "      <td>3.48</td>\n",
       "      <td>3.39</td>\n",
       "      <td>3.59</td>\n",
       "    </tr>\n",
       "    <tr>\n",
       "      <th>2</th>\n",
       "      <td>Perempuan</td>\n",
       "      <td>00042efb-9c8f-11ec-8c04-3a3343etik21</td>\n",
       "      <td>P</td>\n",
       "      <td>0</td>\n",
       "      <td>3.77</td>\n",
       "      <td>3.62</td>\n",
       "      <td>3.40</td>\n",
       "      <td>3.11</td>\n",
       "    </tr>\n",
       "    <tr>\n",
       "      <th>3</th>\n",
       "      <td>Perempuan</td>\n",
       "      <td>00042efb-9c8f-11ec-8c04-3a3343etik21</td>\n",
       "      <td>P</td>\n",
       "      <td>0</td>\n",
       "      <td>3.15</td>\n",
       "      <td>3.45</td>\n",
       "      <td>3.52</td>\n",
       "      <td>3.50</td>\n",
       "    </tr>\n",
       "    <tr>\n",
       "      <th>4</th>\n",
       "      <td>Perempuan</td>\n",
       "      <td>00042efb-9c8f-11ec-8c04-3a3343etik21</td>\n",
       "      <td>P</td>\n",
       "      <td>0</td>\n",
       "      <td>3.64</td>\n",
       "      <td>3.65</td>\n",
       "      <td>3.56</td>\n",
       "      <td>3.72</td>\n",
       "    </tr>\n",
       "  </tbody>\n",
       "</table>\n",
       "</div>"
      ],
      "text/plain": [
       "  jenis_kelamin                              id_prodi  \\\n",
       "0     Perempuan  00042efb-9c8f-11ec-8c04-3a3343etik21   \n",
       "1     Perempuan  00042efb-9c8f-11ec-8c04-3a3343etik21   \n",
       "2     Perempuan  00042efb-9c8f-11ec-8c04-3a3343etik21   \n",
       "3     Perempuan  00042efb-9c8f-11ec-8c04-3a3343etik21   \n",
       "4     Perempuan  00042efb-9c8f-11ec-8c04-3a3343etik21   \n",
       "\n",
       "  id_status_masuk_mahasiswa  class  IPS1  IPS2  IPS3  IPS4  \n",
       "0                         P      0  3.32  3.43  3.25  3.27  \n",
       "1                         P      0  3.52  3.48  3.39  3.59  \n",
       "2                         P      0  3.77  3.62  3.40  3.11  \n",
       "3                         P      0  3.15  3.45  3.52  3.50  \n",
       "4                         P      0  3.64  3.65  3.56  3.72  "
      ]
     },
     "execution_count": 221,
     "metadata": {},
     "output_type": "execute_result"
    }
   ],
   "source": [
    "# change class values to 0 and 1\n",
    "df['class'] = df['class'].map({'N': 0, 'L': 1})\n",
    "df.head()"
   ]
  },
  {
   "cell_type": "code",
   "execution_count": 222,
   "metadata": {},
   "outputs": [
    {
     "data": {
      "text/plain": [
       "jenis_kelamin\n",
       "Perempuan    9653\n",
       "Laki-laki     264\n",
       "Name: count, dtype: int64"
      ]
     },
     "execution_count": 222,
     "metadata": {},
     "output_type": "execute_result"
    }
   ],
   "source": [
    "df['jenis_kelamin'].value_counts()"
   ]
  },
  {
   "cell_type": "code",
   "execution_count": 223,
   "metadata": {},
   "outputs": [],
   "source": [
    "# convert id_prodi to integer unique values\n",
    "df['id_prodi'] = df['id_prodi'].astype('category').cat.codes"
   ]
  },
  {
   "cell_type": "code",
   "execution_count": 224,
   "metadata": {},
   "outputs": [
    {
     "data": {
      "text/html": [
       "<div>\n",
       "<style scoped>\n",
       "    .dataframe tbody tr th:only-of-type {\n",
       "        vertical-align: middle;\n",
       "    }\n",
       "\n",
       "    .dataframe tbody tr th {\n",
       "        vertical-align: top;\n",
       "    }\n",
       "\n",
       "    .dataframe thead th {\n",
       "        text-align: right;\n",
       "    }\n",
       "</style>\n",
       "<table border=\"1\" class=\"dataframe\">\n",
       "  <thead>\n",
       "    <tr style=\"text-align: right;\">\n",
       "      <th></th>\n",
       "      <th>jenis_kelamin</th>\n",
       "      <th>id_prodi</th>\n",
       "      <th>id_status_masuk_mahasiswa</th>\n",
       "      <th>class</th>\n",
       "      <th>IPS1</th>\n",
       "      <th>IPS2</th>\n",
       "      <th>IPS3</th>\n",
       "      <th>IPS4</th>\n",
       "    </tr>\n",
       "  </thead>\n",
       "  <tbody>\n",
       "    <tr>\n",
       "      <th>0</th>\n",
       "      <td>Perempuan</td>\n",
       "      <td>1</td>\n",
       "      <td>P</td>\n",
       "      <td>0</td>\n",
       "      <td>3.32</td>\n",
       "      <td>3.43</td>\n",
       "      <td>3.25</td>\n",
       "      <td>3.27</td>\n",
       "    </tr>\n",
       "    <tr>\n",
       "      <th>1</th>\n",
       "      <td>Perempuan</td>\n",
       "      <td>1</td>\n",
       "      <td>P</td>\n",
       "      <td>0</td>\n",
       "      <td>3.52</td>\n",
       "      <td>3.48</td>\n",
       "      <td>3.39</td>\n",
       "      <td>3.59</td>\n",
       "    </tr>\n",
       "    <tr>\n",
       "      <th>2</th>\n",
       "      <td>Perempuan</td>\n",
       "      <td>1</td>\n",
       "      <td>P</td>\n",
       "      <td>0</td>\n",
       "      <td>3.77</td>\n",
       "      <td>3.62</td>\n",
       "      <td>3.40</td>\n",
       "      <td>3.11</td>\n",
       "    </tr>\n",
       "    <tr>\n",
       "      <th>3</th>\n",
       "      <td>Perempuan</td>\n",
       "      <td>1</td>\n",
       "      <td>P</td>\n",
       "      <td>0</td>\n",
       "      <td>3.15</td>\n",
       "      <td>3.45</td>\n",
       "      <td>3.52</td>\n",
       "      <td>3.50</td>\n",
       "    </tr>\n",
       "    <tr>\n",
       "      <th>4</th>\n",
       "      <td>Perempuan</td>\n",
       "      <td>1</td>\n",
       "      <td>P</td>\n",
       "      <td>0</td>\n",
       "      <td>3.64</td>\n",
       "      <td>3.65</td>\n",
       "      <td>3.56</td>\n",
       "      <td>3.72</td>\n",
       "    </tr>\n",
       "  </tbody>\n",
       "</table>\n",
       "</div>"
      ],
      "text/plain": [
       "  jenis_kelamin  id_prodi id_status_masuk_mahasiswa  class  IPS1  IPS2  IPS3  \\\n",
       "0     Perempuan         1                         P      0  3.32  3.43  3.25   \n",
       "1     Perempuan         1                         P      0  3.52  3.48  3.39   \n",
       "2     Perempuan         1                         P      0  3.77  3.62  3.40   \n",
       "3     Perempuan         1                         P      0  3.15  3.45  3.52   \n",
       "4     Perempuan         1                         P      0  3.64  3.65  3.56   \n",
       "\n",
       "   IPS4  \n",
       "0  3.27  \n",
       "1  3.59  \n",
       "2  3.11  \n",
       "3  3.50  \n",
       "4  3.72  "
      ]
     },
     "execution_count": 224,
     "metadata": {},
     "output_type": "execute_result"
    }
   ],
   "source": [
    "df.head()"
   ]
  },
  {
   "cell_type": "code",
   "execution_count": 225,
   "metadata": {},
   "outputs": [],
   "source": [
    "df['jenis_kelamin'] = df['jenis_kelamin'].map({'Laki-laki': 0, 'Perempuan': 1})"
   ]
  },
  {
   "cell_type": "code",
   "execution_count": 226,
   "metadata": {},
   "outputs": [
    {
     "data": {
      "text/plain": [
       "id_status_masuk_mahasiswa\n",
       "P    8844\n",
       "B    1073\n",
       "Name: count, dtype: int64"
      ]
     },
     "execution_count": 226,
     "metadata": {},
     "output_type": "execute_result"
    }
   ],
   "source": [
    "df['id_status_masuk_mahasiswa'].value_counts()"
   ]
  },
  {
   "cell_type": "code",
   "execution_count": 227,
   "metadata": {},
   "outputs": [],
   "source": [
    "df['id_status_masuk_mahasiswa'] = df['id_status_masuk_mahasiswa'].map({'P': 0, 'B': 1, 'M': 2})"
   ]
  },
  {
   "cell_type": "code",
   "execution_count": 228,
   "metadata": {},
   "outputs": [
    {
     "data": {
      "text/html": [
       "<div>\n",
       "<style scoped>\n",
       "    .dataframe tbody tr th:only-of-type {\n",
       "        vertical-align: middle;\n",
       "    }\n",
       "\n",
       "    .dataframe tbody tr th {\n",
       "        vertical-align: top;\n",
       "    }\n",
       "\n",
       "    .dataframe thead th {\n",
       "        text-align: right;\n",
       "    }\n",
       "</style>\n",
       "<table border=\"1\" class=\"dataframe\">\n",
       "  <thead>\n",
       "    <tr style=\"text-align: right;\">\n",
       "      <th></th>\n",
       "      <th>jenis_kelamin</th>\n",
       "      <th>id_prodi</th>\n",
       "      <th>id_status_masuk_mahasiswa</th>\n",
       "      <th>class</th>\n",
       "      <th>IPS1</th>\n",
       "      <th>IPS2</th>\n",
       "      <th>IPS3</th>\n",
       "      <th>IPS4</th>\n",
       "    </tr>\n",
       "  </thead>\n",
       "  <tbody>\n",
       "    <tr>\n",
       "      <th>0</th>\n",
       "      <td>1</td>\n",
       "      <td>1</td>\n",
       "      <td>0</td>\n",
       "      <td>0</td>\n",
       "      <td>3.32</td>\n",
       "      <td>3.43</td>\n",
       "      <td>3.25</td>\n",
       "      <td>3.27</td>\n",
       "    </tr>\n",
       "    <tr>\n",
       "      <th>1</th>\n",
       "      <td>1</td>\n",
       "      <td>1</td>\n",
       "      <td>0</td>\n",
       "      <td>0</td>\n",
       "      <td>3.52</td>\n",
       "      <td>3.48</td>\n",
       "      <td>3.39</td>\n",
       "      <td>3.59</td>\n",
       "    </tr>\n",
       "    <tr>\n",
       "      <th>2</th>\n",
       "      <td>1</td>\n",
       "      <td>1</td>\n",
       "      <td>0</td>\n",
       "      <td>0</td>\n",
       "      <td>3.77</td>\n",
       "      <td>3.62</td>\n",
       "      <td>3.40</td>\n",
       "      <td>3.11</td>\n",
       "    </tr>\n",
       "    <tr>\n",
       "      <th>3</th>\n",
       "      <td>1</td>\n",
       "      <td>1</td>\n",
       "      <td>0</td>\n",
       "      <td>0</td>\n",
       "      <td>3.15</td>\n",
       "      <td>3.45</td>\n",
       "      <td>3.52</td>\n",
       "      <td>3.50</td>\n",
       "    </tr>\n",
       "    <tr>\n",
       "      <th>4</th>\n",
       "      <td>1</td>\n",
       "      <td>1</td>\n",
       "      <td>0</td>\n",
       "      <td>0</td>\n",
       "      <td>3.64</td>\n",
       "      <td>3.65</td>\n",
       "      <td>3.56</td>\n",
       "      <td>3.72</td>\n",
       "    </tr>\n",
       "  </tbody>\n",
       "</table>\n",
       "</div>"
      ],
      "text/plain": [
       "   jenis_kelamin  id_prodi  id_status_masuk_mahasiswa  class  IPS1  IPS2  \\\n",
       "0              1         1                          0      0  3.32  3.43   \n",
       "1              1         1                          0      0  3.52  3.48   \n",
       "2              1         1                          0      0  3.77  3.62   \n",
       "3              1         1                          0      0  3.15  3.45   \n",
       "4              1         1                          0      0  3.64  3.65   \n",
       "\n",
       "   IPS3  IPS4  \n",
       "0  3.25  3.27  \n",
       "1  3.39  3.59  \n",
       "2  3.40  3.11  \n",
       "3  3.52  3.50  \n",
       "4  3.56  3.72  "
      ]
     },
     "execution_count": 228,
     "metadata": {},
     "output_type": "execute_result"
    }
   ],
   "source": [
    "df.head()"
   ]
  },
  {
   "cell_type": "code",
   "execution_count": 229,
   "metadata": {},
   "outputs": [
    {
     "data": {
      "image/png": "[encoded data removed]",
      "text/plain": [
       "<Figure size 3000x2500 with 9 Axes>"
      ]
     },
     "metadata": {},
     "output_type": "display_data"
    }
   ],
   "source": [
    "plt.rcParams['figure.figsize']=(30,25)\n",
    "\n",
    "df.hist()\n",
    "\n",
    "plt.show()"
   ]
  },
  {
   "cell_type": "code",
   "execution_count": 230,
   "metadata": {},
   "outputs": [],
   "source": [
    "# plot correlation matrix\n",
    "corr = df.corr()"
   ]
  },
  {
   "cell_type": "code",
   "execution_count": 231,
   "metadata": {},
   "outputs": [
    {
     "data": {
      "text/plain": [
       "class                        1.000000\n",
       "id_prodi                     0.966425\n",
       "jenis_kelamin                0.199004\n",
       "IPS4                         0.014746\n",
       "IPS3                         0.011263\n",
       "IPS1                         0.009136\n",
       "IPS2                         0.005766\n",
       "id_status_masuk_mahasiswa   -0.419146\n",
       "Name: class, dtype: float64"
      ]
     },
     "execution_count": 231,
     "metadata": {},
     "output_type": "execute_result"
    }
   ],
   "source": [
    "corr['class'].sort_values(ascending=False)"
   ]
  },
  {
   "cell_type": "code",
   "execution_count": 232,
   "metadata": {},
   "outputs": [
    {
     "data": {
      "image/png": "[encoded data removed]",
      "text/plain": [
       "<Figure size 2000x2000 with 2 Axes>"
      ]
     },
     "metadata": {},
     "output_type": "display_data"
    }
   ],
   "source": [
    "plt.figure(figsize=(20, 20))\n",
    "plt.title('Correlation Matrix')\n",
    "a = sns.heatmap(corr, square=True, annot=True, fmt='.2f', linecolor='white')\n",
    "a.set_xticklabels(a.get_xticklabels(), rotation=90)\n",
    "a.set_yticklabels(a.get_yticklabels(), rotation=30)\n",
    "plt.show()\n"
   ]
  },
  {
   "cell_type": "code",
   "execution_count": 233,
   "metadata": {},
   "outputs": [],
   "source": [
    "X = df.drop(['class'], axis=1)\n",
    "\n",
    "y = df['class']"
   ]
  },
  {
   "cell_type": "code",
   "execution_count": 234,
   "metadata": {},
   "outputs": [
    {
     "name": "stdout",
     "output_type": "stream",
     "text": [
      "Defaulting to user installation because normal site-packages is not writeable\n",
      "Requirement already satisfied: scikit-learn in /Users/siibnu/Library/Python/3.9/lib/python/site-packages (1.3.2)\n",
      "Requirement already satisfied: numpy<2.0,>=1.17.3 in /Users/siibnu/Library/Python/3.9/lib/python/site-packages (from scikit-learn) (1.26.3)\n",
      "Requirement already satisfied: scipy>=1.5.0 in /Users/siibnu/Library/Python/3.9/lib/python/site-packages (from scikit-learn) (1.11.4)\n",
      "Requirement already satisfied: joblib>=1.1.1 in /Users/siibnu/Library/Python/3.9/lib/python/site-packages (from scikit-learn) (1.3.2)\n",
      "Requirement already satisfied: threadpoolctl>=2.0.0 in /Users/siibnu/Library/Python/3.9/lib/python/site-packages (from scikit-learn) (3.2.0)\n"
     ]
    }
   ],
   "source": [
    "!pip3 install -U scikit-learn  "
   ]
  },
  {
   "cell_type": "code",
   "execution_count": 235,
   "metadata": {},
   "outputs": [],
   "source": [
    "from sklearn.model_selection import train_test_split\n",
    "\n",
    "X_train, X_test, y_train, y_test = train_test_split(X, y, test_size = 0.2, random_state = 0)"
   ]
  },
  {
   "cell_type": "code",
   "execution_count": 236,
   "metadata": {},
   "outputs": [
    {
     "data": {
      "text/plain": [
       "((7933, 7), (1984, 7))"
      ]
     },
     "execution_count": 236,
     "metadata": {},
     "output_type": "execute_result"
    }
   ],
   "source": [
    "# check the shape of X_train and X_test\n",
    "\n",
    "X_train.shape, X_test.shape"
   ]
  },
  {
   "cell_type": "code",
   "execution_count": 237,
   "metadata": {},
   "outputs": [
    {
     "data": {
      "text/plain": [
       "jenis_kelamin                  int64\n",
       "id_prodi                        int8\n",
       "id_status_masuk_mahasiswa      int64\n",
       "IPS1                         float64\n",
       "IPS2                         float64\n",
       "IPS3                         float64\n",
       "IPS4                         float64\n",
       "dtype: object"
      ]
     },
     "execution_count": 237,
     "metadata": {},
     "output_type": "execute_result"
    }
   ],
   "source": [
    "# check data types in X_train\n",
    "\n",
    "X_train.dtypes"
   ]
  },
  {
   "cell_type": "code",
   "execution_count": 238,
   "metadata": {},
   "outputs": [
    {
     "data": {
      "text/plain": [
       "jenis_kelamin                0\n",
       "id_prodi                     0\n",
       "id_status_masuk_mahasiswa    0\n",
       "IPS1                         0\n",
       "IPS2                         0\n",
       "IPS3                         0\n",
       "IPS4                         0\n",
       "dtype: int64"
      ]
     },
     "execution_count": 238,
     "metadata": {},
     "output_type": "execute_result"
    }
   ],
   "source": [
    "# check missing values in numerical variables in X_train\n",
    "\n",
    "X_train.isnull().sum()"
   ]
  },
  {
   "cell_type": "code",
   "execution_count": 239,
   "metadata": {},
   "outputs": [
    {
     "data": {
      "text/html": [
       "<div>\n",
       "<style scoped>\n",
       "    .dataframe tbody tr th:only-of-type {\n",
       "        vertical-align: middle;\n",
       "    }\n",
       "\n",
       "    .dataframe tbody tr th {\n",
       "        vertical-align: top;\n",
       "    }\n",
       "\n",
       "    .dataframe thead th {\n",
       "        text-align: right;\n",
       "    }\n",
       "</style>\n",
       "<table border=\"1\" class=\"dataframe\">\n",
       "  <thead>\n",
       "    <tr style=\"text-align: right;\">\n",
       "      <th></th>\n",
       "      <th>jenis_kelamin</th>\n",
       "      <th>id_prodi</th>\n",
       "      <th>id_status_masuk_mahasiswa</th>\n",
       "      <th>IPS1</th>\n",
       "      <th>IPS2</th>\n",
       "      <th>IPS3</th>\n",
       "      <th>IPS4</th>\n",
       "    </tr>\n",
       "  </thead>\n",
       "  <tbody>\n",
       "    <tr>\n",
       "      <th>8598</th>\n",
       "      <td>1</td>\n",
       "      <td>1</td>\n",
       "      <td>0</td>\n",
       "      <td>3.74</td>\n",
       "      <td>3.73</td>\n",
       "      <td>3.77</td>\n",
       "      <td>3.83</td>\n",
       "    </tr>\n",
       "    <tr>\n",
       "      <th>7390</th>\n",
       "      <td>1</td>\n",
       "      <td>5</td>\n",
       "      <td>0</td>\n",
       "      <td>3.68</td>\n",
       "      <td>3.52</td>\n",
       "      <td>3.64</td>\n",
       "      <td>3.57</td>\n",
       "    </tr>\n",
       "    <tr>\n",
       "      <th>189</th>\n",
       "      <td>1</td>\n",
       "      <td>5</td>\n",
       "      <td>0</td>\n",
       "      <td>3.55</td>\n",
       "      <td>3.72</td>\n",
       "      <td>3.67</td>\n",
       "      <td>3.77</td>\n",
       "    </tr>\n",
       "    <tr>\n",
       "      <th>6456</th>\n",
       "      <td>1</td>\n",
       "      <td>5</td>\n",
       "      <td>0</td>\n",
       "      <td>3.50</td>\n",
       "      <td>3.42</td>\n",
       "      <td>3.70</td>\n",
       "      <td>3.59</td>\n",
       "    </tr>\n",
       "    <tr>\n",
       "      <th>5894</th>\n",
       "      <td>1</td>\n",
       "      <td>5</td>\n",
       "      <td>0</td>\n",
       "      <td>4.00</td>\n",
       "      <td>0.00</td>\n",
       "      <td>0.00</td>\n",
       "      <td>0.00</td>\n",
       "    </tr>\n",
       "  </tbody>\n",
       "</table>\n",
       "</div>"
      ],
      "text/plain": [
       "      jenis_kelamin  id_prodi  id_status_masuk_mahasiswa  IPS1  IPS2  IPS3  \\\n",
       "8598              1         1                          0  3.74  3.73  3.77   \n",
       "7390              1         5                          0  3.68  3.52  3.64   \n",
       "189               1         5                          0  3.55  3.72  3.67   \n",
       "6456              1         5                          0  3.50  3.42  3.70   \n",
       "5894              1         5                          0  4.00  0.00  0.00   \n",
       "\n",
       "      IPS4  \n",
       "8598  3.83  \n",
       "7390  3.57  \n",
       "189   3.77  \n",
       "6456  3.59  \n",
       "5894  0.00  "
      ]
     },
     "execution_count": 239,
     "metadata": {},
     "output_type": "execute_result"
    }
   ],
   "source": [
    "X_train.head()"
   ]
  },
  {
   "cell_type": "code",
   "execution_count": 240,
   "metadata": {},
   "outputs": [
    {
     "data": {
      "text/plain": [
       "Index(['jenis_kelamin', 'id_prodi', 'id_status_masuk_mahasiswa', 'IPS1',\n",
       "       'IPS2', 'IPS3', 'IPS4'],\n",
       "      dtype='object')"
      ]
     },
     "execution_count": 240,
     "metadata": {},
     "output_type": "execute_result"
    }
   ],
   "source": [
    "cols = X_train.columns\n",
    "cols"
   ]
  },
  {
   "cell_type": "code",
   "execution_count": 241,
   "metadata": {},
   "outputs": [],
   "source": [
    "# from sklearn.preprocessing import StandardScaler\n",
    "\n",
    "# scaler = StandardScaler()\n",
    "\n",
    "# X_train = scaler.fit_transform(X_train)\n",
    "\n",
    "# X_test = scaler.transform(X_test)"
   ]
  },
  {
   "cell_type": "code",
   "execution_count": 242,
   "metadata": {},
   "outputs": [],
   "source": [
    "# X_train = pd.DataFrame(X_train, columns=[cols])"
   ]
  },
  {
   "cell_type": "code",
   "execution_count": 243,
   "metadata": {},
   "outputs": [],
   "source": [
    "# X_test = pd.DataFrame(X_test, columns=[cols])"
   ]
  },
  {
   "cell_type": "code",
   "execution_count": 244,
   "metadata": {},
   "outputs": [
    {
     "data": {
      "text/html": [
       "<div>\n",
       "<style scoped>\n",
       "    .dataframe tbody tr th:only-of-type {\n",
       "        vertical-align: middle;\n",
       "    }\n",
       "\n",
       "    .dataframe tbody tr th {\n",
       "        vertical-align: top;\n",
       "    }\n",
       "\n",
       "    .dataframe thead th {\n",
       "        text-align: right;\n",
       "    }\n",
       "</style>\n",
       "<table border=\"1\" class=\"dataframe\">\n",
       "  <thead>\n",
       "    <tr style=\"text-align: right;\">\n",
       "      <th></th>\n",
       "      <th>jenis_kelamin</th>\n",
       "      <th>id_prodi</th>\n",
       "      <th>id_status_masuk_mahasiswa</th>\n",
       "      <th>IPS1</th>\n",
       "      <th>IPS2</th>\n",
       "      <th>IPS3</th>\n",
       "      <th>IPS4</th>\n",
       "    </tr>\n",
       "  </thead>\n",
       "  <tbody>\n",
       "    <tr>\n",
       "      <th>8598</th>\n",
       "      <td>1</td>\n",
       "      <td>1</td>\n",
       "      <td>0</td>\n",
       "      <td>3.74</td>\n",
       "      <td>3.73</td>\n",
       "      <td>3.77</td>\n",
       "      <td>3.83</td>\n",
       "    </tr>\n",
       "    <tr>\n",
       "      <th>7390</th>\n",
       "      <td>1</td>\n",
       "      <td>5</td>\n",
       "      <td>0</td>\n",
       "      <td>3.68</td>\n",
       "      <td>3.52</td>\n",
       "      <td>3.64</td>\n",
       "      <td>3.57</td>\n",
       "    </tr>\n",
       "    <tr>\n",
       "      <th>189</th>\n",
       "      <td>1</td>\n",
       "      <td>5</td>\n",
       "      <td>0</td>\n",
       "      <td>3.55</td>\n",
       "      <td>3.72</td>\n",
       "      <td>3.67</td>\n",
       "      <td>3.77</td>\n",
       "    </tr>\n",
       "    <tr>\n",
       "      <th>6456</th>\n",
       "      <td>1</td>\n",
       "      <td>5</td>\n",
       "      <td>0</td>\n",
       "      <td>3.50</td>\n",
       "      <td>3.42</td>\n",
       "      <td>3.70</td>\n",
       "      <td>3.59</td>\n",
       "    </tr>\n",
       "    <tr>\n",
       "      <th>5894</th>\n",
       "      <td>1</td>\n",
       "      <td>5</td>\n",
       "      <td>0</td>\n",
       "      <td>4.00</td>\n",
       "      <td>0.00</td>\n",
       "      <td>0.00</td>\n",
       "      <td>0.00</td>\n",
       "    </tr>\n",
       "  </tbody>\n",
       "</table>\n",
       "</div>"
      ],
      "text/plain": [
       "      jenis_kelamin  id_prodi  id_status_masuk_mahasiswa  IPS1  IPS2  IPS3  \\\n",
       "8598              1         1                          0  3.74  3.73  3.77   \n",
       "7390              1         5                          0  3.68  3.52  3.64   \n",
       "189               1         5                          0  3.55  3.72  3.67   \n",
       "6456              1         5                          0  3.50  3.42  3.70   \n",
       "5894              1         5                          0  4.00  0.00  0.00   \n",
       "\n",
       "      IPS4  \n",
       "8598  3.83  \n",
       "7390  3.57  \n",
       "189   3.77  \n",
       "6456  3.59  \n",
       "5894  0.00  "
      ]
     },
     "execution_count": 244,
     "metadata": {},
     "output_type": "execute_result"
    }
   ],
   "source": [
    "X_train.head()"
   ]
  },
  {
   "cell_type": "code",
   "execution_count": 245,
   "metadata": {},
   "outputs": [
    {
     "data": {
      "text/html": [
       "<style>#sk-container-id-3 {color: black;}#sk-container-id-3 pre{padding: 0;}#sk-container-id-3 div.sk-toggleable {background-color: white;}#sk-container-id-3 label.sk-toggleable__label {cursor: pointer;display: block;width: 100%;margin-bottom: 0;padding: 0.3em;box-sizing: border-box;text-align: center;}#sk-container-id-3 label.sk-toggleable__label-arrow:before {content: \"▸\";float: left;margin-right: 0.25em;color: #696969;}#sk-container-id-3 label.sk-toggleable__label-arrow:hover:before {color: black;}#sk-container-id-3 div.sk-estimator:hover label.sk-toggleable__label-arrow:before {color: black;}#sk-container-id-3 div.sk-toggleable__content {max-height: 0;max-width: 0;overflow: hidden;text-align: left;background-color: #f0f8ff;}#sk-container-id-3 div.sk-toggleable__content pre {margin: 0.2em;color: black;border-radius: 0.25em;background-color: #f0f8ff;}#sk-container-id-3 input.sk-toggleable__control:checked~div.sk-toggleable__content {max-height: 200px;max-width: 100%;overflow: auto;}#sk-container-id-3 input.sk-toggleable__control:checked~label.sk-toggleable__label-arrow:before {content: \"▾\";}#sk-container-id-3 div.sk-estimator input.sk-toggleable__control:checked~label.sk-toggleable__label {background-color: #d4ebff;}#sk-container-id-3 div.sk-label input.sk-toggleable__control:checked~label.sk-toggleable__label {background-color: #d4ebff;}#sk-container-id-3 input.sk-hidden--visually {border: 0;clip: rect(1px 1px 1px 1px);clip: rect(1px, 1px, 1px, 1px);height: 1px;margin: -1px;overflow: hidden;padding: 0;position: absolute;width: 1px;}#sk-container-id-3 div.sk-estimator {font-family: monospace;background-color: #f0f8ff;border: 1px dotted black;border-radius: 0.25em;box-sizing: border-box;margin-bottom: 0.5em;}#sk-container-id-3 div.sk-estimator:hover {background-color: #d4ebff;}#sk-container-id-3 div.sk-parallel-item::after {content: \"\";width: 100%;border-bottom: 1px solid gray;flex-grow: 1;}#sk-container-id-3 div.sk-label:hover label.sk-toggleable__label {background-color: #d4ebff;}#sk-container-id-3 div.sk-serial::before {content: \"\";position: absolute;border-left: 1px solid gray;box-sizing: border-box;top: 0;bottom: 0;left: 50%;z-index: 0;}#sk-container-id-3 div.sk-serial {display: flex;flex-direction: column;align-items: center;background-color: white;padding-right: 0.2em;padding-left: 0.2em;position: relative;}#sk-container-id-3 div.sk-item {position: relative;z-index: 1;}#sk-container-id-3 div.sk-parallel {display: flex;align-items: stretch;justify-content: center;background-color: white;position: relative;}#sk-container-id-3 div.sk-item::before, #sk-container-id-3 div.sk-parallel-item::before {content: \"\";position: absolute;border-left: 1px solid gray;box-sizing: border-box;top: 0;bottom: 0;left: 50%;z-index: -1;}#sk-container-id-3 div.sk-parallel-item {display: flex;flex-direction: column;z-index: 1;position: relative;background-color: white;}#sk-container-id-3 div.sk-parallel-item:first-child::after {align-self: flex-end;width: 50%;}#sk-container-id-3 div.sk-parallel-item:last-child::after {align-self: flex-start;width: 50%;}#sk-container-id-3 div.sk-parallel-item:only-child::after {width: 0;}#sk-container-id-3 div.sk-dashed-wrapped {border: 1px dashed gray;margin: 0 0.4em 0.5em 0.4em;box-sizing: border-box;padding-bottom: 0.4em;background-color: white;}#sk-container-id-3 div.sk-label label {font-family: monospace;font-weight: bold;display: inline-block;line-height: 1.2em;}#sk-container-id-3 div.sk-label-container {text-align: center;}#sk-container-id-3 div.sk-container {/* jupyter's `normalize.less` sets `[hidden] { display: none; }` but bootstrap.min.css set `[hidden] { display: none !important; }` so we also need the `!important` here to be able to override the default hidden behavior on the sphinx rendered scikit-learn.org. See: https://github.com/scikit-learn/scikit-learn/issues/21755 */display: inline-block !important;position: relative;}#sk-container-id-3 div.sk-text-repr-fallback {display: none;}</style><div id=\"sk-container-id-3\" class=\"sk-top-container\"><div class=\"sk-text-repr-fallback\"><pre>KNeighborsClassifier(n_neighbors=3)</pre><b>In a Jupyter environment, please rerun this cell to show the HTML representation or trust the notebook. <br />On GitHub, the HTML representation is unable to render, please try loading this page with nbviewer.org.</b></div><div class=\"sk-container\" hidden><div class=\"sk-item\"><div class=\"sk-estimator sk-toggleable\"><input class=\"sk-toggleable__control sk-hidden--visually\" id=\"sk-estimator-id-3\" type=\"checkbox\" checked><label for=\"sk-estimator-id-3\" class=\"sk-toggleable__label sk-toggleable__label-arrow\">KNeighborsClassifier</label><div class=\"sk-toggleable__content\"><pre>KNeighborsClassifier(n_neighbors=3)</pre></div></div></div></div></div>"
      ],
      "text/plain": [
       "KNeighborsClassifier(n_neighbors=3)"
      ]
     },
     "execution_count": 245,
     "metadata": {},
     "output_type": "execute_result"
    }
   ],
   "source": [
    "# import KNeighbors ClaSSifier from sklearn\n",
    "from sklearn.neighbors import KNeighborsClassifier\n",
    "\n",
    "\n",
    "# instantiate the model\n",
    "knn = KNeighborsClassifier(n_neighbors=3)\n",
    "\n",
    "\n",
    "# fit the model to the training set\n",
    "knn.fit(X_train, y_train)"
   ]
  },
  {
   "cell_type": "code",
   "execution_count": 246,
   "metadata": {},
   "outputs": [
    {
     "data": {
      "text/plain": [
       "array([1, 0, 0, ..., 0, 0, 0])"
      ]
     },
     "execution_count": 246,
     "metadata": {},
     "output_type": "execute_result"
    }
   ],
   "source": [
    "y_pred = knn.predict(X_test)\n",
    "\n",
    "y_pred"
   ]
  },
  {
   "cell_type": "code",
   "execution_count": 247,
   "metadata": {},
   "outputs": [
    {
     "data": {
      "text/plain": [
       "array([0., 1., 1., ..., 1., 1., 1.])"
      ]
     },
     "execution_count": 247,
     "metadata": {},
     "output_type": "execute_result"
    }
   ],
   "source": [
    "knn.predict_proba(X_test)[:,0]"
   ]
  },
  {
   "cell_type": "code",
   "execution_count": 248,
   "metadata": {},
   "outputs": [
    {
     "name": "stdout",
     "output_type": "stream",
     "text": [
      "Model accuracy score: 1.0000\n"
     ]
    }
   ],
   "source": [
    "from sklearn.metrics import accuracy_score\n",
    "\n",
    "print('Model accuracy score: {0:0.4f}'. format(accuracy_score(y_test, y_pred)))"
   ]
  },
  {
   "cell_type": "code",
   "execution_count": 249,
   "metadata": {},
   "outputs": [
    {
     "name": "stdout",
     "output_type": "stream",
     "text": [
      "Training set score: 0.9999\n",
      "Test set score: 1.0000\n"
     ]
    }
   ],
   "source": [
    "# print the scores on training and test set\n",
    "\n",
    "print('Training set score: {:.4f}'.format(knn.score(X_train, y_train)))\n",
    "\n",
    "print('Test set score: {:.4f}'.format(knn.score(X_test, y_test)))"
   ]
  },
  {
   "cell_type": "code",
   "execution_count": 250,
   "metadata": {},
   "outputs": [
    {
     "data": {
      "text/plain": [
       "class\n",
       "1    1150\n",
       "0     834\n",
       "Name: count, dtype: int64"
      ]
     },
     "execution_count": 250,
     "metadata": {},
     "output_type": "execute_result"
    }
   ],
   "source": [
    "# check class distribution in test set\n",
    "\n",
    "y_test.value_counts()"
   ]
  },
  {
   "cell_type": "code",
   "execution_count": 251,
   "metadata": {},
   "outputs": [
    {
     "name": "stdout",
     "output_type": "stream",
     "text": [
      "Confusion matrix\n",
      "\n",
      " [[ 834    0]\n",
      " [   0 1150]]\n",
      "\n",
      "True Positives(TP) =  834\n",
      "\n",
      "True Negatives(TN) =  1150\n",
      "\n",
      "False Positives(FP) =  0\n",
      "\n",
      "False Negatives(FN) =  0\n"
     ]
    }
   ],
   "source": [
    "from sklearn.metrics import confusion_matrix\n",
    "\n",
    "cm = confusion_matrix(y_test, y_pred)\n",
    "\n",
    "print('Confusion matrix\\n\\n', cm)\n",
    "\n",
    "print('\\nTrue Positives(TP) = ', cm[0,0])\n",
    "\n",
    "print('\\nTrue Negatives(TN) = ', cm[1,1])\n",
    "\n",
    "print('\\nFalse Positives(FP) = ', cm[0,1])\n",
    "\n",
    "print('\\nFalse Negatives(FN) = ', cm[1,0])"
   ]
  },
  {
   "cell_type": "code",
   "execution_count": 252,
   "metadata": {},
   "outputs": [
    {
     "data": {
      "text/plain": [
       "<Axes: >"
      ]
     },
     "execution_count": 252,
     "metadata": {},
     "output_type": "execute_result"
    },
    {
     "data": {
      "image/png": "[encoded data removed]",
      "text/plain": [
       "<Figure size 600x400 with 2 Axes>"
      ]
     },
     "metadata": {},
     "output_type": "display_data"
    }
   ],
   "source": [
    "# visualize confusion matrix with seaborn heatmap\n",
    "\n",
    "plt.figure(figsize=(6,4))\n",
    "\n",
    "cm_matrix = pd.DataFrame(data=cm, columns=['Actual Positive:1', 'Actual Negative:0'], \n",
    "                                 index=['Predict Positive:1', 'Predict Negative:0'])\n",
    "\n",
    "sns.heatmap(cm_matrix, annot=True, fmt='d', cmap='YlGnBu')"
   ]
  },
  {
   "cell_type": "code",
   "execution_count": 253,
   "metadata": {},
   "outputs": [
    {
     "name": "stdout",
     "output_type": "stream",
     "text": [
      "              precision    recall  f1-score   support\n",
      "\n",
      "           0       1.00      1.00      1.00       834\n",
      "           1       1.00      1.00      1.00      1150\n",
      "\n",
      "    accuracy                           1.00      1984\n",
      "   macro avg       1.00      1.00      1.00      1984\n",
      "weighted avg       1.00      1.00      1.00      1984\n",
      "\n"
     ]
    }
   ],
   "source": [
    "from sklearn.metrics import classification_report\n",
    "\n",
    "print(classification_report(y_test, y_pred))"
   ]
  },
  {
   "cell_type": "code",
   "execution_count": 254,
   "metadata": {},
   "outputs": [],
   "source": [
    "TP = cm[0,0]\n",
    "TN = cm[1,1]\n",
    "FP = cm[0,1]\n",
    "FN = cm[1,0]"
   ]
  },
  {
   "cell_type": "code",
   "execution_count": 255,
   "metadata": {},
   "outputs": [
    {
     "name": "stdout",
     "output_type": "stream",
     "text": [
      "Classification accuracy : 1.0000\n"
     ]
    }
   ],
   "source": [
    "classification_accuracy = (TP + TN) / float(TP + TN + FP + FN)\n",
    "\n",
    "print('Classification accuracy : {0:0.4f}'.format(classification_accuracy))"
   ]
  },
  {
   "cell_type": "code",
   "execution_count": 256,
   "metadata": {},
   "outputs": [
    {
     "name": "stdout",
     "output_type": "stream",
     "text": [
      "Classification error : 0.0000\n"
     ]
    }
   ],
   "source": [
    "# print classification error\n",
    "\n",
    "classification_error = (FP + FN) / float(TP + TN + FP + FN)\n",
    "\n",
    "print('Classification error : {0:0.4f}'.format(classification_error))"
   ]
  },
  {
   "cell_type": "code",
   "execution_count": 257,
   "metadata": {},
   "outputs": [
    {
     "name": "stdout",
     "output_type": "stream",
     "text": [
      "Recall or Sensitivity : 1.0000\n"
     ]
    }
   ],
   "source": [
    "recall = TP / float(TP + FN)\n",
    "\n",
    "print('Recall or Sensitivity : {0:0.4f}'.format(recall))"
   ]
  },
  {
   "cell_type": "code",
   "execution_count": 258,
   "metadata": {},
   "outputs": [
    {
     "data": {
      "text/plain": [
       "['model.pkl']"
      ]
     },
     "execution_count": 258,
     "metadata": {},
     "output_type": "execute_result"
    }
   ],
   "source": [
    "# export model\n",
    "import joblib\n",
    "\n",
    "joblib.dump(knn, 'model.pkl')\n"
   ]
  },
  {
   "cell_type": "code",
   "execution_count": 259,
   "metadata": {},
   "outputs": [
    {
     "data": {
      "text/plain": [
       "Index(['jenis_kelamin', 'id_prodi', 'id_status_masuk_mahasiswa', 'IPS1',\n",
       "       'IPS2', 'IPS3', 'IPS4'],\n",
       "      dtype='object')"
      ]
     },
     "execution_count": 259,
     "metadata": {},
     "output_type": "execute_result"
    }
   ],
   "source": [
    "X_train.columns"
   ]
  },
  {
   "cell_type": "code",
   "execution_count": 273,
   "metadata": {},
   "outputs": [],
   "source": [
    "# make predictions for new data with input\n",
    "input_data = (1, 1, 0, 4, 3.0, 4, 4)"
   ]
  },
  {
   "cell_type": "code",
   "execution_count": 274,
   "metadata": {},
   "outputs": [],
   "source": [
    "# load model\n",
    "model = joblib.load('model.pkl')"
   ]
  },
  {
   "cell_type": "code",
   "execution_count": 275,
   "metadata": {},
   "outputs": [
    {
     "name": "stdout",
     "output_type": "stream",
     "text": [
      "Mahasiswa tidak lulus\n"
     ]
    },
    {
     "name": "stderr",
     "output_type": "stream",
     "text": [
      "/Users/siibnu/Library/Python/3.9/lib/python/site-packages/sklearn/base.py:465: UserWarning: X does not have valid feature names, but KNeighborsClassifier was fitted with feature names\n",
      "  warnings.warn(\n"
     ]
    }
   ],
   "source": [
    "# predict data\n",
    "prediction = model.predict([input_data])\n",
    "\n",
    "if prediction == 0:\n",
    "    print('Mahasiswa tidak lulus')\n",
    "else:\n",
    "    print('Mahasiswa lulus')"
   ]
  }
 ],
 "metadata": {
  "kernelspec": {
   "display_name": "Python 3",
   "language": "python",
   "name": "python3"
  },
  "language_info": {
   "codemirror_mode": {
    "name": "ipython",
    "version": 3
   },
   "file_extension": ".py",
   "mimetype": "text/x-python",
   "name": "python",
   "nbconvert_exporter": "python",
   "pygments_lexer": "ipython3",
   "version": "3.9.6"
  }
 },
 "nbformat": 4,
 "nbformat_minor": 2
}
